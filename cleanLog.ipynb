{
 "cells": [
  {
   "cell_type": "code",
   "execution_count": 3,
   "id": "873495e9",
   "metadata": {},
   "outputs": [],
   "source": [
    "from nbformat import read, write\n",
    "\n",
    "def Remove_Output(Book):\n",
    "\n",
    "    for cell in Book.cells:\n",
    "\n",
    "        if hasattr(cell, \"outputs\"):\n",
    "\n",
    "            cell.outputs = []\n",
    "\n",
    "        if hasattr(cell, \"prompt_number\"):\n",
    "\n",
    "            del cell[\"prompt_number\"]\n",
    "\n",
    "Book= read(open(\"6c_ML_XGBModel_trainValTest.ipynb\", encoding=\"utf-8\"), 4)\n",
    "Remove_Output(Book)\n",
    "write(Book, open(\"6c_ML_XGBModel_trainValTest.ipynb\", \"w\"), 4)"
   ]
  },
  {
   "cell_type": "code",
   "execution_count": null,
   "id": "7ad0e312",
   "metadata": {},
   "outputs": [],
   "source": []
  }
 ],
 "metadata": {
  "kernelspec": {
   "display_name": "Python 3 (ipykernel)",
   "language": "python",
   "name": "python3"
  },
  "language_info": {
   "codemirror_mode": {
    "name": "ipython",
    "version": 3
   },
   "file_extension": ".py",
   "mimetype": "text/x-python",
   "name": "python",
   "nbconvert_exporter": "python",
   "pygments_lexer": "ipython3",
   "version": "3.9.12"
  }
 },
 "nbformat": 4,
 "nbformat_minor": 5
}
