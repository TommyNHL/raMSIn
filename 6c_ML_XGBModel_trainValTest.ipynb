{
 "cells": [
  {
   "cell_type": "code",
   "execution_count": 1,
   "id": "b137a905",
   "metadata": {},
   "outputs": [
    {
     "name": "stdout",
     "output_type": "stream",
     "text": [
      "['C:\\\\Users\\\\user\\\\anaconda3\\\\lib\\\\site-packages\\\\config']\n",
      "2.12.0-dev20221107\n",
      "2.12.0\n"
     ]
    }
   ],
   "source": [
    "import re\n",
    "import glob\n",
    "import xlwings as xw\n",
    "import math\n",
    "from pathlib import Path\n",
    "import random\n",
    "import pandas as pd\n",
    "import numpy as np\n",
    "import seaborn as sns\n",
    "import matplotlib as mpl\n",
    "from matplotlib import cm\n",
    "import matplotlib.pyplot as plt\n",
    "import matplotlib.colors as mclr\n",
    "import plotly.express as px\n",
    "import statsmodels.api as sm\n",
    "import pylab as py\n",
    "import os, cv2, glob, tempfile\n",
    "import joblib\n",
    "\n",
    "from scipy import stats\n",
    "from scipy.stats import pearsonr\n",
    "\n",
    "import sklearn\n",
    "from sklearn import datasets\n",
    "from sklearn import preprocessing\n",
    "from sklearn.preprocessing import MinMaxScaler\n",
    "from sklearn.preprocessing import minmax_scale\n",
    "from sklearn.preprocessing import MaxAbsScaler\n",
    "from sklearn.preprocessing import StandardScaler\n",
    "from sklearn.preprocessing import RobustScaler\n",
    "from sklearn.preprocessing import QuantileTransformer\n",
    "from sklearn.datasets import make_blobs\n",
    "from sklearn.ensemble import RandomForestClassifier\n",
    "from sklearn import metrics\n",
    "from sklearn.metrics import recall_score\n",
    "from sklearn.metrics import confusion_matrix\n",
    "from sklearn.metrics import f1_score\n",
    "from sklearn.metrics import matthews_corrcoef\n",
    "make_scorer = sklearn.metrics.make_scorer\n",
    "f1 = make_scorer(f1_score, pos_label=1, average=\"binary\")\n",
    "from sklearn.metrics import classification_report\n",
    "from sklearn.inspection import permutation_importance\n",
    "from sklearn.utils import shuffle\n",
    "from sklearn.model_selection import train_test_split, cross_val_score, cross_validate, KFold\n",
    "from sklearn import linear_model\n",
    "from sklearn.linear_model import LogisticRegression, LinearRegression\n",
    "from sklearn.neighbors import KNeighborsClassifier\n",
    "from sklearn.decomposition import PCA\n",
    "from sklearn.cluster import KMeans\n",
    "\n",
    "import tensorflow as tf\n",
    "from tensorflow import keras\n",
    "from keras.models import Sequential\n",
    "from keras.layers import BatchNormalization, Conv2D, MaxPooling2D, Activation, Dropout, Flatten, Dense\n",
    "from keras.optimizers import Adam\n",
    "from keras import utils as np_utils\n",
    "from keras import models\n",
    "import keras_tuner as kt\n",
    "from scipy import signal\n",
    "\n",
    "import config as config\n",
    "print(config.__path__)\n",
    "from keras.callbacks import EarlyStopping\n",
    "from keras.utils import to_categorical\n",
    "from keras import backend as K\n",
    "\n",
    "import argparse\n",
    "# from sklearn.utils import class_weight\n",
    "print(tf.__version__)\n",
    "print(keras.__version__)\n",
    "\n",
    "import shutil\n",
    "import xlwings as xw\n",
    "\n",
    "%matplotlib inline\n",
    "mpl.use(\"Agg\")"
   ]
  },
  {
   "cell_type": "code",
   "execution_count": 2,
   "id": "e5c8a718",
   "metadata": {},
   "outputs": [],
   "source": [
    "## Build XGBoost Model\n",
    "from copy import deepcopy\n",
    "import numpy as np\n",
    "import pandas as pd\n",
    "import matplotlib as mpl\n",
    "import matplotlib.pyplot as plt\n",
    "import seaborn as sns\n",
    "from statsmodels.graphics.tsaplots import plot_acf,plot_pacf\n",
    "from sklearn.model_selection import GridSearchCV,RandomizedSearchCV,train_test_split\n",
    "from skopt import BayesSearchCV\n",
    "from sklearn.metrics import accuracy_score,f1_score,roc_auc_score,confusion_matrix,roc_curve\n",
    "import xgboost as xgb\n",
    "import time\n",
    "import warnings"
   ]
  },
  {
   "cell_type": "markdown",
   "id": "30868f12",
   "metadata": {},
   "source": [
    "# 1. Data Preparation"
   ]
  },
  {
   "cell_type": "code",
   "execution_count": 3,
   "id": "5d2530f7",
   "metadata": {},
   "outputs": [],
   "source": [
    "## input training set ## 90960 x 20 df\n",
    "trainDEFSDf = pd.read_csv(r\"H:\\\\3_output_raMSIn\\\\df_train24_std.csv\")\n",
    "#trainDEFSDf[trainDEFSDf.type .== 1, :]\n",
    "## calculate weight ## 0: 47449, 1: 43511\n",
    "Yy_train = trainDEFSDf[\"type\"]  # 0.9585; 1.0453\n",
    "sampleW = []\n",
    "for w in Yy_train:\n",
    "    if w == 0:\n",
    "        sampleW.append(0.9585)\n",
    "    elif w == 1:\n",
    "        sampleW.append(1.0453) \n"
   ]
  },
  {
   "cell_type": "code",
   "execution_count": 4,
   "id": "26f6b926",
   "metadata": {},
   "outputs": [],
   "source": [
    "## input ext val set ## 6075 x 20 df\n",
    "extDEFSDf = pd.read_csv(r\"H:\\\\3_output_raMSIn\\\\df_ext24_std.csv\")\n",
    "#extDEFSDf[extDEFSDf.type .== 1, :]\n",
    "## calculate weight ## 0: 2943, 1: 3132\n",
    "Yy_ext = extDEFSDf[\"type\"]  # 1.0321; 0.9698\n",
    "sampleExtW = []\n",
    "for w in Yy_ext:\n",
    "    if w == 0:\n",
    "        sampleExtW.append(1.0321)\n",
    "    elif w == 1:\n",
    "        sampleExtW.append(0.9698) \n"
   ]
  },
  {
   "cell_type": "code",
   "execution_count": 5,
   "id": "f13b3818",
   "metadata": {},
   "outputs": [],
   "source": [
    "## reconstruct a whole set ## 97035 x 20 df\n",
    "ingestedDEFSDf = pd.concat([trainDEFSDf, extDEFSDf])\n",
    "#ingestedDEFSDf[ingestedDEFSDf.type .== 1, :]\n",
    "## calculate weight ## 0: 50392, 1: 46643\n",
    "Yy_ingested = ingestedDEFSDf[\"type\"]  # 0.9628; 1.0402\n",
    "sampleIngestedW = []\n",
    "for w in Yy_ingested:\n",
    "    if w == 0:\n",
    "        sampleIngestedW.append(0.9628)\n",
    "    elif w == 1:\n",
    "        sampleIngestedW.append(1.0402)\n"
   ]
  },
  {
   "cell_type": "code",
   "execution_count": 6,
   "id": "a884cb22",
   "metadata": {},
   "outputs": [],
   "source": [
    "## input FNA set ## 88701 x 20 df\n",
    "fnaDEFSDf = pd.read_csv(r\"H:\\\\3_output_raMSIn\\\\df_FNA24_std.csv\")\n",
    "#fnaDEFSDf[fnaDEFSDf.type .== 1, :]\n",
    "## calculate weight ##  0: 44540, 1: 44161\n",
    "Yy_FNA = fnaDEFSDf[\"type\"]  # 0.9957; 1.0043\n",
    "sampleFNAW = []\n",
    "for w in Yy_FNA:\n",
    "    if w == 0:\n",
    "        sampleFNAW.append(0.9957)\n",
    "    elif w == 1:\n",
    "        sampleFNAW.append(1.0043)\n"
   ]
  },
  {
   "cell_type": "code",
   "execution_count": 7,
   "id": "95558b9b",
   "metadata": {},
   "outputs": [
    {
     "data": {
      "text/html": [
       "<div>\n",
       "<style scoped>\n",
       "    .dataframe tbody tr th:only-of-type {\n",
       "        vertical-align: middle;\n",
       "    }\n",
       "\n",
       "    .dataframe tbody tr th {\n",
       "        vertical-align: top;\n",
       "    }\n",
       "\n",
       "    .dataframe thead th {\n",
       "        text-align: right;\n",
       "    }\n",
       "</style>\n",
       "<table border=\"1\" class=\"dataframe\">\n",
       "  <thead>\n",
       "    <tr style=\"text-align: right;\">\n",
       "      <th></th>\n",
       "      <th>pixel_id</th>\n",
       "      <th>869.7241</th>\n",
       "      <th>909.5496</th>\n",
       "      <th>269.2486</th>\n",
       "      <th>736.6464</th>\n",
       "      <th>535.4734</th>\n",
       "      <th>559.4732</th>\n",
       "      <th>609.5114</th>\n",
       "      <th>682.5922</th>\n",
       "      <th>846.5858</th>\n",
       "      <th>633.5108</th>\n",
       "      <th>445.3172</th>\n",
       "      <th>683.5948</th>\n",
       "      <th>269.0878</th>\n",
       "      <th>215.0328</th>\n",
       "      <th>283.255</th>\n",
       "      <th>671.4661</th>\n",
       "      <th>610.5128</th>\n",
       "      <th>175.0246</th>\n",
       "      <th>type</th>\n",
       "    </tr>\n",
       "  </thead>\n",
       "  <tbody>\n",
       "    <tr>\n",
       "      <th>0</th>\n",
       "      <td>HKULiver_Post29wk_HCCAMCLiver_FNA_Mice01_Slide...</td>\n",
       "      <td>-0.005702</td>\n",
       "      <td>0.008693</td>\n",
       "      <td>-0.163091</td>\n",
       "      <td>0.119808</td>\n",
       "      <td>-0.105292</td>\n",
       "      <td>-0.057695</td>\n",
       "      <td>-0.154677</td>\n",
       "      <td>-0.247699</td>\n",
       "      <td>-0.072969</td>\n",
       "      <td>-0.063891</td>\n",
       "      <td>-0.02283</td>\n",
       "      <td>-0.139713</td>\n",
       "      <td>0.615396</td>\n",
       "      <td>0.249740</td>\n",
       "      <td>-0.306879</td>\n",
       "      <td>-0.043562</td>\n",
       "      <td>-0.020918</td>\n",
       "      <td>0.270866</td>\n",
       "      <td>0</td>\n",
       "    </tr>\n",
       "    <tr>\n",
       "      <th>1</th>\n",
       "      <td>HKULiver_Post29wk_HCCAMCLiver_FNA_Mice01_Slide...</td>\n",
       "      <td>-0.005702</td>\n",
       "      <td>-0.225150</td>\n",
       "      <td>0.069084</td>\n",
       "      <td>0.422357</td>\n",
       "      <td>-0.105292</td>\n",
       "      <td>-0.057695</td>\n",
       "      <td>-0.154677</td>\n",
       "      <td>-0.247699</td>\n",
       "      <td>-0.072969</td>\n",
       "      <td>-0.063891</td>\n",
       "      <td>-0.02283</td>\n",
       "      <td>-0.139713</td>\n",
       "      <td>0.686542</td>\n",
       "      <td>0.241333</td>\n",
       "      <td>-0.306879</td>\n",
       "      <td>-0.067193</td>\n",
       "      <td>-0.020918</td>\n",
       "      <td>0.341769</td>\n",
       "      <td>0</td>\n",
       "    </tr>\n",
       "    <tr>\n",
       "      <th>2</th>\n",
       "      <td>HKULiver_Post29wk_HCCAMCLiver_FNA_Mice01_Slide...</td>\n",
       "      <td>-0.005702</td>\n",
       "      <td>-0.225150</td>\n",
       "      <td>0.101513</td>\n",
       "      <td>0.374833</td>\n",
       "      <td>-0.105292</td>\n",
       "      <td>-0.057695</td>\n",
       "      <td>-0.154677</td>\n",
       "      <td>-0.247699</td>\n",
       "      <td>-0.072969</td>\n",
       "      <td>-0.063891</td>\n",
       "      <td>-0.02283</td>\n",
       "      <td>-0.139713</td>\n",
       "      <td>0.767749</td>\n",
       "      <td>0.247104</td>\n",
       "      <td>-0.306879</td>\n",
       "      <td>-0.029138</td>\n",
       "      <td>-0.020918</td>\n",
       "      <td>0.366825</td>\n",
       "      <td>0</td>\n",
       "    </tr>\n",
       "    <tr>\n",
       "      <th>3</th>\n",
       "      <td>HKULiver_Post29wk_HCCAMCLiver_FNA_Mice01_Slide...</td>\n",
       "      <td>-0.005702</td>\n",
       "      <td>-0.225150</td>\n",
       "      <td>0.663425</td>\n",
       "      <td>-0.143943</td>\n",
       "      <td>-0.105292</td>\n",
       "      <td>-0.057695</td>\n",
       "      <td>-0.154677</td>\n",
       "      <td>-0.247699</td>\n",
       "      <td>0.788622</td>\n",
       "      <td>-0.063891</td>\n",
       "      <td>-0.02283</td>\n",
       "      <td>-0.139713</td>\n",
       "      <td>0.718588</td>\n",
       "      <td>0.445671</td>\n",
       "      <td>-0.306879</td>\n",
       "      <td>-0.402832</td>\n",
       "      <td>-0.020918</td>\n",
       "      <td>0.439434</td>\n",
       "      <td>0</td>\n",
       "    </tr>\n",
       "    <tr>\n",
       "      <th>4</th>\n",
       "      <td>HKULiver_Post29wk_HCCAMCLiver_FNA_Mice01_Slide...</td>\n",
       "      <td>-0.005702</td>\n",
       "      <td>-0.225150</td>\n",
       "      <td>0.603374</td>\n",
       "      <td>-0.143943</td>\n",
       "      <td>-0.105292</td>\n",
       "      <td>-0.057695</td>\n",
       "      <td>-0.154677</td>\n",
       "      <td>-0.247699</td>\n",
       "      <td>0.630092</td>\n",
       "      <td>-0.063891</td>\n",
       "      <td>-0.02283</td>\n",
       "      <td>-0.139713</td>\n",
       "      <td>0.698350</td>\n",
       "      <td>0.522524</td>\n",
       "      <td>-0.306879</td>\n",
       "      <td>-0.402832</td>\n",
       "      <td>-0.020918</td>\n",
       "      <td>0.521852</td>\n",
       "      <td>0</td>\n",
       "    </tr>\n",
       "    <tr>\n",
       "      <th>...</th>\n",
       "      <td>...</td>\n",
       "      <td>...</td>\n",
       "      <td>...</td>\n",
       "      <td>...</td>\n",
       "      <td>...</td>\n",
       "      <td>...</td>\n",
       "      <td>...</td>\n",
       "      <td>...</td>\n",
       "      <td>...</td>\n",
       "      <td>...</td>\n",
       "      <td>...</td>\n",
       "      <td>...</td>\n",
       "      <td>...</td>\n",
       "      <td>...</td>\n",
       "      <td>...</td>\n",
       "      <td>...</td>\n",
       "      <td>...</td>\n",
       "      <td>...</td>\n",
       "      <td>...</td>\n",
       "      <td>...</td>\n",
       "    </tr>\n",
       "    <tr>\n",
       "      <th>88696</th>\n",
       "      <td>HKULiver_Post29wk_HCCLiver_FNA_Mice11_Slide2_6...</td>\n",
       "      <td>-0.005702</td>\n",
       "      <td>-0.225150</td>\n",
       "      <td>0.321189</td>\n",
       "      <td>0.163895</td>\n",
       "      <td>-0.105292</td>\n",
       "      <td>-0.057695</td>\n",
       "      <td>-0.154677</td>\n",
       "      <td>-0.247699</td>\n",
       "      <td>-0.072969</td>\n",
       "      <td>-0.063891</td>\n",
       "      <td>-0.02283</td>\n",
       "      <td>-0.139713</td>\n",
       "      <td>-0.102398</td>\n",
       "      <td>-0.225931</td>\n",
       "      <td>0.011566</td>\n",
       "      <td>-0.402832</td>\n",
       "      <td>-0.020918</td>\n",
       "      <td>-0.167027</td>\n",
       "      <td>1</td>\n",
       "    </tr>\n",
       "    <tr>\n",
       "      <th>88697</th>\n",
       "      <td>HKULiver_Post29wk_HCCLiver_FNA_Mice11_Slide2_6...</td>\n",
       "      <td>-0.005702</td>\n",
       "      <td>-0.225150</td>\n",
       "      <td>0.322064</td>\n",
       "      <td>-0.143943</td>\n",
       "      <td>-0.105292</td>\n",
       "      <td>-0.057695</td>\n",
       "      <td>-0.154677</td>\n",
       "      <td>-0.247699</td>\n",
       "      <td>-0.072969</td>\n",
       "      <td>-0.063891</td>\n",
       "      <td>-0.02283</td>\n",
       "      <td>-0.139713</td>\n",
       "      <td>-0.102398</td>\n",
       "      <td>-0.225931</td>\n",
       "      <td>0.137602</td>\n",
       "      <td>-0.402832</td>\n",
       "      <td>-0.020918</td>\n",
       "      <td>-0.167027</td>\n",
       "      <td>1</td>\n",
       "    </tr>\n",
       "    <tr>\n",
       "      <th>88698</th>\n",
       "      <td>HKULiver_Post29wk_HCCLiver_FNA_Mice11_Slide2_6...</td>\n",
       "      <td>-0.005702</td>\n",
       "      <td>-0.225150</td>\n",
       "      <td>0.364526</td>\n",
       "      <td>0.153275</td>\n",
       "      <td>-0.105292</td>\n",
       "      <td>-0.057695</td>\n",
       "      <td>-0.154677</td>\n",
       "      <td>-0.247699</td>\n",
       "      <td>-0.072969</td>\n",
       "      <td>-0.063891</td>\n",
       "      <td>-0.02283</td>\n",
       "      <td>-0.139713</td>\n",
       "      <td>-0.102398</td>\n",
       "      <td>-0.225931</td>\n",
       "      <td>0.054128</td>\n",
       "      <td>-0.402832</td>\n",
       "      <td>-0.020918</td>\n",
       "      <td>-0.167027</td>\n",
       "      <td>1</td>\n",
       "    </tr>\n",
       "    <tr>\n",
       "      <th>88699</th>\n",
       "      <td>HKULiver_Post29wk_HCCLiver_FNA_Mice11_Slide2_6...</td>\n",
       "      <td>-0.005702</td>\n",
       "      <td>-0.225150</td>\n",
       "      <td>0.389958</td>\n",
       "      <td>-0.143943</td>\n",
       "      <td>-0.105292</td>\n",
       "      <td>-0.057695</td>\n",
       "      <td>-0.154677</td>\n",
       "      <td>-0.247699</td>\n",
       "      <td>0.294053</td>\n",
       "      <td>-0.063891</td>\n",
       "      <td>-0.02283</td>\n",
       "      <td>-0.139713</td>\n",
       "      <td>-0.102398</td>\n",
       "      <td>-0.225931</td>\n",
       "      <td>-0.306879</td>\n",
       "      <td>-0.161811</td>\n",
       "      <td>-0.020918</td>\n",
       "      <td>-0.167027</td>\n",
       "      <td>1</td>\n",
       "    </tr>\n",
       "    <tr>\n",
       "      <th>88700</th>\n",
       "      <td>HKULiver_Post29wk_HCCLiver_FNA_Mice11_Slide2_6...</td>\n",
       "      <td>-0.005702</td>\n",
       "      <td>-0.225150</td>\n",
       "      <td>0.283661</td>\n",
       "      <td>-0.143943</td>\n",
       "      <td>-0.105292</td>\n",
       "      <td>-0.057695</td>\n",
       "      <td>-0.154677</td>\n",
       "      <td>-0.247699</td>\n",
       "      <td>-0.072969</td>\n",
       "      <td>-0.063891</td>\n",
       "      <td>-0.02283</td>\n",
       "      <td>-0.139713</td>\n",
       "      <td>-0.102398</td>\n",
       "      <td>-0.225931</td>\n",
       "      <td>0.061767</td>\n",
       "      <td>-0.100750</td>\n",
       "      <td>-0.020918</td>\n",
       "      <td>-0.167027</td>\n",
       "      <td>1</td>\n",
       "    </tr>\n",
       "  </tbody>\n",
       "</table>\n",
       "<p>88701 rows × 20 columns</p>\n",
       "</div>"
      ],
      "text/plain": [
       "                                                pixel_id  869.7241  909.5496  \\\n",
       "0      HKULiver_Post29wk_HCCAMCLiver_FNA_Mice01_Slide... -0.005702  0.008693   \n",
       "1      HKULiver_Post29wk_HCCAMCLiver_FNA_Mice01_Slide... -0.005702 -0.225150   \n",
       "2      HKULiver_Post29wk_HCCAMCLiver_FNA_Mice01_Slide... -0.005702 -0.225150   \n",
       "3      HKULiver_Post29wk_HCCAMCLiver_FNA_Mice01_Slide... -0.005702 -0.225150   \n",
       "4      HKULiver_Post29wk_HCCAMCLiver_FNA_Mice01_Slide... -0.005702 -0.225150   \n",
       "...                                                  ...       ...       ...   \n",
       "88696  HKULiver_Post29wk_HCCLiver_FNA_Mice11_Slide2_6... -0.005702 -0.225150   \n",
       "88697  HKULiver_Post29wk_HCCLiver_FNA_Mice11_Slide2_6... -0.005702 -0.225150   \n",
       "88698  HKULiver_Post29wk_HCCLiver_FNA_Mice11_Slide2_6... -0.005702 -0.225150   \n",
       "88699  HKULiver_Post29wk_HCCLiver_FNA_Mice11_Slide2_6... -0.005702 -0.225150   \n",
       "88700  HKULiver_Post29wk_HCCLiver_FNA_Mice11_Slide2_6... -0.005702 -0.225150   \n",
       "\n",
       "       269.2486  736.6464  535.4734  559.4732  609.5114  682.5922  846.5858  \\\n",
       "0     -0.163091  0.119808 -0.105292 -0.057695 -0.154677 -0.247699 -0.072969   \n",
       "1      0.069084  0.422357 -0.105292 -0.057695 -0.154677 -0.247699 -0.072969   \n",
       "2      0.101513  0.374833 -0.105292 -0.057695 -0.154677 -0.247699 -0.072969   \n",
       "3      0.663425 -0.143943 -0.105292 -0.057695 -0.154677 -0.247699  0.788622   \n",
       "4      0.603374 -0.143943 -0.105292 -0.057695 -0.154677 -0.247699  0.630092   \n",
       "...         ...       ...       ...       ...       ...       ...       ...   \n",
       "88696  0.321189  0.163895 -0.105292 -0.057695 -0.154677 -0.247699 -0.072969   \n",
       "88697  0.322064 -0.143943 -0.105292 -0.057695 -0.154677 -0.247699 -0.072969   \n",
       "88698  0.364526  0.153275 -0.105292 -0.057695 -0.154677 -0.247699 -0.072969   \n",
       "88699  0.389958 -0.143943 -0.105292 -0.057695 -0.154677 -0.247699  0.294053   \n",
       "88700  0.283661 -0.143943 -0.105292 -0.057695 -0.154677 -0.247699 -0.072969   \n",
       "\n",
       "       633.5108  445.3172  683.5948  269.0878  215.0328   283.255  671.4661  \\\n",
       "0     -0.063891  -0.02283 -0.139713  0.615396  0.249740 -0.306879 -0.043562   \n",
       "1     -0.063891  -0.02283 -0.139713  0.686542  0.241333 -0.306879 -0.067193   \n",
       "2     -0.063891  -0.02283 -0.139713  0.767749  0.247104 -0.306879 -0.029138   \n",
       "3     -0.063891  -0.02283 -0.139713  0.718588  0.445671 -0.306879 -0.402832   \n",
       "4     -0.063891  -0.02283 -0.139713  0.698350  0.522524 -0.306879 -0.402832   \n",
       "...         ...       ...       ...       ...       ...       ...       ...   \n",
       "88696 -0.063891  -0.02283 -0.139713 -0.102398 -0.225931  0.011566 -0.402832   \n",
       "88697 -0.063891  -0.02283 -0.139713 -0.102398 -0.225931  0.137602 -0.402832   \n",
       "88698 -0.063891  -0.02283 -0.139713 -0.102398 -0.225931  0.054128 -0.402832   \n",
       "88699 -0.063891  -0.02283 -0.139713 -0.102398 -0.225931 -0.306879 -0.161811   \n",
       "88700 -0.063891  -0.02283 -0.139713 -0.102398 -0.225931  0.061767 -0.100750   \n",
       "\n",
       "       610.5128  175.0246  type  \n",
       "0     -0.020918  0.270866     0  \n",
       "1     -0.020918  0.341769     0  \n",
       "2     -0.020918  0.366825     0  \n",
       "3     -0.020918  0.439434     0  \n",
       "4     -0.020918  0.521852     0  \n",
       "...         ...       ...   ...  \n",
       "88696 -0.020918 -0.167027     1  \n",
       "88697 -0.020918 -0.167027     1  \n",
       "88698 -0.020918 -0.167027     1  \n",
       "88699 -0.020918 -0.167027     1  \n",
       "88700 -0.020918 -0.167027     1  \n",
       "\n",
       "[88701 rows x 20 columns]"
      ]
     },
     "execution_count": 7,
     "metadata": {},
     "output_type": "execute_result"
    }
   ],
   "source": [
    "fnaDEFSDf"
   ]
  },
  {
   "cell_type": "code",
   "execution_count": 8,
   "id": "ca171d11",
   "metadata": {},
   "outputs": [],
   "source": [
    "## define functions for performace evaluation ##\n",
    "    # Maximum absolute error\n",
    "# mean square error (MSE) calculation\n",
    "# Root mean square error (RMSE) calculation\n",
    "def errorDetermination(arrRi, predictedRi):\n",
    "    sumAE = 0\n",
    "    maxAE = 0\n",
    "    for i in range(len(predictedRi)):\n",
    "        AE = abs(arrRi[i] - predictedRi[i])\n",
    "        if (AE > maxAE):\n",
    "            maxAE = AE\n",
    "        sumAE += (AE ** 2)\n",
    "        \n",
    "    MSE = sumAE / len(predictedRi)\n",
    "    RMSE = MSE ** 0.5\n",
    "    return maxAE, MSE, RMSE\n",
    "\n",
    "#\n",
    "# Average score\n",
    "def avgScore(arrAcc, cv):\n",
    "    sumAcc = 0\n",
    "    for acc in arrAcc:\n",
    "        sumAcc += acc\n",
    "    return sumAcc / cv\n"
   ]
  },
  {
   "cell_type": "code",
   "execution_count": 9,
   "id": "9ccef0bb",
   "metadata": {},
   "outputs": [
    {
     "data": {
      "text/html": [
       "<div>\n",
       "<style scoped>\n",
       "    .dataframe tbody tr th:only-of-type {\n",
       "        vertical-align: middle;\n",
       "    }\n",
       "\n",
       "    .dataframe tbody tr th {\n",
       "        vertical-align: top;\n",
       "    }\n",
       "\n",
       "    .dataframe thead th {\n",
       "        text-align: right;\n",
       "    }\n",
       "</style>\n",
       "<table border=\"1\" class=\"dataframe\">\n",
       "  <thead>\n",
       "    <tr style=\"text-align: right;\">\n",
       "      <th></th>\n",
       "      <th>869.7241</th>\n",
       "      <th>909.5496</th>\n",
       "      <th>269.2486</th>\n",
       "      <th>736.6464</th>\n",
       "      <th>535.4734</th>\n",
       "      <th>559.4732</th>\n",
       "      <th>609.5114</th>\n",
       "      <th>682.5922</th>\n",
       "      <th>846.5858</th>\n",
       "      <th>633.5108</th>\n",
       "      <th>445.3172</th>\n",
       "      <th>683.5948</th>\n",
       "      <th>269.0878</th>\n",
       "      <th>215.0328</th>\n",
       "      <th>283.255</th>\n",
       "      <th>671.4661</th>\n",
       "      <th>610.5128</th>\n",
       "      <th>175.0246</th>\n",
       "    </tr>\n",
       "  </thead>\n",
       "  <tbody>\n",
       "    <tr>\n",
       "      <th>0</th>\n",
       "      <td>-0.256907</td>\n",
       "      <td>-0.000982</td>\n",
       "      <td>0.142569</td>\n",
       "      <td>0.017134</td>\n",
       "      <td>0.126088</td>\n",
       "      <td>0.080817</td>\n",
       "      <td>-0.058970</td>\n",
       "      <td>-0.073677</td>\n",
       "      <td>-0.187081</td>\n",
       "      <td>-0.281360</td>\n",
       "      <td>-0.095382</td>\n",
       "      <td>-0.181833</td>\n",
       "      <td>-0.030762</td>\n",
       "      <td>-0.119108</td>\n",
       "      <td>-0.024738</td>\n",
       "      <td>0.150376</td>\n",
       "      <td>-0.167473</td>\n",
       "      <td>-0.004607</td>\n",
       "    </tr>\n",
       "    <tr>\n",
       "      <th>1</th>\n",
       "      <td>0.158221</td>\n",
       "      <td>-0.010497</td>\n",
       "      <td>0.374051</td>\n",
       "      <td>-0.011979</td>\n",
       "      <td>0.027052</td>\n",
       "      <td>-0.328894</td>\n",
       "      <td>0.024663</td>\n",
       "      <td>-0.044434</td>\n",
       "      <td>-0.187081</td>\n",
       "      <td>0.032998</td>\n",
       "      <td>0.222220</td>\n",
       "      <td>-0.181833</td>\n",
       "      <td>0.150816</td>\n",
       "      <td>-0.038276</td>\n",
       "      <td>-0.006922</td>\n",
       "      <td>0.141125</td>\n",
       "      <td>-0.167473</td>\n",
       "      <td>0.083503</td>\n",
       "    </tr>\n",
       "    <tr>\n",
       "      <th>2</th>\n",
       "      <td>-0.256907</td>\n",
       "      <td>-0.210743</td>\n",
       "      <td>0.157616</td>\n",
       "      <td>0.042145</td>\n",
       "      <td>0.017886</td>\n",
       "      <td>0.191653</td>\n",
       "      <td>0.015601</td>\n",
       "      <td>0.019519</td>\n",
       "      <td>-0.187081</td>\n",
       "      <td>-0.281360</td>\n",
       "      <td>-0.095382</td>\n",
       "      <td>0.139729</td>\n",
       "      <td>0.023640</td>\n",
       "      <td>-0.083684</td>\n",
       "      <td>0.023263</td>\n",
       "      <td>0.203888</td>\n",
       "      <td>-0.167473</td>\n",
       "      <td>-0.237962</td>\n",
       "    </tr>\n",
       "    <tr>\n",
       "      <th>3</th>\n",
       "      <td>-0.256907</td>\n",
       "      <td>-0.022928</td>\n",
       "      <td>0.109249</td>\n",
       "      <td>0.032018</td>\n",
       "      <td>0.120608</td>\n",
       "      <td>-0.328894</td>\n",
       "      <td>0.008461</td>\n",
       "      <td>0.058171</td>\n",
       "      <td>-0.187081</td>\n",
       "      <td>-0.281360</td>\n",
       "      <td>-0.095382</td>\n",
       "      <td>0.078984</td>\n",
       "      <td>-0.070448</td>\n",
       "      <td>-0.042441</td>\n",
       "      <td>0.023771</td>\n",
       "      <td>0.278755</td>\n",
       "      <td>-0.167473</td>\n",
       "      <td>-0.004370</td>\n",
       "    </tr>\n",
       "    <tr>\n",
       "      <th>4</th>\n",
       "      <td>-0.256907</td>\n",
       "      <td>-0.210743</td>\n",
       "      <td>0.189790</td>\n",
       "      <td>-0.175445</td>\n",
       "      <td>0.072955</td>\n",
       "      <td>-0.328894</td>\n",
       "      <td>-0.023746</td>\n",
       "      <td>-0.223288</td>\n",
       "      <td>-0.187081</td>\n",
       "      <td>-0.281360</td>\n",
       "      <td>-0.095382</td>\n",
       "      <td>-0.181833</td>\n",
       "      <td>0.065576</td>\n",
       "      <td>-0.131907</td>\n",
       "      <td>-0.096229</td>\n",
       "      <td>0.208789</td>\n",
       "      <td>0.192620</td>\n",
       "      <td>0.015235</td>\n",
       "    </tr>\n",
       "    <tr>\n",
       "      <th>...</th>\n",
       "      <td>...</td>\n",
       "      <td>...</td>\n",
       "      <td>...</td>\n",
       "      <td>...</td>\n",
       "      <td>...</td>\n",
       "      <td>...</td>\n",
       "      <td>...</td>\n",
       "      <td>...</td>\n",
       "      <td>...</td>\n",
       "      <td>...</td>\n",
       "      <td>...</td>\n",
       "      <td>...</td>\n",
       "      <td>...</td>\n",
       "      <td>...</td>\n",
       "      <td>...</td>\n",
       "      <td>...</td>\n",
       "      <td>...</td>\n",
       "      <td>...</td>\n",
       "    </tr>\n",
       "    <tr>\n",
       "      <th>90955</th>\n",
       "      <td>-0.256907</td>\n",
       "      <td>-0.210743</td>\n",
       "      <td>-0.257989</td>\n",
       "      <td>-0.175445</td>\n",
       "      <td>-0.272238</td>\n",
       "      <td>-0.328894</td>\n",
       "      <td>-0.339638</td>\n",
       "      <td>-0.223288</td>\n",
       "      <td>-0.187081</td>\n",
       "      <td>-0.281360</td>\n",
       "      <td>-0.095382</td>\n",
       "      <td>-0.181833</td>\n",
       "      <td>0.104503</td>\n",
       "      <td>0.004160</td>\n",
       "      <td>-0.014514</td>\n",
       "      <td>-0.211163</td>\n",
       "      <td>-0.167473</td>\n",
       "      <td>0.099762</td>\n",
       "    </tr>\n",
       "    <tr>\n",
       "      <th>90956</th>\n",
       "      <td>-0.256907</td>\n",
       "      <td>-0.210743</td>\n",
       "      <td>-0.257989</td>\n",
       "      <td>0.043667</td>\n",
       "      <td>-0.272238</td>\n",
       "      <td>-0.328894</td>\n",
       "      <td>-0.339638</td>\n",
       "      <td>-0.223288</td>\n",
       "      <td>-0.187081</td>\n",
       "      <td>-0.281360</td>\n",
       "      <td>-0.095382</td>\n",
       "      <td>-0.181833</td>\n",
       "      <td>0.096594</td>\n",
       "      <td>-0.091239</td>\n",
       "      <td>0.155709</td>\n",
       "      <td>-0.211163</td>\n",
       "      <td>-0.167473</td>\n",
       "      <td>-0.237962</td>\n",
       "    </tr>\n",
       "    <tr>\n",
       "      <th>90957</th>\n",
       "      <td>-0.256907</td>\n",
       "      <td>-0.210743</td>\n",
       "      <td>0.315221</td>\n",
       "      <td>0.059179</td>\n",
       "      <td>-0.272238</td>\n",
       "      <td>-0.328894</td>\n",
       "      <td>0.150399</td>\n",
       "      <td>-0.027649</td>\n",
       "      <td>0.225073</td>\n",
       "      <td>-0.281360</td>\n",
       "      <td>0.456950</td>\n",
       "      <td>-0.181833</td>\n",
       "      <td>0.042333</td>\n",
       "      <td>-0.093394</td>\n",
       "      <td>0.122536</td>\n",
       "      <td>-0.211163</td>\n",
       "      <td>-0.167473</td>\n",
       "      <td>-0.237962</td>\n",
       "    </tr>\n",
       "    <tr>\n",
       "      <th>90958</th>\n",
       "      <td>-0.256907</td>\n",
       "      <td>-0.210743</td>\n",
       "      <td>-0.257989</td>\n",
       "      <td>0.050129</td>\n",
       "      <td>-0.272238</td>\n",
       "      <td>-0.328894</td>\n",
       "      <td>-0.339638</td>\n",
       "      <td>-0.223288</td>\n",
       "      <td>0.129701</td>\n",
       "      <td>-0.281360</td>\n",
       "      <td>0.353228</td>\n",
       "      <td>-0.181833</td>\n",
       "      <td>0.095210</td>\n",
       "      <td>-0.122676</td>\n",
       "      <td>0.039255</td>\n",
       "      <td>-0.211163</td>\n",
       "      <td>0.412686</td>\n",
       "      <td>-0.237962</td>\n",
       "    </tr>\n",
       "    <tr>\n",
       "      <th>90959</th>\n",
       "      <td>-0.256907</td>\n",
       "      <td>-0.210743</td>\n",
       "      <td>-0.257989</td>\n",
       "      <td>-0.175445</td>\n",
       "      <td>-0.272238</td>\n",
       "      <td>-0.328894</td>\n",
       "      <td>0.070993</td>\n",
       "      <td>-0.223288</td>\n",
       "      <td>-0.187081</td>\n",
       "      <td>-0.281360</td>\n",
       "      <td>-0.095382</td>\n",
       "      <td>-0.181833</td>\n",
       "      <td>0.069759</td>\n",
       "      <td>-0.120908</td>\n",
       "      <td>0.084467</td>\n",
       "      <td>-0.211163</td>\n",
       "      <td>-0.167473</td>\n",
       "      <td>-0.237962</td>\n",
       "    </tr>\n",
       "  </tbody>\n",
       "</table>\n",
       "<p>90960 rows × 18 columns</p>\n",
       "</div>"
      ],
      "text/plain": [
       "       869.7241  909.5496  269.2486  736.6464  535.4734  559.4732  609.5114  \\\n",
       "0     -0.256907 -0.000982  0.142569  0.017134  0.126088  0.080817 -0.058970   \n",
       "1      0.158221 -0.010497  0.374051 -0.011979  0.027052 -0.328894  0.024663   \n",
       "2     -0.256907 -0.210743  0.157616  0.042145  0.017886  0.191653  0.015601   \n",
       "3     -0.256907 -0.022928  0.109249  0.032018  0.120608 -0.328894  0.008461   \n",
       "4     -0.256907 -0.210743  0.189790 -0.175445  0.072955 -0.328894 -0.023746   \n",
       "...         ...       ...       ...       ...       ...       ...       ...   \n",
       "90955 -0.256907 -0.210743 -0.257989 -0.175445 -0.272238 -0.328894 -0.339638   \n",
       "90956 -0.256907 -0.210743 -0.257989  0.043667 -0.272238 -0.328894 -0.339638   \n",
       "90957 -0.256907 -0.210743  0.315221  0.059179 -0.272238 -0.328894  0.150399   \n",
       "90958 -0.256907 -0.210743 -0.257989  0.050129 -0.272238 -0.328894 -0.339638   \n",
       "90959 -0.256907 -0.210743 -0.257989 -0.175445 -0.272238 -0.328894  0.070993   \n",
       "\n",
       "       682.5922  846.5858  633.5108  445.3172  683.5948  269.0878  215.0328  \\\n",
       "0     -0.073677 -0.187081 -0.281360 -0.095382 -0.181833 -0.030762 -0.119108   \n",
       "1     -0.044434 -0.187081  0.032998  0.222220 -0.181833  0.150816 -0.038276   \n",
       "2      0.019519 -0.187081 -0.281360 -0.095382  0.139729  0.023640 -0.083684   \n",
       "3      0.058171 -0.187081 -0.281360 -0.095382  0.078984 -0.070448 -0.042441   \n",
       "4     -0.223288 -0.187081 -0.281360 -0.095382 -0.181833  0.065576 -0.131907   \n",
       "...         ...       ...       ...       ...       ...       ...       ...   \n",
       "90955 -0.223288 -0.187081 -0.281360 -0.095382 -0.181833  0.104503  0.004160   \n",
       "90956 -0.223288 -0.187081 -0.281360 -0.095382 -0.181833  0.096594 -0.091239   \n",
       "90957 -0.027649  0.225073 -0.281360  0.456950 -0.181833  0.042333 -0.093394   \n",
       "90958 -0.223288  0.129701 -0.281360  0.353228 -0.181833  0.095210 -0.122676   \n",
       "90959 -0.223288 -0.187081 -0.281360 -0.095382 -0.181833  0.069759 -0.120908   \n",
       "\n",
       "        283.255  671.4661  610.5128  175.0246  \n",
       "0     -0.024738  0.150376 -0.167473 -0.004607  \n",
       "1     -0.006922  0.141125 -0.167473  0.083503  \n",
       "2      0.023263  0.203888 -0.167473 -0.237962  \n",
       "3      0.023771  0.278755 -0.167473 -0.004370  \n",
       "4     -0.096229  0.208789  0.192620  0.015235  \n",
       "...         ...       ...       ...       ...  \n",
       "90955 -0.014514 -0.211163 -0.167473  0.099762  \n",
       "90956  0.155709 -0.211163 -0.167473 -0.237962  \n",
       "90957  0.122536 -0.211163 -0.167473 -0.237962  \n",
       "90958  0.039255 -0.211163  0.412686 -0.237962  \n",
       "90959  0.084467 -0.211163 -0.167473 -0.237962  \n",
       "\n",
       "[90960 rows x 18 columns]"
      ]
     },
     "execution_count": 9,
     "metadata": {},
     "output_type": "execute_result"
    }
   ],
   "source": [
    "trainDEFSDf[trainDEFSDf.columns[1:-1]]"
   ]
  },
  {
   "cell_type": "code",
   "execution_count": 25,
   "id": "4f68e145",
   "metadata": {},
   "outputs": [],
   "source": [
    "## define a function for Gradient Boost ##\n",
    "def optimXGBoostClass(inputDB, inputDB_ingested, inputDB_ext, inputDB_FNA):\n",
    "    #lr_r = [0.3, 0.2, 0.1, 0.05]  # 4\n",
    "    #lr_r = [5, 2.5, 1, 0.5, 0.25, 0.1, 0.05, 0.025, 0.01, 0.005, 0.0025, 0.001]  # 4\n",
    "    #lr_r = [10, 7.5, 5, 2.5, 1, 0.75, 0.5, 0.4, 0.3, 0.2, 0.1, 0.075, 0.05]  # 13\n",
    "    lr_r = [100, 75, 50, 45, 40, 35, 30, 25, 20, 15, 10]  # 11\n",
    "    #depth_r = [4, 6, 8, 10]  # 4\n",
    "    #depth_r = [2, 4, 5, 6, 7, 8, 9, 10, 11, 12]  # 4\n",
    "    depth_r = [5, 6, 7, 8, 9, 10, 11, 12, 14, 16, 18]  # 11\n",
    "    #tree_r = [50, 75, 100, 125]  # 4\n",
    "    tree_r = [25, 50, 100]  # 3\n",
    "    #est_r = [1, 3, 5, 10, 15] # 5\n",
    "    #est_r = [2, 5, 10] # 3\n",
    "    est_r = [2, 3, 5, 7, 10] # 5\n",
    "\n",
    "    rs = 42\n",
    "    z = np.zeros(49)\n",
    "    itr = 1\n",
    "\n",
    "    N_train = inputDB\n",
    "    M_train = inputDB_ingested\n",
    "    M_ext = inputDB_ext\n",
    "    M_FNA = inputDB_FNA\n",
    "\n",
    "    for lr in lr_r:\n",
    "        for d in depth_r:\n",
    "            for t in tree_r:\n",
    "                for est in est_r:\n",
    "    \n",
    "                    print(\"itr=\", itr, \", lr=\", lr, \", est=\", est, \", depth=\", d, \", tree=\", t)\n",
    "                    print(\"## loading in data ##\")\n",
    "                    Xx_train = M_train[M_train.columns[1:-1]]\n",
    "                    nn_train = N_train[N_train.columns[1:-1]]\n",
    "                    Xx_Ext = M_ext[M_ext.columns[1:-1]]\n",
    "                    Xx_FNA = M_FNA[M_FNA.columns[1:-1]]\n",
    "                    #\n",
    "                    Yy_train = M_train[\"type\"]\n",
    "                    mm_train = N_train[\"type\"]\n",
    "                    Yy_Ext = M_ext[\"type\"]\n",
    "                    Yy_FNA = M_FNA[\"type\"]\n",
    "                    print(\"## Classification ##\")\n",
    "                    model_xgb = xgb.XGBClassifier(\n",
    "                        base_score = 0.5, \n",
    "                        booster = 'gbtree', \n",
    "                        colsample_bylevel = 1, \n",
    "                        colsample_bynode = 1, \n",
    "                        colsample_bytree = 1, \n",
    "                        enable_categorical = False, \n",
    "                        eval_metric = 'auc', \n",
    "                        gamma = 0, \n",
    "                        gpu_id = -1, \n",
    "                        grow_policy = 'lossguide', \n",
    "                        importance_type = None, \n",
    "                        learning_rate = lr, \n",
    "                        max_bin = 256, \n",
    "                        max_cat_to_onehot = 4, \n",
    "                        max_delta_step = 0, \n",
    "                        max_depth = d, \n",
    "                        max_leaves = 0, \n",
    "                        min_child_weight = 1, \n",
    "                        #missing = nan, \n",
    "                        monotone_constraints = '()', \n",
    "                        n_estimators = t, \n",
    "                        n_jobs = 0, \n",
    "                        num_parallel_tree = 1, \n",
    "                        objective = 'binary:hinge', \n",
    "                        predictor = 'auto', \n",
    "                        random_state = 0, \n",
    "                        reg_alpha = 0, \n",
    "                        reg_lambda = 1, \n",
    "                        sampling_method = 'uniform', \n",
    "                        scale_pos_weight = None, \n",
    "                        subsample = 1, \n",
    "                        tree_method = 'hist', \n",
    "                        use_label_encoder = False, \n",
    "                        validate_parameters = 1, \n",
    "                        verbosity = None, \n",
    "                        early_stopping_rounds = est)\n",
    "\n",
    "                    # Training Set\n",
    "                    model_xgb.fit(Xx_train, Yy_train, \n",
    "                                  eval_set=[(Xx_train, Yy_train), (Xx_FNA, Yy_FNA)])\n",
    "\n",
    "                    importances = permutation_importance(model_xgb, Xx_FNA, Yy_FNA, n_repeats=10, random_state=42, n_jobs=-1)\n",
    "                    print(importances[\"importances_mean\"])\n",
    "                    \n",
    "                    if itr == 1:\n",
    "                        z[0] = lr\n",
    "                        z[1] = est\n",
    "                        z[2] = d\n",
    "                        z[3] = t\n",
    "                        z[4] = f1_score(mm_train, model_xgb.predict(nn_train), sample_weight=sampleW)\n",
    "                        z[5] = matthews_corrcoef(mm_train, model_xgb.predict(nn_train), sample_weight=sampleW)\n",
    "                        z[6] = f1_score(Yy_Ext, model_xgb.predict(Xx_Ext), sample_weight=sampleExtW)\n",
    "                        z[7] = matthews_corrcoef(Yy_Ext, model_xgb.predict(Xx_Ext), sample_weight=sampleExtW)\n",
    "                        print(\"## No CV ##\")\n",
    "                        f1_10_train = cross_val_score(model_xgb, Xx_train, Yy_train, cv = 3, scoring=f1)\n",
    "                        z[8] = avgScore(f1_10_train, 3)\n",
    "                        #z[8] = 0\n",
    "                        z[9] = f1_score(Yy_FNA, model_xgb.predict(Xx_FNA), sample_weight=sampleFNAW)\n",
    "                        z[10] = matthews_corrcoef(Yy_FNA, model_xgb.predict(Xx_FNA), sample_weight=sampleFNAW)\n",
    "                        z[11] = recall_score(Yy_FNA, model_xgb.predict(Xx_FNA))\n",
    "                        z[12] = rs\n",
    "                        z[13] = importances[\"importances_mean\"][0]\n",
    "                        z[14] = importances[\"importances_mean\"][1]\n",
    "                        z[15] = importances[\"importances_mean\"][2]\n",
    "                        z[16] = importances[\"importances_mean\"][3]\n",
    "                        z[17] = importances[\"importances_mean\"][4]\n",
    "                        z[18] = importances[\"importances_mean\"][5]\n",
    "                        z[19] = importances[\"importances_mean\"][6]\n",
    "                        z[20] = importances[\"importances_mean\"][7]\n",
    "                        z[21] = importances[\"importances_mean\"][8]\n",
    "                        z[22] = importances[\"importances_mean\"][9]\n",
    "                        z[23] = importances[\"importances_mean\"][10]\n",
    "                        z[24] = importances[\"importances_mean\"][11]\n",
    "                        z[25] = importances[\"importances_mean\"][12]\n",
    "                        z[26] = importances[\"importances_mean\"][13]\n",
    "                        z[27] = importances[\"importances_mean\"][14]\n",
    "                        z[28] = importances[\"importances_mean\"][15]\n",
    "                        z[29] = importances[\"importances_mean\"][16]\n",
    "                        z[30] = importances[\"importances_mean\"][17]\n",
    "                        z[31] = importances[\"importances_std\"][0]\n",
    "                        z[32] = importances[\"importances_std\"][1]\n",
    "                        z[33] = importances[\"importances_std\"][2]\n",
    "                        z[34] = importances[\"importances_std\"][3]\n",
    "                        z[35] = importances[\"importances_std\"][4]\n",
    "                        z[36] = importances[\"importances_std\"][5]\n",
    "                        z[37] = importances[\"importances_std\"][6]\n",
    "                        z[38] = importances[\"importances_std\"][7]\n",
    "                        z[39] = importances[\"importances_std\"][8]\n",
    "                        z[40] = importances[\"importances_std\"][9]\n",
    "                        z[41] = importances[\"importances_std\"][10]\n",
    "                        z[42] = importances[\"importances_std\"][11]\n",
    "                        z[43] = importances[\"importances_std\"][12]\n",
    "                        z[44] = importances[\"importances_std\"][13]\n",
    "                        z[45] = importances[\"importances_std\"][14]\n",
    "                        z[46] = importances[\"importances_std\"][15]\n",
    "                        z[47] = importances[\"importances_std\"][16]\n",
    "                        z[48] = importances[\"importances_std\"][17]\n",
    "                    else:\n",
    "                        itrain = f1_score(mm_train, model_xgb.predict(nn_train), sample_weight=sampleW)\n",
    "                        jtrain = matthews_corrcoef(mm_train, model_xgb.predict(nn_train), sample_weight=sampleW)\n",
    "                        ival = f1_score(Yy_Ext, model_xgb.predict(Xx_Ext), sample_weight=sampleExtW)\n",
    "                        jval = matthews_corrcoef(Yy_Ext, model_xgb.predict(Xx_Ext), sample_weight=sampleExtW)\n",
    "                        print(\"## No CV ##\")\n",
    "                        f1_10_train = cross_val_score(model_xgb, Xx_train, Yy_train, cv = 3, scoring=f1)\n",
    "                        traincvtrain = avgScore(f1_10_train, 3) \n",
    "                        f1s = f1_score(Yy_FNA, model_xgb.predict(Xx_FNA), sample_weight=sampleFNAW)\n",
    "                        mccs = matthews_corrcoef(Yy_FNA, model_xgb.predict(Xx_FNA), sample_weight=sampleFNAW)\n",
    "                        rec = recall_score(Yy_FNA, model_xgb.predict(Xx_FNA))\n",
    "                        im1 = importances[\"importances_mean\"][0]\n",
    "                        im2 = importances[\"importances_mean\"][1]\n",
    "                        im3 = importances[\"importances_mean\"][2]\n",
    "                        im4 = importances[\"importances_mean\"][3]\n",
    "                        im5 = importances[\"importances_mean\"][4]\n",
    "                        im6 = importances[\"importances_mean\"][5]\n",
    "                        im7 = importances[\"importances_mean\"][6]\n",
    "                        im8 = importances[\"importances_mean\"][7]\n",
    "                        im9 = importances[\"importances_mean\"][8]\n",
    "                        im10 = importances[\"importances_mean\"][9]\n",
    "                        im11 = importances[\"importances_mean\"][10]\n",
    "                        im12 = importances[\"importances_mean\"][11]\n",
    "                        im13 = importances[\"importances_mean\"][12]\n",
    "                        im14 = importances[\"importances_mean\"][13]\n",
    "                        im15 = importances[\"importances_mean\"][14]\n",
    "                        im16 = importances[\"importances_mean\"][15]\n",
    "                        im17 = importances[\"importances_mean\"][16]\n",
    "                        im18 = importances[\"importances_mean\"][17]\n",
    "                        sd1 = importances[\"importances_std\"][0]\n",
    "                        sd2 = importances[\"importances_std\"][1]\n",
    "                        sd3 = importances[\"importances_std\"][2]\n",
    "                        sd4 = importances[\"importances_std\"][3]\n",
    "                        sd5 = importances[\"importances_std\"][4]\n",
    "                        sd6 = importances[\"importances_std\"][5]\n",
    "                        sd7 = importances[\"importances_std\"][6]\n",
    "                        sd8 = importances[\"importances_std\"][7]\n",
    "                        sd9 = importances[\"importances_std\"][8]\n",
    "                        sd10 = importances[\"importances_std\"][9]\n",
    "                        sd11 = importances[\"importances_std\"][10]\n",
    "                        sd12 = importances[\"importances_std\"][11]\n",
    "                        sd13 = importances[\"importances_std\"][12]\n",
    "                        sd14 = importances[\"importances_std\"][13]\n",
    "                        sd15 = importances[\"importances_std\"][14]\n",
    "                        sd16 = importances[\"importances_std\"][15]\n",
    "                        sd17 = importances[\"importances_std\"][16]\n",
    "                        sd18 = importances[\"importances_std\"][17]\n",
    "                        tem = np.array([lr, est, d, t, itrain, jtrain, ival, jval, traincvtrain, f1s, mccs, rec, rs, im1, im2, im3, im4, im5, im6, im7, im8, im9, im10, im11, im12, im13, im14, im15, im16, im17, im18, sd1, sd2, sd3, sd4, sd5, sd6, sd7, sd8, sd9, sd10, sd11, sd12, sd13, sd14, sd15, sd16, sd17, sd18])\n",
    "                        z = np.row_stack([z, tem])\n",
    "                        print(z[-1])\n",
    "                    print(\"End of \", itr, \" iterations\")\n",
    "                    itr += 1\n",
    "    z_df = pd.DataFrame(z, columns=[\"lr\", \"est\", \"depth\", \"tree\", \n",
    "                                    \"f1_train\", \"mcc_train\", \"f1_ext\", \"mcc_ext\", \n",
    "                                    \"f1_3Ftrain\", \"f1_fna\", \"mcc_fna\", \"recall\", \"state\", \n",
    "                                    \"im1\", \"im2\", \"im3\", \"im4\", \"im5\", \"im6\", \"im7\", \"im8\", \"im9\", \n",
    "                                    \"im10\", \"im11\", \"im12\", \"im13\", \"im14\", \"im15\", \"im16\", \"im17\", \"im18\", \n",
    "                                    \"sd1\", \"sd2\", \"sd3\", \"sd4\", \"sd5\", \"sd6\", \"sd7\", \"sd8\", \"sd9\", \n",
    "                                    \"sd10\", \"sd11\", \"sd12\", \"sd13\", \"sd14\", \"sd15\", \"sd16\", \"sd17\", \"sd18\"])\n",
    "\n",
    "    return z_df\n"
   ]
  },
  {
   "cell_type": "code",
   "execution_count": 26,
   "id": "ff9f9ffb",
   "metadata": {},
   "outputs": [],
   "source": [
    "import warnings\n",
    "warnings.filterwarnings('ignore')"
   ]
  },
  {
   "cell_type": "code",
   "execution_count": 27,
   "id": "2799165c",
   "metadata": {
    "scrolled": true
   },
   "outputs": [
    {
     "name": "stdout",
     "output_type": "stream",
     "text": [
      "itr= 1 , lr= 100 , est= 2 , depth= 5 , tree= 25\n",
      "## loading in data ##\n",
      "## Classification ##\n",
      "[0]\tvalidation_0-auc:0.95678\tvalidation_1-auc:0.50113\n",
      "[1]\tvalidation_0-auc:0.85757\tvalidation_1-auc:0.74063\n",
      "[2]\tvalidation_0-auc:0.94401\tvalidation_1-auc:0.51815\n",
      "[ 0.00201802  0.03708526  0.06375125  0.04071093  0.01025693  0.00120292\n",
      "  0.          0.02367955 -0.0254766   0.00417695  0.00199434  0.\n",
      "  0.00101915  0.06104328  0.          0.03468281  0.         -0.00538551]\n",
      "## No CV ##\n",
      "End of  1  iterations\n",
      "itr= 2 , lr= 100 , est= 3 , depth= 5 , tree= 25\n",
      "## loading in data ##\n",
      "## Classification ##\n",
      "[0]\tvalidation_0-auc:0.95678\tvalidation_1-auc:0.50113\n",
      "[1]\tvalidation_0-auc:0.85757\tvalidation_1-auc:0.74063\n",
      "[2]\tvalidation_0-auc:0.94401\tvalidation_1-auc:0.51815\n",
      "[3]\tvalidation_0-auc:0.93390\tvalidation_1-auc:0.65856\n",
      "[4]\tvalidation_0-auc:0.95779\tvalidation_1-auc:0.50982\n",
      "[ 0.00201802  0.03708526  0.06375125  0.04071093  0.01025693  0.00120292\n",
      "  0.          0.02367955 -0.0254766   0.00417695  0.00199434  0.\n",
      "  0.00101915  0.06104328  0.          0.03468281  0.         -0.00538551]\n",
      "## No CV ##\n",
      "[ 1.00000000e+02  3.00000000e+00  5.00000000e+00  2.50000000e+01\n",
      "  8.62303697e-01  7.22274849e-01  8.24976118e-01  6.29363570e-01\n",
      "             nan  7.82421589e-01  5.21238379e-01  9.32655511e-01\n",
      "  4.20000000e+01  2.01801558e-03  3.70852640e-02  6.37512542e-02\n",
      "  4.07109277e-02  1.02569306e-02  1.20291767e-03  0.00000000e+00\n",
      "  2.36795527e-02 -2.54766012e-02  4.17695404e-03  1.99434054e-03\n",
      "  0.00000000e+00  1.01915424e-03  6.10432802e-02  0.00000000e+00\n",
      "  3.46828108e-02  0.00000000e+00 -5.38550862e-03  1.33489003e-04\n",
      "  7.41561828e-04  8.51943578e-04  4.37053982e-04  3.46559810e-04\n",
      "  1.26050294e-04  0.00000000e+00  8.09492401e-04  4.18464162e-04\n",
      "  1.94632807e-04  2.15176634e-04  0.00000000e+00  1.30620835e-04\n",
      "  5.71154974e-04  0.00000000e+00  9.24979111e-04  0.00000000e+00\n",
      "  2.98960632e-04]\n",
      "End of  2  iterations\n",
      "itr= 3 , lr= 100 , est= 5 , depth= 5 , tree= 25\n",
      "## loading in data ##\n",
      "## Classification ##\n",
      "[0]\tvalidation_0-auc:0.95678\tvalidation_1-auc:0.50113\n",
      "[1]\tvalidation_0-auc:0.85757\tvalidation_1-auc:0.74063\n",
      "[2]\tvalidation_0-auc:0.94401\tvalidation_1-auc:0.51815\n",
      "[3]\tvalidation_0-auc:0.93390\tvalidation_1-auc:0.65856\n",
      "[4]\tvalidation_0-auc:0.95779\tvalidation_1-auc:0.50982\n",
      "[5]\tvalidation_0-auc:0.94132\tvalidation_1-auc:0.60771\n",
      "[6]\tvalidation_0-auc:0.96140\tvalidation_1-auc:0.58536\n",
      "[ 0.00201802  0.03708526  0.06375125  0.04071093  0.01025693  0.00120292\n",
      "  0.          0.02367955 -0.0254766   0.00417695  0.00199434  0.\n",
      "  0.00101915  0.06104328  0.          0.03468281  0.         -0.00538551]\n",
      "## No CV ##\n",
      "[ 1.00000000e+02  5.00000000e+00  5.00000000e+00  2.50000000e+01\n",
      "  8.62303697e-01  7.22274849e-01  8.24976118e-01  6.29363570e-01\n",
      "             nan  7.82421589e-01  5.21238379e-01  9.32655511e-01\n",
      "  4.20000000e+01  2.01801558e-03  3.70852640e-02  6.37512542e-02\n",
      "  4.07109277e-02  1.02569306e-02  1.20291767e-03  0.00000000e+00\n",
      "  2.36795527e-02 -2.54766012e-02  4.17695404e-03  1.99434054e-03\n",
      "  0.00000000e+00  1.01915424e-03  6.10432802e-02  0.00000000e+00\n",
      "  3.46828108e-02  0.00000000e+00 -5.38550862e-03  1.33489003e-04\n",
      "  7.41561828e-04  8.51943578e-04  4.37053982e-04  3.46559810e-04\n",
      "  1.26050294e-04  0.00000000e+00  8.09492401e-04  4.18464162e-04\n",
      "  1.94632807e-04  2.15176634e-04  0.00000000e+00  1.30620835e-04\n",
      "  5.71154974e-04  0.00000000e+00  9.24979111e-04  0.00000000e+00\n",
      "  2.98960632e-04]\n",
      "End of  3  iterations\n",
      "itr= 4 , lr= 100 , est= 7 , depth= 5 , tree= 25\n",
      "## loading in data ##\n",
      "## Classification ##\n",
      "[0]\tvalidation_0-auc:0.95678\tvalidation_1-auc:0.50113\n",
      "[1]\tvalidation_0-auc:0.85757\tvalidation_1-auc:0.74063\n",
      "[2]\tvalidation_0-auc:0.94401\tvalidation_1-auc:0.51815\n",
      "[3]\tvalidation_0-auc:0.93390\tvalidation_1-auc:0.65856\n",
      "[4]\tvalidation_0-auc:0.95779\tvalidation_1-auc:0.50982\n",
      "[5]\tvalidation_0-auc:0.94132\tvalidation_1-auc:0.60771\n",
      "[6]\tvalidation_0-auc:0.96140\tvalidation_1-auc:0.58536\n",
      "[7]\tvalidation_0-auc:0.95617\tvalidation_1-auc:0.63571\n",
      "[ 0.00201802  0.03708526  0.06375125  0.04071093  0.01025693  0.00120292\n",
      "  0.          0.02367955 -0.0254766   0.00417695  0.00199434  0.\n",
      "  0.00101915  0.06104328  0.          0.03468281  0.         -0.00538551]\n",
      "## No CV ##\n",
      "[ 1.00000000e+02  7.00000000e+00  5.00000000e+00  2.50000000e+01\n",
      "  8.62303697e-01  7.22274849e-01  8.24976118e-01  6.29363570e-01\n",
      "             nan  7.82421589e-01  5.21238379e-01  9.32655511e-01\n",
      "  4.20000000e+01  2.01801558e-03  3.70852640e-02  6.37512542e-02\n",
      "  4.07109277e-02  1.02569306e-02  1.20291767e-03  0.00000000e+00\n",
      "  2.36795527e-02 -2.54766012e-02  4.17695404e-03  1.99434054e-03\n",
      "  0.00000000e+00  1.01915424e-03  6.10432802e-02  0.00000000e+00\n",
      "  3.46828108e-02  0.00000000e+00 -5.38550862e-03  1.33489003e-04\n",
      "  7.41561828e-04  8.51943578e-04  4.37053982e-04  3.46559810e-04\n",
      "  1.26050294e-04  0.00000000e+00  8.09492401e-04  4.18464162e-04\n",
      "  1.94632807e-04  2.15176634e-04  0.00000000e+00  1.30620835e-04\n",
      "  5.71154974e-04  0.00000000e+00  9.24979111e-04  0.00000000e+00\n",
      "  2.98960632e-04]\n",
      "End of  4  iterations\n",
      "itr= 5 , lr= 100 , est= 10 , depth= 5 , tree= 25\n",
      "## loading in data ##\n",
      "## Classification ##\n",
      "[0]\tvalidation_0-auc:0.95678\tvalidation_1-auc:0.50113\n",
      "[1]\tvalidation_0-auc:0.85757\tvalidation_1-auc:0.74063\n",
      "[2]\tvalidation_0-auc:0.94401\tvalidation_1-auc:0.51815\n",
      "[3]\tvalidation_0-auc:0.93390\tvalidation_1-auc:0.65856\n",
      "[4]\tvalidation_0-auc:0.95779\tvalidation_1-auc:0.50982\n",
      "[5]\tvalidation_0-auc:0.94132\tvalidation_1-auc:0.60771\n",
      "[6]\tvalidation_0-auc:0.96140\tvalidation_1-auc:0.58536\n",
      "[7]\tvalidation_0-auc:0.95617\tvalidation_1-auc:0.63571\n",
      "[8]\tvalidation_0-auc:0.96324\tvalidation_1-auc:0.59343\n",
      "[9]\tvalidation_0-auc:0.96124\tvalidation_1-auc:0.64723\n",
      "[10]\tvalidation_0-auc:0.95547\tvalidation_1-auc:0.57006\n",
      "[11]\tvalidation_0-auc:0.97268\tvalidation_1-auc:0.63156\n",
      "[ 0.00201802  0.03708526  0.06375125  0.04071093  0.01025693  0.00120292\n",
      "  0.          0.02367955 -0.0254766   0.00417695  0.00199434  0.\n",
      "  0.00101915  0.06104328  0.          0.03468281  0.         -0.00538551]\n",
      "## No CV ##\n",
      "[ 1.00000000e+02  1.00000000e+01  5.00000000e+00  2.50000000e+01\n",
      "  8.62303697e-01  7.22274849e-01  8.24976118e-01  6.29363570e-01\n",
      "             nan  7.82421589e-01  5.21238379e-01  9.32655511e-01\n",
      "  4.20000000e+01  2.01801558e-03  3.70852640e-02  6.37512542e-02\n",
      "  4.07109277e-02  1.02569306e-02  1.20291767e-03  0.00000000e+00\n",
      "  2.36795527e-02 -2.54766012e-02  4.17695404e-03  1.99434054e-03\n",
      "  0.00000000e+00  1.01915424e-03  6.10432802e-02  0.00000000e+00\n",
      "  3.46828108e-02  0.00000000e+00 -5.38550862e-03  1.33489003e-04\n",
      "  7.41561828e-04  8.51943578e-04  4.37053982e-04  3.46559810e-04\n",
      "  1.26050294e-04  0.00000000e+00  8.09492401e-04  4.18464162e-04\n",
      "  1.94632807e-04  2.15176634e-04  0.00000000e+00  1.30620835e-04\n",
      "  5.71154974e-04  0.00000000e+00  9.24979111e-04  0.00000000e+00\n",
      "  2.98960632e-04]\n",
      "End of  5  iterations\n",
      "itr= 6 , lr= 100 , est= 2 , depth= 5 , tree= 50\n",
      "## loading in data ##\n",
      "## Classification ##\n",
      "[0]\tvalidation_0-auc:0.95678\tvalidation_1-auc:0.50113\n",
      "[1]\tvalidation_0-auc:0.85757\tvalidation_1-auc:0.74063\n",
      "[2]\tvalidation_0-auc:0.94401\tvalidation_1-auc:0.51815\n",
      "[3]\tvalidation_0-auc:0.93390\tvalidation_1-auc:0.65856\n",
      "[ 0.00201802  0.03708526  0.06375125  0.04071093  0.01025693  0.00120292\n",
      "  0.          0.02367955 -0.0254766   0.00417695  0.00199434  0.\n",
      "  0.00101915  0.06104328  0.          0.03468281  0.         -0.00538551]\n",
      "## No CV ##\n",
      "[ 1.00000000e+02  2.00000000e+00  5.00000000e+00  5.00000000e+01\n",
      "  8.62303697e-01  7.22274849e-01  8.24976118e-01  6.29363570e-01\n",
      "             nan  7.82421589e-01  5.21238379e-01  9.32655511e-01\n",
      "  4.20000000e+01  2.01801558e-03  3.70852640e-02  6.37512542e-02\n",
      "  4.07109277e-02  1.02569306e-02  1.20291767e-03  0.00000000e+00\n",
      "  2.36795527e-02 -2.54766012e-02  4.17695404e-03  1.99434054e-03\n",
      "  0.00000000e+00  1.01915424e-03  6.10432802e-02  0.00000000e+00\n",
      "  3.46828108e-02  0.00000000e+00 -5.38550862e-03  1.33489003e-04\n",
      "  7.41561828e-04  8.51943578e-04  4.37053982e-04  3.46559810e-04\n",
      "  1.26050294e-04  0.00000000e+00  8.09492401e-04  4.18464162e-04\n",
      "  1.94632807e-04  2.15176634e-04  0.00000000e+00  1.30620835e-04\n",
      "  5.71154974e-04  0.00000000e+00  9.24979111e-04  0.00000000e+00\n",
      "  2.98960632e-04]\n",
      "End of  6  iterations\n",
      "itr= 7 , lr= 100 , est= 3 , depth= 5 , tree= 50\n",
      "## loading in data ##\n",
      "## Classification ##\n",
      "[0]\tvalidation_0-auc:0.95678\tvalidation_1-auc:0.50113\n"
     ]
    },
    {
     "name": "stdout",
     "output_type": "stream",
     "text": [
      "[1]\tvalidation_0-auc:0.85757\tvalidation_1-auc:0.74063\n",
      "[2]\tvalidation_0-auc:0.94401\tvalidation_1-auc:0.51815\n",
      "[3]\tvalidation_0-auc:0.93390\tvalidation_1-auc:0.65856\n",
      "[4]\tvalidation_0-auc:0.95779\tvalidation_1-auc:0.50982\n",
      "[ 0.00201802  0.03708526  0.06375125  0.04071093  0.01025693  0.00120292\n",
      "  0.          0.02367955 -0.0254766   0.00417695  0.00199434  0.\n",
      "  0.00101915  0.06104328  0.          0.03468281  0.         -0.00538551]\n",
      "## No CV ##\n",
      "[ 1.00000000e+02  3.00000000e+00  5.00000000e+00  5.00000000e+01\n",
      "  8.62303697e-01  7.22274849e-01  8.24976118e-01  6.29363570e-01\n",
      "             nan  7.82421589e-01  5.21238379e-01  9.32655511e-01\n",
      "  4.20000000e+01  2.01801558e-03  3.70852640e-02  6.37512542e-02\n",
      "  4.07109277e-02  1.02569306e-02  1.20291767e-03  0.00000000e+00\n",
      "  2.36795527e-02 -2.54766012e-02  4.17695404e-03  1.99434054e-03\n",
      "  0.00000000e+00  1.01915424e-03  6.10432802e-02  0.00000000e+00\n",
      "  3.46828108e-02  0.00000000e+00 -5.38550862e-03  1.33489003e-04\n",
      "  7.41561828e-04  8.51943578e-04  4.37053982e-04  3.46559810e-04\n",
      "  1.26050294e-04  0.00000000e+00  8.09492401e-04  4.18464162e-04\n",
      "  1.94632807e-04  2.15176634e-04  0.00000000e+00  1.30620835e-04\n",
      "  5.71154974e-04  0.00000000e+00  9.24979111e-04  0.00000000e+00\n",
      "  2.98960632e-04]\n",
      "End of  7  iterations\n",
      "itr= 8 , lr= 100 , est= 5 , depth= 5 , tree= 50\n",
      "## loading in data ##\n",
      "## Classification ##\n",
      "[0]\tvalidation_0-auc:0.95678\tvalidation_1-auc:0.50113\n",
      "[1]\tvalidation_0-auc:0.85757\tvalidation_1-auc:0.74063\n",
      "[2]\tvalidation_0-auc:0.94401\tvalidation_1-auc:0.51815\n",
      "[3]\tvalidation_0-auc:0.93390\tvalidation_1-auc:0.65856\n",
      "[4]\tvalidation_0-auc:0.95779\tvalidation_1-auc:0.50982\n",
      "[5]\tvalidation_0-auc:0.94132\tvalidation_1-auc:0.60771\n",
      "[ 0.00201802  0.03708526  0.06375125  0.04071093  0.01025693  0.00120292\n",
      "  0.          0.02367955 -0.0254766   0.00417695  0.00199434  0.\n",
      "  0.00101915  0.06104328  0.          0.03468281  0.         -0.00538551]\n",
      "## No CV ##\n",
      "[ 1.00000000e+02  5.00000000e+00  5.00000000e+00  5.00000000e+01\n",
      "  8.62303697e-01  7.22274849e-01  8.24976118e-01  6.29363570e-01\n",
      "             nan  7.82421589e-01  5.21238379e-01  9.32655511e-01\n",
      "  4.20000000e+01  2.01801558e-03  3.70852640e-02  6.37512542e-02\n",
      "  4.07109277e-02  1.02569306e-02  1.20291767e-03  0.00000000e+00\n",
      "  2.36795527e-02 -2.54766012e-02  4.17695404e-03  1.99434054e-03\n",
      "  0.00000000e+00  1.01915424e-03  6.10432802e-02  0.00000000e+00\n",
      "  3.46828108e-02  0.00000000e+00 -5.38550862e-03  1.33489003e-04\n",
      "  7.41561828e-04  8.51943578e-04  4.37053982e-04  3.46559810e-04\n",
      "  1.26050294e-04  0.00000000e+00  8.09492401e-04  4.18464162e-04\n",
      "  1.94632807e-04  2.15176634e-04  0.00000000e+00  1.30620835e-04\n",
      "  5.71154974e-04  0.00000000e+00  9.24979111e-04  0.00000000e+00\n",
      "  2.98960632e-04]\n",
      "End of  8  iterations\n",
      "itr= 9 , lr= 100 , est= 7 , depth= 5 , tree= 50\n",
      "## loading in data ##\n",
      "## Classification ##\n",
      "[0]\tvalidation_0-auc:0.95678\tvalidation_1-auc:0.50113\n",
      "[1]\tvalidation_0-auc:0.85757\tvalidation_1-auc:0.74063\n",
      "[2]\tvalidation_0-auc:0.94401\tvalidation_1-auc:0.51815\n",
      "[3]\tvalidation_0-auc:0.93390\tvalidation_1-auc:0.65856\n",
      "[4]\tvalidation_0-auc:0.95779\tvalidation_1-auc:0.50982\n",
      "[5]\tvalidation_0-auc:0.94132\tvalidation_1-auc:0.60771\n",
      "[6]\tvalidation_0-auc:0.96140\tvalidation_1-auc:0.58536\n",
      "[7]\tvalidation_0-auc:0.95617\tvalidation_1-auc:0.63571\n",
      "[8]\tvalidation_0-auc:0.96324\tvalidation_1-auc:0.59343\n",
      "[ 0.00201802  0.03708526  0.06375125  0.04071093  0.01025693  0.00120292\n",
      "  0.          0.02367955 -0.0254766   0.00417695  0.00199434  0.\n",
      "  0.00101915  0.06104328  0.          0.03468281  0.         -0.00538551]\n",
      "## No CV ##\n",
      "[ 1.00000000e+02  7.00000000e+00  5.00000000e+00  5.00000000e+01\n",
      "  8.62303697e-01  7.22274849e-01  8.24976118e-01  6.29363570e-01\n",
      "             nan  7.82421589e-01  5.21238379e-01  9.32655511e-01\n",
      "  4.20000000e+01  2.01801558e-03  3.70852640e-02  6.37512542e-02\n",
      "  4.07109277e-02  1.02569306e-02  1.20291767e-03  0.00000000e+00\n",
      "  2.36795527e-02 -2.54766012e-02  4.17695404e-03  1.99434054e-03\n",
      "  0.00000000e+00  1.01915424e-03  6.10432802e-02  0.00000000e+00\n",
      "  3.46828108e-02  0.00000000e+00 -5.38550862e-03  1.33489003e-04\n",
      "  7.41561828e-04  8.51943578e-04  4.37053982e-04  3.46559810e-04\n",
      "  1.26050294e-04  0.00000000e+00  8.09492401e-04  4.18464162e-04\n",
      "  1.94632807e-04  2.15176634e-04  0.00000000e+00  1.30620835e-04\n",
      "  5.71154974e-04  0.00000000e+00  9.24979111e-04  0.00000000e+00\n",
      "  2.98960632e-04]\n",
      "End of  9  iterations\n",
      "itr= 10 , lr= 100 , est= 10 , depth= 5 , tree= 50\n",
      "## loading in data ##\n",
      "## Classification ##\n",
      "[0]\tvalidation_0-auc:0.95678\tvalidation_1-auc:0.50113\n",
      "[1]\tvalidation_0-auc:0.85757\tvalidation_1-auc:0.74063\n",
      "[2]\tvalidation_0-auc:0.94401\tvalidation_1-auc:0.51815\n",
      "[3]\tvalidation_0-auc:0.93390\tvalidation_1-auc:0.65856\n",
      "[4]\tvalidation_0-auc:0.95779\tvalidation_1-auc:0.50982\n",
      "[5]\tvalidation_0-auc:0.94132\tvalidation_1-auc:0.60771\n",
      "[6]\tvalidation_0-auc:0.96140\tvalidation_1-auc:0.58536\n",
      "[7]\tvalidation_0-auc:0.95617\tvalidation_1-auc:0.63571\n",
      "[8]\tvalidation_0-auc:0.96324\tvalidation_1-auc:0.59343\n",
      "[9]\tvalidation_0-auc:0.96124\tvalidation_1-auc:0.64723\n",
      "[10]\tvalidation_0-auc:0.95547\tvalidation_1-auc:0.57006\n",
      "[ 0.00201802  0.03708526  0.06375125  0.04071093  0.01025693  0.00120292\n",
      "  0.          0.02367955 -0.0254766   0.00417695  0.00199434  0.\n",
      "  0.00101915  0.06104328  0.          0.03468281  0.         -0.00538551]\n",
      "## No CV ##\n",
      "[ 1.00000000e+02  1.00000000e+01  5.00000000e+00  5.00000000e+01\n",
      "  8.62303697e-01  7.22274849e-01  8.24976118e-01  6.29363570e-01\n",
      "             nan  7.82421589e-01  5.21238379e-01  9.32655511e-01\n",
      "  4.20000000e+01  2.01801558e-03  3.70852640e-02  6.37512542e-02\n",
      "  4.07109277e-02  1.02569306e-02  1.20291767e-03  0.00000000e+00\n",
      "  2.36795527e-02 -2.54766012e-02  4.17695404e-03  1.99434054e-03\n",
      "  0.00000000e+00  1.01915424e-03  6.10432802e-02  0.00000000e+00\n",
      "  3.46828108e-02  0.00000000e+00 -5.38550862e-03  1.33489003e-04\n",
      "  7.41561828e-04  8.51943578e-04  4.37053982e-04  3.46559810e-04\n",
      "  1.26050294e-04  0.00000000e+00  8.09492401e-04  4.18464162e-04\n",
      "  1.94632807e-04  2.15176634e-04  0.00000000e+00  1.30620835e-04\n",
      "  5.71154974e-04  0.00000000e+00  9.24979111e-04  0.00000000e+00\n",
      "  2.98960632e-04]\n",
      "End of  10  iterations\n",
      "itr= 11 , lr= 100 , est= 2 , depth= 5 , tree= 100\n",
      "## loading in data ##\n",
      "## Classification ##\n",
      "[0]\tvalidation_0-auc:0.95678\tvalidation_1-auc:0.50113\n",
      "[1]\tvalidation_0-auc:0.85757\tvalidation_1-auc:0.74063\n",
      "[2]\tvalidation_0-auc:0.94401\tvalidation_1-auc:0.51815\n",
      "[3]\tvalidation_0-auc:0.93390\tvalidation_1-auc:0.65856\n",
      "[ 0.00201802  0.03708526  0.06375125  0.04071093  0.01025693  0.00120292\n",
      "  0.          0.02367955 -0.0254766   0.00417695  0.00199434  0.\n",
      "  0.00101915  0.06104328  0.          0.03468281  0.         -0.00538551]\n",
      "## No CV ##\n",
      "[ 1.00000000e+02  2.00000000e+00  5.00000000e+00  1.00000000e+02\n",
      "  8.62303697e-01  7.22274849e-01  8.24976118e-01  6.29363570e-01\n",
      "             nan  7.82421589e-01  5.21238379e-01  9.32655511e-01\n",
      "  4.20000000e+01  2.01801558e-03  3.70852640e-02  6.37512542e-02\n",
      "  4.07109277e-02  1.02569306e-02  1.20291767e-03  0.00000000e+00\n",
      "  2.36795527e-02 -2.54766012e-02  4.17695404e-03  1.99434054e-03\n",
      "  0.00000000e+00  1.01915424e-03  6.10432802e-02  0.00000000e+00\n",
      "  3.46828108e-02  0.00000000e+00 -5.38550862e-03  1.33489003e-04\n",
      "  7.41561828e-04  8.51943578e-04  4.37053982e-04  3.46559810e-04\n",
      "  1.26050294e-04  0.00000000e+00  8.09492401e-04  4.18464162e-04\n",
      "  1.94632807e-04  2.15176634e-04  0.00000000e+00  1.30620835e-04\n",
      "  5.71154974e-04  0.00000000e+00  9.24979111e-04  0.00000000e+00\n",
      "  2.98960632e-04]\n",
      "End of  11  iterations\n",
      "itr= 12 , lr= 100 , est= 3 , depth= 5 , tree= 100\n",
      "## loading in data ##\n",
      "## Classification ##\n",
      "[0]\tvalidation_0-auc:0.95678\tvalidation_1-auc:0.50113\n",
      "[1]\tvalidation_0-auc:0.85757\tvalidation_1-auc:0.74063\n",
      "[2]\tvalidation_0-auc:0.94401\tvalidation_1-auc:0.51815\n",
      "[3]\tvalidation_0-auc:0.93390\tvalidation_1-auc:0.65856\n",
      "[4]\tvalidation_0-auc:0.95779\tvalidation_1-auc:0.50982\n",
      "[ 0.00201802  0.03708526  0.06375125  0.04071093  0.01025693  0.00120292\n",
      "  0.          0.02367955 -0.0254766   0.00417695  0.00199434  0.\n",
      "  0.00101915  0.06104328  0.          0.03468281  0.         -0.00538551]\n",
      "## No CV ##\n",
      "[ 1.00000000e+02  3.00000000e+00  5.00000000e+00  1.00000000e+02\n",
      "  8.62303697e-01  7.22274849e-01  8.24976118e-01  6.29363570e-01\n",
      "             nan  7.82421589e-01  5.21238379e-01  9.32655511e-01\n",
      "  4.20000000e+01  2.01801558e-03  3.70852640e-02  6.37512542e-02\n",
      "  4.07109277e-02  1.02569306e-02  1.20291767e-03  0.00000000e+00\n",
      "  2.36795527e-02 -2.54766012e-02  4.17695404e-03  1.99434054e-03\n",
      "  0.00000000e+00  1.01915424e-03  6.10432802e-02  0.00000000e+00\n",
      "  3.46828108e-02  0.00000000e+00 -5.38550862e-03  1.33489003e-04\n",
      "  7.41561828e-04  8.51943578e-04  4.37053982e-04  3.46559810e-04\n",
      "  1.26050294e-04  0.00000000e+00  8.09492401e-04  4.18464162e-04\n",
      "  1.94632807e-04  2.15176634e-04  0.00000000e+00  1.30620835e-04\n",
      "  5.71154974e-04  0.00000000e+00  9.24979111e-04  0.00000000e+00\n",
      "  2.98960632e-04]\n",
      "End of  12  iterations\n",
      "itr= 13 , lr= 100 , est= 5 , depth= 5 , tree= 100\n",
      "## loading in data ##\n",
      "## Classification ##\n",
      "[0]\tvalidation_0-auc:0.95678\tvalidation_1-auc:0.50113\n"
     ]
    },
    {
     "name": "stdout",
     "output_type": "stream",
     "text": [
      "[1]\tvalidation_0-auc:0.85757\tvalidation_1-auc:0.74063\n",
      "[2]\tvalidation_0-auc:0.94401\tvalidation_1-auc:0.51815\n",
      "[3]\tvalidation_0-auc:0.93390\tvalidation_1-auc:0.65856\n",
      "[4]\tvalidation_0-auc:0.95779\tvalidation_1-auc:0.50982\n",
      "[5]\tvalidation_0-auc:0.94132\tvalidation_1-auc:0.60771\n",
      "[ 0.00201802  0.03708526  0.06375125  0.04071093  0.01025693  0.00120292\n",
      "  0.          0.02367955 -0.0254766   0.00417695  0.00199434  0.\n",
      "  0.00101915  0.06104328  0.          0.03468281  0.         -0.00538551]\n",
      "## No CV ##\n",
      "[ 1.00000000e+02  5.00000000e+00  5.00000000e+00  1.00000000e+02\n",
      "  8.62303697e-01  7.22274849e-01  8.24976118e-01  6.29363570e-01\n",
      "             nan  7.82421589e-01  5.21238379e-01  9.32655511e-01\n",
      "  4.20000000e+01  2.01801558e-03  3.70852640e-02  6.37512542e-02\n",
      "  4.07109277e-02  1.02569306e-02  1.20291767e-03  0.00000000e+00\n",
      "  2.36795527e-02 -2.54766012e-02  4.17695404e-03  1.99434054e-03\n",
      "  0.00000000e+00  1.01915424e-03  6.10432802e-02  0.00000000e+00\n",
      "  3.46828108e-02  0.00000000e+00 -5.38550862e-03  1.33489003e-04\n",
      "  7.41561828e-04  8.51943578e-04  4.37053982e-04  3.46559810e-04\n",
      "  1.26050294e-04  0.00000000e+00  8.09492401e-04  4.18464162e-04\n",
      "  1.94632807e-04  2.15176634e-04  0.00000000e+00  1.30620835e-04\n",
      "  5.71154974e-04  0.00000000e+00  9.24979111e-04  0.00000000e+00\n",
      "  2.98960632e-04]\n",
      "End of  13  iterations\n",
      "itr= 14 , lr= 100 , est= 7 , depth= 5 , tree= 100\n",
      "## loading in data ##\n",
      "## Classification ##\n",
      "[0]\tvalidation_0-auc:0.95678\tvalidation_1-auc:0.50113\n",
      "[1]\tvalidation_0-auc:0.85757\tvalidation_1-auc:0.74063\n",
      "[2]\tvalidation_0-auc:0.94401\tvalidation_1-auc:0.51815\n",
      "[3]\tvalidation_0-auc:0.93390\tvalidation_1-auc:0.65856\n",
      "[4]\tvalidation_0-auc:0.95779\tvalidation_1-auc:0.50982\n",
      "[5]\tvalidation_0-auc:0.94132\tvalidation_1-auc:0.60771\n",
      "[6]\tvalidation_0-auc:0.96140\tvalidation_1-auc:0.58536\n",
      "[7]\tvalidation_0-auc:0.95617\tvalidation_1-auc:0.63571\n",
      "[8]\tvalidation_0-auc:0.96324\tvalidation_1-auc:0.59343\n",
      "[ 0.00201802  0.03708526  0.06375125  0.04071093  0.01025693  0.00120292\n",
      "  0.          0.02367955 -0.0254766   0.00417695  0.00199434  0.\n",
      "  0.00101915  0.06104328  0.          0.03468281  0.         -0.00538551]\n",
      "## No CV ##\n",
      "[ 1.00000000e+02  7.00000000e+00  5.00000000e+00  1.00000000e+02\n",
      "  8.62303697e-01  7.22274849e-01  8.24976118e-01  6.29363570e-01\n",
      "             nan  7.82421589e-01  5.21238379e-01  9.32655511e-01\n",
      "  4.20000000e+01  2.01801558e-03  3.70852640e-02  6.37512542e-02\n",
      "  4.07109277e-02  1.02569306e-02  1.20291767e-03  0.00000000e+00\n",
      "  2.36795527e-02 -2.54766012e-02  4.17695404e-03  1.99434054e-03\n",
      "  0.00000000e+00  1.01915424e-03  6.10432802e-02  0.00000000e+00\n",
      "  3.46828108e-02  0.00000000e+00 -5.38550862e-03  1.33489003e-04\n",
      "  7.41561828e-04  8.51943578e-04  4.37053982e-04  3.46559810e-04\n",
      "  1.26050294e-04  0.00000000e+00  8.09492401e-04  4.18464162e-04\n",
      "  1.94632807e-04  2.15176634e-04  0.00000000e+00  1.30620835e-04\n",
      "  5.71154974e-04  0.00000000e+00  9.24979111e-04  0.00000000e+00\n",
      "  2.98960632e-04]\n",
      "End of  14  iterations\n",
      "itr= 15 , lr= 100 , est= 10 , depth= 5 , tree= 100\n",
      "## loading in data ##\n",
      "## Classification ##\n",
      "[0]\tvalidation_0-auc:0.95678\tvalidation_1-auc:0.50113\n",
      "[1]\tvalidation_0-auc:0.85757\tvalidation_1-auc:0.74063\n",
      "[2]\tvalidation_0-auc:0.94401\tvalidation_1-auc:0.51815\n",
      "[3]\tvalidation_0-auc:0.93390\tvalidation_1-auc:0.65856\n",
      "[4]\tvalidation_0-auc:0.95779\tvalidation_1-auc:0.50982\n",
      "[5]\tvalidation_0-auc:0.94132\tvalidation_1-auc:0.60771\n",
      "[6]\tvalidation_0-auc:0.96140\tvalidation_1-auc:0.58536\n",
      "[7]\tvalidation_0-auc:0.95617\tvalidation_1-auc:0.63571\n",
      "[8]\tvalidation_0-auc:0.96324\tvalidation_1-auc:0.59343\n",
      "[9]\tvalidation_0-auc:0.96124\tvalidation_1-auc:0.64723\n",
      "[10]\tvalidation_0-auc:0.95547\tvalidation_1-auc:0.57006\n",
      "[11]\tvalidation_0-auc:0.97268\tvalidation_1-auc:0.63156\n",
      "[ 0.00201802  0.03708526  0.06375125  0.04071093  0.01025693  0.00120292\n",
      "  0.          0.02367955 -0.0254766   0.00417695  0.00199434  0.\n",
      "  0.00101915  0.06104328  0.          0.03468281  0.         -0.00538551]\n",
      "## No CV ##\n",
      "[ 1.00000000e+02  1.00000000e+01  5.00000000e+00  1.00000000e+02\n",
      "  8.62303697e-01  7.22274849e-01  8.24976118e-01  6.29363570e-01\n",
      "             nan  7.82421589e-01  5.21238379e-01  9.32655511e-01\n",
      "  4.20000000e+01  2.01801558e-03  3.70852640e-02  6.37512542e-02\n",
      "  4.07109277e-02  1.02569306e-02  1.20291767e-03  0.00000000e+00\n",
      "  2.36795527e-02 -2.54766012e-02  4.17695404e-03  1.99434054e-03\n",
      "  0.00000000e+00  1.01915424e-03  6.10432802e-02  0.00000000e+00\n",
      "  3.46828108e-02  0.00000000e+00 -5.38550862e-03  1.33489003e-04\n",
      "  7.41561828e-04  8.51943578e-04  4.37053982e-04  3.46559810e-04\n",
      "  1.26050294e-04  0.00000000e+00  8.09492401e-04  4.18464162e-04\n",
      "  1.94632807e-04  2.15176634e-04  0.00000000e+00  1.30620835e-04\n",
      "  5.71154974e-04  0.00000000e+00  9.24979111e-04  0.00000000e+00\n",
      "  2.98960632e-04]\n",
      "End of  15  iterations\n",
      "itr= 16 , lr= 100 , est= 2 , depth= 6 , tree= 25\n",
      "## loading in data ##\n",
      "## Classification ##\n",
      "[0]\tvalidation_0-auc:0.96932\tvalidation_1-auc:0.62389\n",
      "[1]\tvalidation_0-auc:0.96529\tvalidation_1-auc:0.64812\n",
      "[2]\tvalidation_0-auc:0.96198\tvalidation_1-auc:0.62291\n",
      "[ 1.19502599e-04 -9.79695832e-03  6.96576138e-02  3.38688403e-02\n",
      "  2.04721480e-02  6.89958400e-04  4.09014555e-03  3.16253481e-02\n",
      " -1.35567806e-02  5.95145489e-03  8.81613511e-04  4.84774693e-05\n",
      " -7.89168104e-06 -2.97189434e-02 -5.84018219e-02  1.70494132e-02\n",
      " -3.34945491e-03  9.48467323e-03]\n",
      "## No CV ##\n",
      "[ 1.00000000e+02  2.00000000e+00  6.00000000e+00  2.50000000e+01\n",
      "  9.76542706e-01  9.52817228e-01  8.18141975e-01  6.09868226e-01\n",
      "             nan  6.61565446e-01  2.97182051e-01  6.87824098e-01\n",
      "  4.20000000e+01  1.19502599e-04 -9.79695832e-03  6.96576138e-02\n",
      "  3.38688403e-02  2.04721480e-02  6.89958400e-04  4.09014555e-03\n",
      "  3.16253481e-02 -1.35567806e-02  5.95145489e-03  8.81613511e-04\n",
      "  4.84774693e-05 -7.89168104e-06 -2.97189434e-02 -5.84018219e-02\n",
      "  1.70494132e-02 -3.34945491e-03  9.48467323e-03  7.76504227e-05\n",
      "  3.54184915e-04  6.16278535e-04  1.26331101e-03  3.76196408e-04\n",
      "  6.66587547e-05  1.56523641e-04  6.18414539e-04  1.89067878e-04\n",
      "  2.17526499e-04  1.33945247e-04  7.05943437e-05  7.21877345e-06\n",
      "  4.41711194e-04  8.85351755e-04  4.51180031e-04  7.73634501e-05\n",
      "  1.00328283e-03]\n",
      "End of  16  iterations\n",
      "itr= 17 , lr= 100 , est= 3 , depth= 6 , tree= 25\n",
      "## loading in data ##\n",
      "## Classification ##\n",
      "[0]\tvalidation_0-auc:0.96932\tvalidation_1-auc:0.62389\n",
      "[1]\tvalidation_0-auc:0.96529\tvalidation_1-auc:0.64812\n",
      "[2]\tvalidation_0-auc:0.96198\tvalidation_1-auc:0.62291\n",
      "[3]\tvalidation_0-auc:0.97487\tvalidation_1-auc:0.58982\n",
      "[4]\tvalidation_0-auc:0.97483\tvalidation_1-auc:0.58465\n",
      "[ 1.19502599e-04 -9.79695832e-03  6.96576138e-02  3.38688403e-02\n",
      "  2.04721480e-02  6.89958400e-04  4.09014555e-03  3.16253481e-02\n",
      " -1.35567806e-02  5.95145489e-03  8.81613511e-04  4.84774693e-05\n",
      " -7.89168104e-06 -2.97189434e-02 -5.84018219e-02  1.70494132e-02\n",
      " -3.34945491e-03  9.48467323e-03]\n",
      "## No CV ##\n",
      "[ 1.00000000e+02  3.00000000e+00  6.00000000e+00  2.50000000e+01\n",
      "  9.76542706e-01  9.52817228e-01  8.18141975e-01  6.09868226e-01\n",
      "             nan  6.61565446e-01  2.97182051e-01  6.87824098e-01\n",
      "  4.20000000e+01  1.19502599e-04 -9.79695832e-03  6.96576138e-02\n",
      "  3.38688403e-02  2.04721480e-02  6.89958400e-04  4.09014555e-03\n",
      "  3.16253481e-02 -1.35567806e-02  5.95145489e-03  8.81613511e-04\n",
      "  4.84774693e-05 -7.89168104e-06 -2.97189434e-02 -5.84018219e-02\n",
      "  1.70494132e-02 -3.34945491e-03  9.48467323e-03  7.76504227e-05\n",
      "  3.54184915e-04  6.16278535e-04  1.26331101e-03  3.76196408e-04\n",
      "  6.66587547e-05  1.56523641e-04  6.18414539e-04  1.89067878e-04\n",
      "  2.17526499e-04  1.33945247e-04  7.05943437e-05  7.21877345e-06\n",
      "  4.41711194e-04  8.85351755e-04  4.51180031e-04  7.73634501e-05\n",
      "  1.00328283e-03]\n",
      "End of  17  iterations\n",
      "itr= 18 , lr= 100 , est= 5 , depth= 6 , tree= 25\n",
      "## loading in data ##\n",
      "## Classification ##\n",
      "[0]\tvalidation_0-auc:0.96932\tvalidation_1-auc:0.62389\n",
      "[1]\tvalidation_0-auc:0.96529\tvalidation_1-auc:0.64812\n",
      "[2]\tvalidation_0-auc:0.96198\tvalidation_1-auc:0.62291\n",
      "[3]\tvalidation_0-auc:0.97487\tvalidation_1-auc:0.58982\n",
      "[4]\tvalidation_0-auc:0.97483\tvalidation_1-auc:0.58465\n",
      "[5]\tvalidation_0-auc:0.97796\tvalidation_1-auc:0.64212\n",
      "[6]\tvalidation_0-auc:0.98426\tvalidation_1-auc:0.62534\n",
      "[ 1.19502599e-04 -9.79695832e-03  6.96576138e-02  3.38688403e-02\n",
      "  2.04721480e-02  6.89958400e-04  4.09014555e-03  3.16253481e-02\n",
      " -1.35567806e-02  5.95145489e-03  8.81613511e-04  4.84774693e-05\n",
      " -7.89168104e-06 -2.97189434e-02 -5.84018219e-02  1.70494132e-02\n",
      " -3.34945491e-03  9.48467323e-03]\n",
      "## No CV ##\n"
     ]
    },
    {
     "name": "stdout",
     "output_type": "stream",
     "text": [
      "[ 1.00000000e+02  5.00000000e+00  6.00000000e+00  2.50000000e+01\n",
      "  9.76542706e-01  9.52817228e-01  8.18141975e-01  6.09868226e-01\n",
      "             nan  6.61565446e-01  2.97182051e-01  6.87824098e-01\n",
      "  4.20000000e+01  1.19502599e-04 -9.79695832e-03  6.96576138e-02\n",
      "  3.38688403e-02  2.04721480e-02  6.89958400e-04  4.09014555e-03\n",
      "  3.16253481e-02 -1.35567806e-02  5.95145489e-03  8.81613511e-04\n",
      "  4.84774693e-05 -7.89168104e-06 -2.97189434e-02 -5.84018219e-02\n",
      "  1.70494132e-02 -3.34945491e-03  9.48467323e-03  7.76504227e-05\n",
      "  3.54184915e-04  6.16278535e-04  1.26331101e-03  3.76196408e-04\n",
      "  6.66587547e-05  1.56523641e-04  6.18414539e-04  1.89067878e-04\n",
      "  2.17526499e-04  1.33945247e-04  7.05943437e-05  7.21877345e-06\n",
      "  4.41711194e-04  8.85351755e-04  4.51180031e-04  7.73634501e-05\n",
      "  1.00328283e-03]\n",
      "End of  18  iterations\n",
      "itr= 19 , lr= 100 , est= 7 , depth= 6 , tree= 25\n",
      "## loading in data ##\n",
      "## Classification ##\n",
      "[0]\tvalidation_0-auc:0.96932\tvalidation_1-auc:0.62389\n",
      "[1]\tvalidation_0-auc:0.96529\tvalidation_1-auc:0.64812\n",
      "[2]\tvalidation_0-auc:0.96198\tvalidation_1-auc:0.62291\n",
      "[3]\tvalidation_0-auc:0.97487\tvalidation_1-auc:0.58982\n",
      "[4]\tvalidation_0-auc:0.97483\tvalidation_1-auc:0.58465\n",
      "[5]\tvalidation_0-auc:0.97796\tvalidation_1-auc:0.64212\n",
      "[6]\tvalidation_0-auc:0.98426\tvalidation_1-auc:0.62534\n",
      "[7]\tvalidation_0-auc:0.98059\tvalidation_1-auc:0.57224\n",
      "[ 1.19502599e-04 -9.79695832e-03  6.96576138e-02  3.38688403e-02\n",
      "  2.04721480e-02  6.89958400e-04  4.09014555e-03  3.16253481e-02\n",
      " -1.35567806e-02  5.95145489e-03  8.81613511e-04  4.84774693e-05\n",
      " -7.89168104e-06 -2.97189434e-02 -5.84018219e-02  1.70494132e-02\n",
      " -3.34945491e-03  9.48467323e-03]\n",
      "## No CV ##\n",
      "[ 1.00000000e+02  7.00000000e+00  6.00000000e+00  2.50000000e+01\n",
      "  9.76542706e-01  9.52817228e-01  8.18141975e-01  6.09868226e-01\n",
      "             nan  6.61565446e-01  2.97182051e-01  6.87824098e-01\n",
      "  4.20000000e+01  1.19502599e-04 -9.79695832e-03  6.96576138e-02\n",
      "  3.38688403e-02  2.04721480e-02  6.89958400e-04  4.09014555e-03\n",
      "  3.16253481e-02 -1.35567806e-02  5.95145489e-03  8.81613511e-04\n",
      "  4.84774693e-05 -7.89168104e-06 -2.97189434e-02 -5.84018219e-02\n",
      "  1.70494132e-02 -3.34945491e-03  9.48467323e-03  7.76504227e-05\n",
      "  3.54184915e-04  6.16278535e-04  1.26331101e-03  3.76196408e-04\n",
      "  6.66587547e-05  1.56523641e-04  6.18414539e-04  1.89067878e-04\n",
      "  2.17526499e-04  1.33945247e-04  7.05943437e-05  7.21877345e-06\n",
      "  4.41711194e-04  8.85351755e-04  4.51180031e-04  7.73634501e-05\n",
      "  1.00328283e-03]\n",
      "End of  19  iterations\n",
      "itr= 20 , lr= 100 , est= 10 , depth= 6 , tree= 25\n",
      "## loading in data ##\n",
      "## Classification ##\n",
      "[0]\tvalidation_0-auc:0.96932\tvalidation_1-auc:0.62389\n",
      "[1]\tvalidation_0-auc:0.96529\tvalidation_1-auc:0.64812\n",
      "[2]\tvalidation_0-auc:0.96198\tvalidation_1-auc:0.62291\n",
      "[3]\tvalidation_0-auc:0.97487\tvalidation_1-auc:0.58982\n",
      "[4]\tvalidation_0-auc:0.97483\tvalidation_1-auc:0.58465\n",
      "[5]\tvalidation_0-auc:0.97796\tvalidation_1-auc:0.64212\n",
      "[6]\tvalidation_0-auc:0.98426\tvalidation_1-auc:0.62534\n",
      "[7]\tvalidation_0-auc:0.98059\tvalidation_1-auc:0.57224\n",
      "[8]\tvalidation_0-auc:0.98480\tvalidation_1-auc:0.54113\n",
      "[9]\tvalidation_0-auc:0.98218\tvalidation_1-auc:0.54557\n",
      "[10]\tvalidation_0-auc:0.98673\tvalidation_1-auc:0.57095\n",
      "[ 1.19502599e-04 -9.79695832e-03  6.96576138e-02  3.38688403e-02\n",
      "  2.04721480e-02  6.89958400e-04  4.09014555e-03  3.16253481e-02\n",
      " -1.35567806e-02  5.95145489e-03  8.81613511e-04  4.84774693e-05\n",
      " -7.89168104e-06 -2.97189434e-02 -5.84018219e-02  1.70494132e-02\n",
      " -3.34945491e-03  9.48467323e-03]\n",
      "## No CV ##\n",
      "[ 1.00000000e+02  1.00000000e+01  6.00000000e+00  2.50000000e+01\n",
      "  9.76542706e-01  9.52817228e-01  8.18141975e-01  6.09868226e-01\n",
      "             nan  6.61565446e-01  2.97182051e-01  6.87824098e-01\n",
      "  4.20000000e+01  1.19502599e-04 -9.79695832e-03  6.96576138e-02\n",
      "  3.38688403e-02  2.04721480e-02  6.89958400e-04  4.09014555e-03\n",
      "  3.16253481e-02 -1.35567806e-02  5.95145489e-03  8.81613511e-04\n",
      "  4.84774693e-05 -7.89168104e-06 -2.97189434e-02 -5.84018219e-02\n",
      "  1.70494132e-02 -3.34945491e-03  9.48467323e-03  7.76504227e-05\n",
      "  3.54184915e-04  6.16278535e-04  1.26331101e-03  3.76196408e-04\n",
      "  6.66587547e-05  1.56523641e-04  6.18414539e-04  1.89067878e-04\n",
      "  2.17526499e-04  1.33945247e-04  7.05943437e-05  7.21877345e-06\n",
      "  4.41711194e-04  8.85351755e-04  4.51180031e-04  7.73634501e-05\n",
      "  1.00328283e-03]\n",
      "End of  20  iterations\n",
      "itr= 21 , lr= 100 , est= 2 , depth= 6 , tree= 50\n",
      "## loading in data ##\n",
      "## Classification ##\n",
      "[0]\tvalidation_0-auc:0.96932\tvalidation_1-auc:0.62389\n",
      "[1]\tvalidation_0-auc:0.96529\tvalidation_1-auc:0.64812\n",
      "[2]\tvalidation_0-auc:0.96198\tvalidation_1-auc:0.62291\n",
      "[3]\tvalidation_0-auc:0.97487\tvalidation_1-auc:0.58982\n",
      "[ 1.19502599e-04 -9.79695832e-03  6.96576138e-02  3.38688403e-02\n",
      "  2.04721480e-02  6.89958400e-04  4.09014555e-03  3.16253481e-02\n",
      " -1.35567806e-02  5.95145489e-03  8.81613511e-04  4.84774693e-05\n",
      " -7.89168104e-06 -2.97189434e-02 -5.84018219e-02  1.70494132e-02\n",
      " -3.34945491e-03  9.48467323e-03]\n",
      "## No CV ##\n",
      "[ 1.00000000e+02  2.00000000e+00  6.00000000e+00  5.00000000e+01\n",
      "  9.76542706e-01  9.52817228e-01  8.18141975e-01  6.09868226e-01\n",
      "             nan  6.61565446e-01  2.97182051e-01  6.87824098e-01\n",
      "  4.20000000e+01  1.19502599e-04 -9.79695832e-03  6.96576138e-02\n",
      "  3.38688403e-02  2.04721480e-02  6.89958400e-04  4.09014555e-03\n",
      "  3.16253481e-02 -1.35567806e-02  5.95145489e-03  8.81613511e-04\n",
      "  4.84774693e-05 -7.89168104e-06 -2.97189434e-02 -5.84018219e-02\n",
      "  1.70494132e-02 -3.34945491e-03  9.48467323e-03  7.76504227e-05\n",
      "  3.54184915e-04  6.16278535e-04  1.26331101e-03  3.76196408e-04\n",
      "  6.66587547e-05  1.56523641e-04  6.18414539e-04  1.89067878e-04\n",
      "  2.17526499e-04  1.33945247e-04  7.05943437e-05  7.21877345e-06\n",
      "  4.41711194e-04  8.85351755e-04  4.51180031e-04  7.73634501e-05\n",
      "  1.00328283e-03]\n",
      "End of  21  iterations\n",
      "itr= 22 , lr= 100 , est= 3 , depth= 6 , tree= 50\n",
      "## loading in data ##\n",
      "## Classification ##\n",
      "[0]\tvalidation_0-auc:0.96932\tvalidation_1-auc:0.62389\n",
      "[1]\tvalidation_0-auc:0.96529\tvalidation_1-auc:0.64812\n",
      "[2]\tvalidation_0-auc:0.96198\tvalidation_1-auc:0.62291\n",
      "[3]\tvalidation_0-auc:0.97487\tvalidation_1-auc:0.58982\n",
      "[ 1.19502599e-04 -9.79695832e-03  6.96576138e-02  3.38688403e-02\n",
      "  2.04721480e-02  6.89958400e-04  4.09014555e-03  3.16253481e-02\n",
      " -1.35567806e-02  5.95145489e-03  8.81613511e-04  4.84774693e-05\n",
      " -7.89168104e-06 -2.97189434e-02 -5.84018219e-02  1.70494132e-02\n",
      " -3.34945491e-03  9.48467323e-03]\n",
      "## No CV ##\n",
      "[ 1.00000000e+02  3.00000000e+00  6.00000000e+00  5.00000000e+01\n",
      "  9.76542706e-01  9.52817228e-01  8.18141975e-01  6.09868226e-01\n",
      "             nan  6.61565446e-01  2.97182051e-01  6.87824098e-01\n",
      "  4.20000000e+01  1.19502599e-04 -9.79695832e-03  6.96576138e-02\n",
      "  3.38688403e-02  2.04721480e-02  6.89958400e-04  4.09014555e-03\n",
      "  3.16253481e-02 -1.35567806e-02  5.95145489e-03  8.81613511e-04\n",
      "  4.84774693e-05 -7.89168104e-06 -2.97189434e-02 -5.84018219e-02\n",
      "  1.70494132e-02 -3.34945491e-03  9.48467323e-03  7.76504227e-05\n",
      "  3.54184915e-04  6.16278535e-04  1.26331101e-03  3.76196408e-04\n",
      "  6.66587547e-05  1.56523641e-04  6.18414539e-04  1.89067878e-04\n",
      "  2.17526499e-04  1.33945247e-04  7.05943437e-05  7.21877345e-06\n",
      "  4.41711194e-04  8.85351755e-04  4.51180031e-04  7.73634501e-05\n",
      "  1.00328283e-03]\n",
      "End of  22  iterations\n",
      "itr= 23 , lr= 100 , est= 5 , depth= 6 , tree= 50\n",
      "## loading in data ##\n",
      "## Classification ##\n",
      "[0]\tvalidation_0-auc:0.96932\tvalidation_1-auc:0.62389\n",
      "[1]\tvalidation_0-auc:0.96529\tvalidation_1-auc:0.64812\n",
      "[2]\tvalidation_0-auc:0.96198\tvalidation_1-auc:0.62291\n",
      "[3]\tvalidation_0-auc:0.97487\tvalidation_1-auc:0.58982\n",
      "[4]\tvalidation_0-auc:0.97483\tvalidation_1-auc:0.58465\n",
      "[5]\tvalidation_0-auc:0.97796\tvalidation_1-auc:0.64212\n",
      "[ 1.19502599e-04 -9.79695832e-03  6.96576138e-02  3.38688403e-02\n",
      "  2.04721480e-02  6.89958400e-04  4.09014555e-03  3.16253481e-02\n",
      " -1.35567806e-02  5.95145489e-03  8.81613511e-04  4.84774693e-05\n",
      " -7.89168104e-06 -2.97189434e-02 -5.84018219e-02  1.70494132e-02\n",
      " -3.34945491e-03  9.48467323e-03]\n",
      "## No CV ##\n",
      "[ 1.00000000e+02  5.00000000e+00  6.00000000e+00  5.00000000e+01\n",
      "  9.76542706e-01  9.52817228e-01  8.18141975e-01  6.09868226e-01\n",
      "             nan  6.61565446e-01  2.97182051e-01  6.87824098e-01\n",
      "  4.20000000e+01  1.19502599e-04 -9.79695832e-03  6.96576138e-02\n",
      "  3.38688403e-02  2.04721480e-02  6.89958400e-04  4.09014555e-03\n",
      "  3.16253481e-02 -1.35567806e-02  5.95145489e-03  8.81613511e-04\n",
      "  4.84774693e-05 -7.89168104e-06 -2.97189434e-02 -5.84018219e-02\n",
      "  1.70494132e-02 -3.34945491e-03  9.48467323e-03  7.76504227e-05\n",
      "  3.54184915e-04  6.16278535e-04  1.26331101e-03  3.76196408e-04\n",
      "  6.66587547e-05  1.56523641e-04  6.18414539e-04  1.89067878e-04\n",
      "  2.17526499e-04  1.33945247e-04  7.05943437e-05  7.21877345e-06\n",
      "  4.41711194e-04  8.85351755e-04  4.51180031e-04  7.73634501e-05\n",
      "  1.00328283e-03]\n",
      "End of  23  iterations\n",
      "itr= 24 , lr= 100 , est= 7 , depth= 6 , tree= 50\n",
      "## loading in data ##\n",
      "## Classification ##\n",
      "[0]\tvalidation_0-auc:0.96932\tvalidation_1-auc:0.62389\n"
     ]
    },
    {
     "name": "stdout",
     "output_type": "stream",
     "text": [
      "[1]\tvalidation_0-auc:0.96529\tvalidation_1-auc:0.64812\n",
      "[2]\tvalidation_0-auc:0.96198\tvalidation_1-auc:0.62291\n",
      "[3]\tvalidation_0-auc:0.97487\tvalidation_1-auc:0.58982\n",
      "[4]\tvalidation_0-auc:0.97483\tvalidation_1-auc:0.58465\n",
      "[5]\tvalidation_0-auc:0.97796\tvalidation_1-auc:0.64212\n",
      "[6]\tvalidation_0-auc:0.98426\tvalidation_1-auc:0.62534\n",
      "[7]\tvalidation_0-auc:0.98059\tvalidation_1-auc:0.57224\n",
      "[8]\tvalidation_0-auc:0.98480\tvalidation_1-auc:0.54113\n",
      "[ 1.19502599e-04 -9.79695832e-03  6.96576138e-02  3.38688403e-02\n",
      "  2.04721480e-02  6.89958400e-04  4.09014555e-03  3.16253481e-02\n",
      " -1.35567806e-02  5.95145489e-03  8.81613511e-04  4.84774693e-05\n",
      " -7.89168104e-06 -2.97189434e-02 -5.84018219e-02  1.70494132e-02\n",
      " -3.34945491e-03  9.48467323e-03]\n",
      "## No CV ##\n",
      "[ 1.00000000e+02  7.00000000e+00  6.00000000e+00  5.00000000e+01\n",
      "  9.76542706e-01  9.52817228e-01  8.18141975e-01  6.09868226e-01\n",
      "             nan  6.61565446e-01  2.97182051e-01  6.87824098e-01\n",
      "  4.20000000e+01  1.19502599e-04 -9.79695832e-03  6.96576138e-02\n",
      "  3.38688403e-02  2.04721480e-02  6.89958400e-04  4.09014555e-03\n",
      "  3.16253481e-02 -1.35567806e-02  5.95145489e-03  8.81613511e-04\n",
      "  4.84774693e-05 -7.89168104e-06 -2.97189434e-02 -5.84018219e-02\n",
      "  1.70494132e-02 -3.34945491e-03  9.48467323e-03  7.76504227e-05\n",
      "  3.54184915e-04  6.16278535e-04  1.26331101e-03  3.76196408e-04\n",
      "  6.66587547e-05  1.56523641e-04  6.18414539e-04  1.89067878e-04\n",
      "  2.17526499e-04  1.33945247e-04  7.05943437e-05  7.21877345e-06\n",
      "  4.41711194e-04  8.85351755e-04  4.51180031e-04  7.73634501e-05\n",
      "  1.00328283e-03]\n",
      "End of  24  iterations\n",
      "itr= 25 , lr= 100 , est= 10 , depth= 6 , tree= 50\n",
      "## loading in data ##\n",
      "## Classification ##\n",
      "[0]\tvalidation_0-auc:0.96932\tvalidation_1-auc:0.62389\n",
      "[1]\tvalidation_0-auc:0.96529\tvalidation_1-auc:0.64812\n",
      "[2]\tvalidation_0-auc:0.96198\tvalidation_1-auc:0.62291\n",
      "[3]\tvalidation_0-auc:0.97487\tvalidation_1-auc:0.58982\n",
      "[4]\tvalidation_0-auc:0.97483\tvalidation_1-auc:0.58465\n",
      "[5]\tvalidation_0-auc:0.97796\tvalidation_1-auc:0.64212\n",
      "[6]\tvalidation_0-auc:0.98426\tvalidation_1-auc:0.62534\n",
      "[7]\tvalidation_0-auc:0.98059\tvalidation_1-auc:0.57224\n",
      "[8]\tvalidation_0-auc:0.98480\tvalidation_1-auc:0.54113\n",
      "[9]\tvalidation_0-auc:0.98218\tvalidation_1-auc:0.54557\n",
      "[10]\tvalidation_0-auc:0.98673\tvalidation_1-auc:0.57095\n",
      "[ 1.19502599e-04 -9.79695832e-03  6.96576138e-02  3.38688403e-02\n",
      "  2.04721480e-02  6.89958400e-04  4.09014555e-03  3.16253481e-02\n",
      " -1.35567806e-02  5.95145489e-03  8.81613511e-04  4.84774693e-05\n",
      " -7.89168104e-06 -2.97189434e-02 -5.84018219e-02  1.70494132e-02\n",
      " -3.34945491e-03  9.48467323e-03]\n",
      "## No CV ##\n",
      "[ 1.00000000e+02  1.00000000e+01  6.00000000e+00  5.00000000e+01\n",
      "  9.76542706e-01  9.52817228e-01  8.18141975e-01  6.09868226e-01\n",
      "             nan  6.61565446e-01  2.97182051e-01  6.87824098e-01\n",
      "  4.20000000e+01  1.19502599e-04 -9.79695832e-03  6.96576138e-02\n",
      "  3.38688403e-02  2.04721480e-02  6.89958400e-04  4.09014555e-03\n",
      "  3.16253481e-02 -1.35567806e-02  5.95145489e-03  8.81613511e-04\n",
      "  4.84774693e-05 -7.89168104e-06 -2.97189434e-02 -5.84018219e-02\n",
      "  1.70494132e-02 -3.34945491e-03  9.48467323e-03  7.76504227e-05\n",
      "  3.54184915e-04  6.16278535e-04  1.26331101e-03  3.76196408e-04\n",
      "  6.66587547e-05  1.56523641e-04  6.18414539e-04  1.89067878e-04\n",
      "  2.17526499e-04  1.33945247e-04  7.05943437e-05  7.21877345e-06\n",
      "  4.41711194e-04  8.85351755e-04  4.51180031e-04  7.73634501e-05\n",
      "  1.00328283e-03]\n",
      "End of  25  iterations\n",
      "itr= 26 , lr= 100 , est= 2 , depth= 6 , tree= 100\n",
      "## loading in data ##\n",
      "## Classification ##\n",
      "[0]\tvalidation_0-auc:0.96932\tvalidation_1-auc:0.62389\n",
      "[1]\tvalidation_0-auc:0.96529\tvalidation_1-auc:0.64812\n",
      "[2]\tvalidation_0-auc:0.96198\tvalidation_1-auc:0.62291\n",
      "[ 1.19502599e-04 -9.79695832e-03  6.96576138e-02  3.38688403e-02\n",
      "  2.04721480e-02  6.89958400e-04  4.09014555e-03  3.16253481e-02\n",
      " -1.35567806e-02  5.95145489e-03  8.81613511e-04  4.84774693e-05\n",
      " -7.89168104e-06 -2.97189434e-02 -5.84018219e-02  1.70494132e-02\n",
      " -3.34945491e-03  9.48467323e-03]\n",
      "## No CV ##\n",
      "[ 1.00000000e+02  2.00000000e+00  6.00000000e+00  1.00000000e+02\n",
      "  9.76542706e-01  9.52817228e-01  8.18141975e-01  6.09868226e-01\n",
      "             nan  6.61565446e-01  2.97182051e-01  6.87824098e-01\n",
      "  4.20000000e+01  1.19502599e-04 -9.79695832e-03  6.96576138e-02\n",
      "  3.38688403e-02  2.04721480e-02  6.89958400e-04  4.09014555e-03\n",
      "  3.16253481e-02 -1.35567806e-02  5.95145489e-03  8.81613511e-04\n",
      "  4.84774693e-05 -7.89168104e-06 -2.97189434e-02 -5.84018219e-02\n",
      "  1.70494132e-02 -3.34945491e-03  9.48467323e-03  7.76504227e-05\n",
      "  3.54184915e-04  6.16278535e-04  1.26331101e-03  3.76196408e-04\n",
      "  6.66587547e-05  1.56523641e-04  6.18414539e-04  1.89067878e-04\n",
      "  2.17526499e-04  1.33945247e-04  7.05943437e-05  7.21877345e-06\n",
      "  4.41711194e-04  8.85351755e-04  4.51180031e-04  7.73634501e-05\n",
      "  1.00328283e-03]\n",
      "End of  26  iterations\n",
      "itr= 27 , lr= 100 , est= 3 , depth= 6 , tree= 100\n",
      "## loading in data ##\n",
      "## Classification ##\n",
      "[0]\tvalidation_0-auc:0.96932\tvalidation_1-auc:0.62389\n",
      "[1]\tvalidation_0-auc:0.96529\tvalidation_1-auc:0.64812\n",
      "[2]\tvalidation_0-auc:0.96198\tvalidation_1-auc:0.62291\n",
      "[3]\tvalidation_0-auc:0.97487\tvalidation_1-auc:0.58982\n",
      "[ 1.19502599e-04 -9.79695832e-03  6.96576138e-02  3.38688403e-02\n",
      "  2.04721480e-02  6.89958400e-04  4.09014555e-03  3.16253481e-02\n",
      " -1.35567806e-02  5.95145489e-03  8.81613511e-04  4.84774693e-05\n",
      " -7.89168104e-06 -2.97189434e-02 -5.84018219e-02  1.70494132e-02\n",
      " -3.34945491e-03  9.48467323e-03]\n",
      "## No CV ##\n",
      "[ 1.00000000e+02  3.00000000e+00  6.00000000e+00  1.00000000e+02\n",
      "  9.76542706e-01  9.52817228e-01  8.18141975e-01  6.09868226e-01\n",
      "             nan  6.61565446e-01  2.97182051e-01  6.87824098e-01\n",
      "  4.20000000e+01  1.19502599e-04 -9.79695832e-03  6.96576138e-02\n",
      "  3.38688403e-02  2.04721480e-02  6.89958400e-04  4.09014555e-03\n",
      "  3.16253481e-02 -1.35567806e-02  5.95145489e-03  8.81613511e-04\n",
      "  4.84774693e-05 -7.89168104e-06 -2.97189434e-02 -5.84018219e-02\n",
      "  1.70494132e-02 -3.34945491e-03  9.48467323e-03  7.76504227e-05\n",
      "  3.54184915e-04  6.16278535e-04  1.26331101e-03  3.76196408e-04\n",
      "  6.66587547e-05  1.56523641e-04  6.18414539e-04  1.89067878e-04\n",
      "  2.17526499e-04  1.33945247e-04  7.05943437e-05  7.21877345e-06\n",
      "  4.41711194e-04  8.85351755e-04  4.51180031e-04  7.73634501e-05\n",
      "  1.00328283e-03]\n",
      "End of  27  iterations\n",
      "itr= 28 , lr= 100 , est= 5 , depth= 6 , tree= 100\n",
      "## loading in data ##\n",
      "## Classification ##\n",
      "[0]\tvalidation_0-auc:0.96932\tvalidation_1-auc:0.62389\n",
      "[1]\tvalidation_0-auc:0.96529\tvalidation_1-auc:0.64812\n",
      "[2]\tvalidation_0-auc:0.96198\tvalidation_1-auc:0.62291\n",
      "[3]\tvalidation_0-auc:0.97487\tvalidation_1-auc:0.58982\n",
      "[4]\tvalidation_0-auc:0.97483\tvalidation_1-auc:0.58465\n",
      "[5]\tvalidation_0-auc:0.97796\tvalidation_1-auc:0.64212\n",
      "[6]\tvalidation_0-auc:0.98426\tvalidation_1-auc:0.62534\n",
      "[ 1.19502599e-04 -9.79695832e-03  6.96576138e-02  3.38688403e-02\n",
      "  2.04721480e-02  6.89958400e-04  4.09014555e-03  3.16253481e-02\n",
      " -1.35567806e-02  5.95145489e-03  8.81613511e-04  4.84774693e-05\n",
      " -7.89168104e-06 -2.97189434e-02 -5.84018219e-02  1.70494132e-02\n",
      " -3.34945491e-03  9.48467323e-03]\n",
      "## No CV ##\n",
      "[ 1.00000000e+02  5.00000000e+00  6.00000000e+00  1.00000000e+02\n",
      "  9.76542706e-01  9.52817228e-01  8.18141975e-01  6.09868226e-01\n",
      "             nan  6.61565446e-01  2.97182051e-01  6.87824098e-01\n",
      "  4.20000000e+01  1.19502599e-04 -9.79695832e-03  6.96576138e-02\n",
      "  3.38688403e-02  2.04721480e-02  6.89958400e-04  4.09014555e-03\n",
      "  3.16253481e-02 -1.35567806e-02  5.95145489e-03  8.81613511e-04\n",
      "  4.84774693e-05 -7.89168104e-06 -2.97189434e-02 -5.84018219e-02\n",
      "  1.70494132e-02 -3.34945491e-03  9.48467323e-03  7.76504227e-05\n",
      "  3.54184915e-04  6.16278535e-04  1.26331101e-03  3.76196408e-04\n",
      "  6.66587547e-05  1.56523641e-04  6.18414539e-04  1.89067878e-04\n",
      "  2.17526499e-04  1.33945247e-04  7.05943437e-05  7.21877345e-06\n",
      "  4.41711194e-04  8.85351755e-04  4.51180031e-04  7.73634501e-05\n",
      "  1.00328283e-03]\n",
      "End of  28  iterations\n",
      "itr= 29 , lr= 100 , est= 7 , depth= 6 , tree= 100\n",
      "## loading in data ##\n",
      "## Classification ##\n",
      "[0]\tvalidation_0-auc:0.96932\tvalidation_1-auc:0.62389\n",
      "[1]\tvalidation_0-auc:0.96529\tvalidation_1-auc:0.64812\n",
      "[2]\tvalidation_0-auc:0.96198\tvalidation_1-auc:0.62291\n",
      "[3]\tvalidation_0-auc:0.97487\tvalidation_1-auc:0.58982\n",
      "[4]\tvalidation_0-auc:0.97483\tvalidation_1-auc:0.58465\n",
      "[5]\tvalidation_0-auc:0.97796\tvalidation_1-auc:0.64212\n"
     ]
    },
    {
     "name": "stdout",
     "output_type": "stream",
     "text": [
      "[6]\tvalidation_0-auc:0.98426\tvalidation_1-auc:0.62534\n",
      "[7]\tvalidation_0-auc:0.98059\tvalidation_1-auc:0.57224\n",
      "[ 1.19502599e-04 -9.79695832e-03  6.96576138e-02  3.38688403e-02\n",
      "  2.04721480e-02  6.89958400e-04  4.09014555e-03  3.16253481e-02\n",
      " -1.35567806e-02  5.95145489e-03  8.81613511e-04  4.84774693e-05\n",
      " -7.89168104e-06 -2.97189434e-02 -5.84018219e-02  1.70494132e-02\n",
      " -3.34945491e-03  9.48467323e-03]\n",
      "## No CV ##\n",
      "[ 1.00000000e+02  7.00000000e+00  6.00000000e+00  1.00000000e+02\n",
      "  9.76542706e-01  9.52817228e-01  8.18141975e-01  6.09868226e-01\n",
      "             nan  6.61565446e-01  2.97182051e-01  6.87824098e-01\n",
      "  4.20000000e+01  1.19502599e-04 -9.79695832e-03  6.96576138e-02\n",
      "  3.38688403e-02  2.04721480e-02  6.89958400e-04  4.09014555e-03\n",
      "  3.16253481e-02 -1.35567806e-02  5.95145489e-03  8.81613511e-04\n",
      "  4.84774693e-05 -7.89168104e-06 -2.97189434e-02 -5.84018219e-02\n",
      "  1.70494132e-02 -3.34945491e-03  9.48467323e-03  7.76504227e-05\n",
      "  3.54184915e-04  6.16278535e-04  1.26331101e-03  3.76196408e-04\n",
      "  6.66587547e-05  1.56523641e-04  6.18414539e-04  1.89067878e-04\n",
      "  2.17526499e-04  1.33945247e-04  7.05943437e-05  7.21877345e-06\n",
      "  4.41711194e-04  8.85351755e-04  4.51180031e-04  7.73634501e-05\n",
      "  1.00328283e-03]\n",
      "End of  29  iterations\n",
      "itr= 30 , lr= 100 , est= 10 , depth= 6 , tree= 100\n",
      "## loading in data ##\n",
      "## Classification ##\n",
      "[0]\tvalidation_0-auc:0.96932\tvalidation_1-auc:0.62389\n",
      "[1]\tvalidation_0-auc:0.96529\tvalidation_1-auc:0.64812\n",
      "[2]\tvalidation_0-auc:0.96198\tvalidation_1-auc:0.62291\n",
      "[3]\tvalidation_0-auc:0.97487\tvalidation_1-auc:0.58982\n",
      "[4]\tvalidation_0-auc:0.97483\tvalidation_1-auc:0.58465\n",
      "[5]\tvalidation_0-auc:0.97796\tvalidation_1-auc:0.64212\n",
      "[6]\tvalidation_0-auc:0.98426\tvalidation_1-auc:0.62534\n",
      "[7]\tvalidation_0-auc:0.98059\tvalidation_1-auc:0.57224\n",
      "[8]\tvalidation_0-auc:0.98480\tvalidation_1-auc:0.54113\n",
      "[9]\tvalidation_0-auc:0.98218\tvalidation_1-auc:0.54557\n",
      "[10]\tvalidation_0-auc:0.98673\tvalidation_1-auc:0.57095\n",
      "[11]\tvalidation_0-auc:0.98384\tvalidation_1-auc:0.55748\n",
      "[ 1.19502599e-04 -9.79695832e-03  6.96576138e-02  3.38688403e-02\n",
      "  2.04721480e-02  6.89958400e-04  4.09014555e-03  3.16253481e-02\n",
      " -1.35567806e-02  5.95145489e-03  8.81613511e-04  4.84774693e-05\n",
      " -7.89168104e-06 -2.97189434e-02 -5.84018219e-02  1.70494132e-02\n",
      " -3.34945491e-03  9.48467323e-03]\n",
      "## No CV ##\n",
      "[ 1.00000000e+02  1.00000000e+01  6.00000000e+00  1.00000000e+02\n",
      "  9.76542706e-01  9.52817228e-01  8.18141975e-01  6.09868226e-01\n",
      "             nan  6.61565446e-01  2.97182051e-01  6.87824098e-01\n",
      "  4.20000000e+01  1.19502599e-04 -9.79695832e-03  6.96576138e-02\n",
      "  3.38688403e-02  2.04721480e-02  6.89958400e-04  4.09014555e-03\n",
      "  3.16253481e-02 -1.35567806e-02  5.95145489e-03  8.81613511e-04\n",
      "  4.84774693e-05 -7.89168104e-06 -2.97189434e-02 -5.84018219e-02\n",
      "  1.70494132e-02 -3.34945491e-03  9.48467323e-03  7.76504227e-05\n",
      "  3.54184915e-04  6.16278535e-04  1.26331101e-03  3.76196408e-04\n",
      "  6.66587547e-05  1.56523641e-04  6.18414539e-04  1.89067878e-04\n",
      "  2.17526499e-04  1.33945247e-04  7.05943437e-05  7.21877345e-06\n",
      "  4.41711194e-04  8.85351755e-04  4.51180031e-04  7.73634501e-05\n",
      "  1.00328283e-03]\n",
      "End of  30  iterations\n",
      "itr= 31 , lr= 100 , est= 2 , depth= 7 , tree= 25\n",
      "## loading in data ##\n",
      "## Classification ##\n",
      "[0]\tvalidation_0-auc:0.97266\tvalidation_1-auc:0.58094\n",
      "[1]\tvalidation_0-auc:0.95396\tvalidation_1-auc:0.68203\n",
      "[2]\tvalidation_0-auc:0.91216\tvalidation_1-auc:0.58717\n",
      "[3]\tvalidation_0-auc:0.97058\tvalidation_1-auc:0.70092\n",
      "[4]\tvalidation_0-auc:0.97387\tvalidation_1-auc:0.72915\n",
      "[5]\tvalidation_0-auc:0.96828\tvalidation_1-auc:0.68233\n",
      "[ 1.32692980e-03  9.34600512e-04  7.77905548e-02  1.94349556e-02\n",
      "  2.26930925e-02  1.45364765e-02  1.17912989e-02  2.16108048e-02\n",
      "  2.21057260e-02 -2.33593759e-03 -2.20741593e-03 -4.96048523e-05\n",
      "  7.26372871e-03  1.06510637e-01 -1.99963924e-02  1.30832798e-02\n",
      " -4.14087778e-03  1.59333040e-02]\n",
      "## No CV ##\n",
      "[ 1.00000000e+02  2.00000000e+00  7.00000000e+00  2.50000000e+01\n",
      "  9.77442031e-01  9.55699974e-01  9.15813428e-01  8.29574657e-01\n",
      "             nan  7.55966958e-01  4.69784960e-01  8.38998211e-01\n",
      "  4.20000000e+01  1.32692980e-03  9.34600512e-04  7.77905548e-02\n",
      "  1.94349556e-02  2.26930925e-02  1.45364765e-02  1.17912989e-02\n",
      "  2.16108048e-02  2.21057260e-02 -2.33593759e-03 -2.20741593e-03\n",
      " -4.96048523e-05  7.26372871e-03  1.06510637e-01 -1.99963924e-02\n",
      "  1.30832798e-02 -4.14087778e-03  1.59333040e-02  1.03700854e-04\n",
      "  7.88837067e-04  1.13474838e-03  3.95692163e-04  6.17049378e-04\n",
      "  5.95941098e-04  6.70986126e-04  6.42597435e-04  6.68905894e-04\n",
      "  2.79345399e-04  2.10660799e-04  7.08010889e-05  1.69111209e-04\n",
      "  8.92275041e-04  7.06394298e-04  4.07085187e-04  1.45432408e-04\n",
      "  6.07157244e-04]\n",
      "End of  31  iterations\n",
      "itr= 32 , lr= 100 , est= 3 , depth= 7 , tree= 25\n",
      "## loading in data ##\n",
      "## Classification ##\n",
      "[0]\tvalidation_0-auc:0.97266\tvalidation_1-auc:0.58094\n",
      "[1]\tvalidation_0-auc:0.95396\tvalidation_1-auc:0.68203\n",
      "[2]\tvalidation_0-auc:0.91216\tvalidation_1-auc:0.58717\n",
      "[3]\tvalidation_0-auc:0.97058\tvalidation_1-auc:0.70092\n",
      "[4]\tvalidation_0-auc:0.97387\tvalidation_1-auc:0.72915\n",
      "[5]\tvalidation_0-auc:0.96828\tvalidation_1-auc:0.68233\n",
      "[6]\tvalidation_0-auc:0.97855\tvalidation_1-auc:0.69837\n",
      "[ 1.32692980e-03  9.34600512e-04  7.77905548e-02  1.94349556e-02\n",
      "  2.26930925e-02  1.45364765e-02  1.17912989e-02  2.16108048e-02\n",
      "  2.21057260e-02 -2.33593759e-03 -2.20741593e-03 -4.96048523e-05\n",
      "  7.26372871e-03  1.06510637e-01 -1.99963924e-02  1.30832798e-02\n",
      " -4.14087778e-03  1.59333040e-02]\n",
      "## No CV ##\n",
      "[ 1.00000000e+02  3.00000000e+00  7.00000000e+00  2.50000000e+01\n",
      "  9.77442031e-01  9.55699974e-01  9.15813428e-01  8.29574657e-01\n",
      "             nan  7.55966958e-01  4.69784960e-01  8.38998211e-01\n",
      "  4.20000000e+01  1.32692980e-03  9.34600512e-04  7.77905548e-02\n",
      "  1.94349556e-02  2.26930925e-02  1.45364765e-02  1.17912989e-02\n",
      "  2.16108048e-02  2.21057260e-02 -2.33593759e-03 -2.20741593e-03\n",
      " -4.96048523e-05  7.26372871e-03  1.06510637e-01 -1.99963924e-02\n",
      "  1.30832798e-02 -4.14087778e-03  1.59333040e-02  1.03700854e-04\n",
      "  7.88837067e-04  1.13474838e-03  3.95692163e-04  6.17049378e-04\n",
      "  5.95941098e-04  6.70986126e-04  6.42597435e-04  6.68905894e-04\n",
      "  2.79345399e-04  2.10660799e-04  7.08010889e-05  1.69111209e-04\n",
      "  8.92275041e-04  7.06394298e-04  4.07085187e-04  1.45432408e-04\n",
      "  6.07157244e-04]\n",
      "End of  32  iterations\n",
      "itr= 33 , lr= 100 , est= 5 , depth= 7 , tree= 25\n",
      "## loading in data ##\n",
      "## Classification ##\n",
      "[0]\tvalidation_0-auc:0.97266\tvalidation_1-auc:0.58094\n",
      "[1]\tvalidation_0-auc:0.95396\tvalidation_1-auc:0.68203\n",
      "[2]\tvalidation_0-auc:0.91216\tvalidation_1-auc:0.58717\n",
      "[3]\tvalidation_0-auc:0.97058\tvalidation_1-auc:0.70092\n",
      "[4]\tvalidation_0-auc:0.97387\tvalidation_1-auc:0.72915\n",
      "[5]\tvalidation_0-auc:0.96828\tvalidation_1-auc:0.68233\n",
      "[6]\tvalidation_0-auc:0.97855\tvalidation_1-auc:0.69837\n",
      "[7]\tvalidation_0-auc:0.97390\tvalidation_1-auc:0.67384\n",
      "[8]\tvalidation_0-auc:0.98011\tvalidation_1-auc:0.71221\n",
      "[ 1.32692980e-03  9.34600512e-04  7.77905548e-02  1.94349556e-02\n",
      "  2.26930925e-02  1.45364765e-02  1.17912989e-02  2.16108048e-02\n",
      "  2.21057260e-02 -2.33593759e-03 -2.20741593e-03 -4.96048523e-05\n",
      "  7.26372871e-03  1.06510637e-01 -1.99963924e-02  1.30832798e-02\n",
      " -4.14087778e-03  1.59333040e-02]\n",
      "## No CV ##\n",
      "[ 1.00000000e+02  5.00000000e+00  7.00000000e+00  2.50000000e+01\n",
      "  9.77442031e-01  9.55699974e-01  9.15813428e-01  8.29574657e-01\n",
      "             nan  7.55966958e-01  4.69784960e-01  8.38998211e-01\n",
      "  4.20000000e+01  1.32692980e-03  9.34600512e-04  7.77905548e-02\n",
      "  1.94349556e-02  2.26930925e-02  1.45364765e-02  1.17912989e-02\n",
      "  2.16108048e-02  2.21057260e-02 -2.33593759e-03 -2.20741593e-03\n",
      " -4.96048523e-05  7.26372871e-03  1.06510637e-01 -1.99963924e-02\n",
      "  1.30832798e-02 -4.14087778e-03  1.59333040e-02  1.03700854e-04\n",
      "  7.88837067e-04  1.13474838e-03  3.95692163e-04  6.17049378e-04\n",
      "  5.95941098e-04  6.70986126e-04  6.42597435e-04  6.68905894e-04\n",
      "  2.79345399e-04  2.10660799e-04  7.08010889e-05  1.69111209e-04\n",
      "  8.92275041e-04  7.06394298e-04  4.07085187e-04  1.45432408e-04\n",
      "  6.07157244e-04]\n",
      "End of  33  iterations\n",
      "itr= 34 , lr= 100 , est= 7 , depth= 7 , tree= 25\n",
      "## loading in data ##\n",
      "## Classification ##\n",
      "[0]\tvalidation_0-auc:0.97266\tvalidation_1-auc:0.58094\n",
      "[1]\tvalidation_0-auc:0.95396\tvalidation_1-auc:0.68203\n",
      "[2]\tvalidation_0-auc:0.91216\tvalidation_1-auc:0.58717\n"
     ]
    },
    {
     "name": "stdout",
     "output_type": "stream",
     "text": [
      "[3]\tvalidation_0-auc:0.97058\tvalidation_1-auc:0.70092\n",
      "[4]\tvalidation_0-auc:0.97387\tvalidation_1-auc:0.72915\n",
      "[5]\tvalidation_0-auc:0.96828\tvalidation_1-auc:0.68233\n",
      "[6]\tvalidation_0-auc:0.97855\tvalidation_1-auc:0.69837\n",
      "[7]\tvalidation_0-auc:0.97390\tvalidation_1-auc:0.67384\n",
      "[8]\tvalidation_0-auc:0.98011\tvalidation_1-auc:0.71221\n",
      "[9]\tvalidation_0-auc:0.97421\tvalidation_1-auc:0.72002\n",
      "[10]\tvalidation_0-auc:0.98458\tvalidation_1-auc:0.71733\n",
      "[11]\tvalidation_0-auc:0.97492\tvalidation_1-auc:0.74077\n",
      "[12]\tvalidation_0-auc:0.98560\tvalidation_1-auc:0.76135\n",
      "[13]\tvalidation_0-auc:0.97673\tvalidation_1-auc:0.71214\n",
      "[14]\tvalidation_0-auc:0.98343\tvalidation_1-auc:0.68545\n",
      "[15]\tvalidation_0-auc:0.97937\tvalidation_1-auc:0.63946\n",
      "[16]\tvalidation_0-auc:0.98623\tvalidation_1-auc:0.64143\n",
      "[17]\tvalidation_0-auc:0.98063\tvalidation_1-auc:0.62981\n",
      "[18]\tvalidation_0-auc:0.98591\tvalidation_1-auc:0.64399\n",
      "[ 0.00114542  0.00435283  0.07245352  0.01274506  0.05406816  0.01294461\n",
      "  0.06650094  0.02804703  0.01954995  0.00822088 -0.0038782  -0.00349489\n",
      "  0.02251158  0.10088725 -0.02387346  0.04015062 -0.000947    0.02480919]\n",
      "## No CV ##\n",
      "[ 1.00000000e+02  7.00000000e+00  7.00000000e+00  2.50000000e+01\n",
      "  9.87775421e-01  9.75910972e-01  9.51283104e-01  9.04950666e-01\n",
      "             nan  7.87541120e-01  5.39343326e-01  8.84581418e-01\n",
      "  4.20000000e+01  1.14542113e-03  4.35282579e-03  7.24535236e-02\n",
      "  1.27450649e-02  5.40681616e-02  1.29446117e-02  6.65009414e-02\n",
      "  2.80470344e-02  1.95499487e-02  8.22087688e-03 -3.87819754e-03\n",
      " -3.49488732e-03  2.25115839e-02  1.00887250e-01 -2.38734625e-02\n",
      "  4.01506184e-02 -9.47001725e-04  2.48091904e-02  1.39649948e-04\n",
      "  9.35869826e-04  1.13925999e-03  5.34128560e-04  7.57756547e-04\n",
      "  6.37381315e-04  6.75038874e-04  5.53148838e-04  3.71778371e-04\n",
      "  2.14309549e-04  2.37768257e-04  3.57577739e-04  4.68747362e-04\n",
      "  9.46193422e-04  7.75721436e-04  6.35252064e-04  1.78895471e-04\n",
      "  6.81972608e-04]\n",
      "End of  34  iterations\n",
      "itr= 35 , lr= 100 , est= 10 , depth= 7 , tree= 25\n",
      "## loading in data ##\n",
      "## Classification ##\n",
      "[0]\tvalidation_0-auc:0.97266\tvalidation_1-auc:0.58094\n",
      "[1]\tvalidation_0-auc:0.95396\tvalidation_1-auc:0.68203\n",
      "[2]\tvalidation_0-auc:0.91216\tvalidation_1-auc:0.58717\n",
      "[3]\tvalidation_0-auc:0.97058\tvalidation_1-auc:0.70092\n",
      "[4]\tvalidation_0-auc:0.97387\tvalidation_1-auc:0.72915\n",
      "[5]\tvalidation_0-auc:0.96828\tvalidation_1-auc:0.68233\n",
      "[6]\tvalidation_0-auc:0.97855\tvalidation_1-auc:0.69837\n",
      "[7]\tvalidation_0-auc:0.97390\tvalidation_1-auc:0.67384\n",
      "[8]\tvalidation_0-auc:0.98011\tvalidation_1-auc:0.71221\n",
      "[9]\tvalidation_0-auc:0.97421\tvalidation_1-auc:0.72002\n",
      "[10]\tvalidation_0-auc:0.98458\tvalidation_1-auc:0.71733\n",
      "[11]\tvalidation_0-auc:0.97492\tvalidation_1-auc:0.74077\n",
      "[12]\tvalidation_0-auc:0.98560\tvalidation_1-auc:0.76135\n",
      "[13]\tvalidation_0-auc:0.97673\tvalidation_1-auc:0.71214\n",
      "[14]\tvalidation_0-auc:0.98343\tvalidation_1-auc:0.68545\n",
      "[15]\tvalidation_0-auc:0.97937\tvalidation_1-auc:0.63946\n",
      "[16]\tvalidation_0-auc:0.98623\tvalidation_1-auc:0.64143\n",
      "[17]\tvalidation_0-auc:0.98063\tvalidation_1-auc:0.62981\n",
      "[18]\tvalidation_0-auc:0.98591\tvalidation_1-auc:0.64399\n",
      "[19]\tvalidation_0-auc:0.98091\tvalidation_1-auc:0.63557\n",
      "[20]\tvalidation_0-auc:0.98636\tvalidation_1-auc:0.65561\n",
      "[21]\tvalidation_0-auc:0.98139\tvalidation_1-auc:0.62571\n",
      "[ 0.00114542  0.00435283  0.07245352  0.01274506  0.05406816  0.01294461\n",
      "  0.06650094  0.02804703  0.01954995  0.00822088 -0.0038782  -0.00349489\n",
      "  0.02251158  0.10088725 -0.02387346  0.04015062 -0.000947    0.02480919]\n",
      "## No CV ##\n",
      "[ 1.00000000e+02  1.00000000e+01  7.00000000e+00  2.50000000e+01\n",
      "  9.87775421e-01  9.75910972e-01  9.51283104e-01  9.04950666e-01\n",
      "             nan  7.87541120e-01  5.39343326e-01  8.84581418e-01\n",
      "  4.20000000e+01  1.14542113e-03  4.35282579e-03  7.24535236e-02\n",
      "  1.27450649e-02  5.40681616e-02  1.29446117e-02  6.65009414e-02\n",
      "  2.80470344e-02  1.95499487e-02  8.22087688e-03 -3.87819754e-03\n",
      " -3.49488732e-03  2.25115839e-02  1.00887250e-01 -2.38734625e-02\n",
      "  4.01506184e-02 -9.47001725e-04  2.48091904e-02  1.39649948e-04\n",
      "  9.35869826e-04  1.13925999e-03  5.34128560e-04  7.57756547e-04\n",
      "  6.37381315e-04  6.75038874e-04  5.53148838e-04  3.71778371e-04\n",
      "  2.14309549e-04  2.37768257e-04  3.57577739e-04  4.68747362e-04\n",
      "  9.46193422e-04  7.75721436e-04  6.35252064e-04  1.78895471e-04\n",
      "  6.81972608e-04]\n",
      "End of  35  iterations\n",
      "itr= 36 , lr= 100 , est= 2 , depth= 7 , tree= 50\n",
      "## loading in data ##\n",
      "## Classification ##\n",
      "[0]\tvalidation_0-auc:0.97266\tvalidation_1-auc:0.58094\n",
      "[1]\tvalidation_0-auc:0.95396\tvalidation_1-auc:0.68203\n",
      "[2]\tvalidation_0-auc:0.91216\tvalidation_1-auc:0.58717\n",
      "[3]\tvalidation_0-auc:0.97058\tvalidation_1-auc:0.70092\n",
      "[4]\tvalidation_0-auc:0.97387\tvalidation_1-auc:0.72915\n",
      "[5]\tvalidation_0-auc:0.96828\tvalidation_1-auc:0.68233\n",
      "[ 1.32692980e-03  9.34600512e-04  7.77905548e-02  1.94349556e-02\n",
      "  2.26930925e-02  1.45364765e-02  1.17912989e-02  2.16108048e-02\n",
      "  2.21057260e-02 -2.33593759e-03 -2.20741593e-03 -4.96048523e-05\n",
      "  7.26372871e-03  1.06510637e-01 -1.99963924e-02  1.30832798e-02\n",
      " -4.14087778e-03  1.59333040e-02]\n",
      "## No CV ##\n",
      "[ 1.00000000e+02  2.00000000e+00  7.00000000e+00  5.00000000e+01\n",
      "  9.77442031e-01  9.55699974e-01  9.15813428e-01  8.29574657e-01\n",
      "             nan  7.55966958e-01  4.69784960e-01  8.38998211e-01\n",
      "  4.20000000e+01  1.32692980e-03  9.34600512e-04  7.77905548e-02\n",
      "  1.94349556e-02  2.26930925e-02  1.45364765e-02  1.17912989e-02\n",
      "  2.16108048e-02  2.21057260e-02 -2.33593759e-03 -2.20741593e-03\n",
      " -4.96048523e-05  7.26372871e-03  1.06510637e-01 -1.99963924e-02\n",
      "  1.30832798e-02 -4.14087778e-03  1.59333040e-02  1.03700854e-04\n",
      "  7.88837067e-04  1.13474838e-03  3.95692163e-04  6.17049378e-04\n",
      "  5.95941098e-04  6.70986126e-04  6.42597435e-04  6.68905894e-04\n",
      "  2.79345399e-04  2.10660799e-04  7.08010889e-05  1.69111209e-04\n",
      "  8.92275041e-04  7.06394298e-04  4.07085187e-04  1.45432408e-04\n",
      "  6.07157244e-04]\n",
      "End of  36  iterations\n",
      "itr= 37 , lr= 100 , est= 3 , depth= 7 , tree= 50\n",
      "## loading in data ##\n",
      "## Classification ##\n",
      "[0]\tvalidation_0-auc:0.97266\tvalidation_1-auc:0.58094\n",
      "[1]\tvalidation_0-auc:0.95396\tvalidation_1-auc:0.68203\n",
      "[2]\tvalidation_0-auc:0.91216\tvalidation_1-auc:0.58717\n",
      "[3]\tvalidation_0-auc:0.97058\tvalidation_1-auc:0.70092\n",
      "[4]\tvalidation_0-auc:0.97387\tvalidation_1-auc:0.72915\n",
      "[5]\tvalidation_0-auc:0.96828\tvalidation_1-auc:0.68233\n",
      "[6]\tvalidation_0-auc:0.97855\tvalidation_1-auc:0.69837\n",
      "[7]\tvalidation_0-auc:0.97390\tvalidation_1-auc:0.67384\n",
      "[ 1.32692980e-03  9.34600512e-04  7.77905548e-02  1.94349556e-02\n",
      "  2.26930925e-02  1.45364765e-02  1.17912989e-02  2.16108048e-02\n",
      "  2.21057260e-02 -2.33593759e-03 -2.20741593e-03 -4.96048523e-05\n",
      "  7.26372871e-03  1.06510637e-01 -1.99963924e-02  1.30832798e-02\n",
      " -4.14087778e-03  1.59333040e-02]\n",
      "## No CV ##\n",
      "[ 1.00000000e+02  3.00000000e+00  7.00000000e+00  5.00000000e+01\n",
      "  9.77442031e-01  9.55699974e-01  9.15813428e-01  8.29574657e-01\n",
      "             nan  7.55966958e-01  4.69784960e-01  8.38998211e-01\n",
      "  4.20000000e+01  1.32692980e-03  9.34600512e-04  7.77905548e-02\n",
      "  1.94349556e-02  2.26930925e-02  1.45364765e-02  1.17912989e-02\n",
      "  2.16108048e-02  2.21057260e-02 -2.33593759e-03 -2.20741593e-03\n",
      " -4.96048523e-05  7.26372871e-03  1.06510637e-01 -1.99963924e-02\n",
      "  1.30832798e-02 -4.14087778e-03  1.59333040e-02  1.03700854e-04\n",
      "  7.88837067e-04  1.13474838e-03  3.95692163e-04  6.17049378e-04\n",
      "  5.95941098e-04  6.70986126e-04  6.42597435e-04  6.68905894e-04\n",
      "  2.79345399e-04  2.10660799e-04  7.08010889e-05  1.69111209e-04\n",
      "  8.92275041e-04  7.06394298e-04  4.07085187e-04  1.45432408e-04\n",
      "  6.07157244e-04]\n",
      "End of  37  iterations\n",
      "itr= 38 , lr= 100 , est= 5 , depth= 7 , tree= 50\n",
      "## loading in data ##\n",
      "## Classification ##\n",
      "[0]\tvalidation_0-auc:0.97266\tvalidation_1-auc:0.58094\n",
      "[1]\tvalidation_0-auc:0.95396\tvalidation_1-auc:0.68203\n",
      "[2]\tvalidation_0-auc:0.91216\tvalidation_1-auc:0.58717\n",
      "[3]\tvalidation_0-auc:0.97058\tvalidation_1-auc:0.70092\n",
      "[4]\tvalidation_0-auc:0.97387\tvalidation_1-auc:0.72915\n",
      "[5]\tvalidation_0-auc:0.96828\tvalidation_1-auc:0.68233\n",
      "[6]\tvalidation_0-auc:0.97855\tvalidation_1-auc:0.69837\n",
      "[7]\tvalidation_0-auc:0.97390\tvalidation_1-auc:0.67384\n",
      "[8]\tvalidation_0-auc:0.98011\tvalidation_1-auc:0.71221\n",
      "[9]\tvalidation_0-auc:0.97421\tvalidation_1-auc:0.72002\n"
     ]
    },
    {
     "ename": "KeyboardInterrupt",
     "evalue": "",
     "output_type": "error",
     "traceback": [
      "\u001b[1;31m---------------------------------------------------------------------------\u001b[0m",
      "\u001b[1;31mKeyboardInterrupt\u001b[0m                         Traceback (most recent call last)",
      "\u001b[1;32m~\\AppData\\Local\\Temp\\ipykernel_14344\\946458670.py\u001b[0m in \u001b[0;36m<cell line: 2>\u001b[1;34m()\u001b[0m\n\u001b[0;32m      1\u001b[0m \u001b[1;31m## call Gradient Boost ##\u001b[0m\u001b[1;33m\u001b[0m\u001b[1;33m\u001b[0m\u001b[0m\n\u001b[1;32m----> 2\u001b[1;33m \u001b[0moptiSearch_df\u001b[0m \u001b[1;33m=\u001b[0m \u001b[0moptimXGBoostClass\u001b[0m\u001b[1;33m(\u001b[0m\u001b[0mtrainDEFSDf\u001b[0m\u001b[1;33m,\u001b[0m \u001b[0mingestedDEFSDf\u001b[0m\u001b[1;33m,\u001b[0m \u001b[0mextDEFSDf\u001b[0m\u001b[1;33m,\u001b[0m \u001b[0mfnaDEFSDf\u001b[0m\u001b[1;33m)\u001b[0m\u001b[1;33m\u001b[0m\u001b[1;33m\u001b[0m\u001b[0m\n\u001b[0m",
      "\u001b[1;32m~\\AppData\\Local\\Temp\\ipykernel_14344\\1680885348.py\u001b[0m in \u001b[0;36moptimXGBoostClass\u001b[1;34m(inputDB, inputDB_ingested, inputDB_ext, inputDB_FNA)\u001b[0m\n\u001b[0;32m     82\u001b[0m                                   eval_set=[(Xx_train, Yy_train), (Xx_FNA, Yy_FNA)])\n\u001b[0;32m     83\u001b[0m \u001b[1;33m\u001b[0m\u001b[0m\n\u001b[1;32m---> 84\u001b[1;33m                     \u001b[0mimportances\u001b[0m \u001b[1;33m=\u001b[0m \u001b[0mpermutation_importance\u001b[0m\u001b[1;33m(\u001b[0m\u001b[0mmodel_xgb\u001b[0m\u001b[1;33m,\u001b[0m \u001b[0mXx_FNA\u001b[0m\u001b[1;33m,\u001b[0m \u001b[0mYy_FNA\u001b[0m\u001b[1;33m,\u001b[0m \u001b[0mn_repeats\u001b[0m\u001b[1;33m=\u001b[0m\u001b[1;36m10\u001b[0m\u001b[1;33m,\u001b[0m \u001b[0mrandom_state\u001b[0m\u001b[1;33m=\u001b[0m\u001b[1;36m42\u001b[0m\u001b[1;33m,\u001b[0m \u001b[0mn_jobs\u001b[0m\u001b[1;33m=\u001b[0m\u001b[1;33m-\u001b[0m\u001b[1;36m1\u001b[0m\u001b[1;33m)\u001b[0m\u001b[1;33m\u001b[0m\u001b[1;33m\u001b[0m\u001b[0m\n\u001b[0m\u001b[0;32m     85\u001b[0m                     \u001b[0mprint\u001b[0m\u001b[1;33m(\u001b[0m\u001b[0mimportances\u001b[0m\u001b[1;33m[\u001b[0m\u001b[1;34m\"importances_mean\"\u001b[0m\u001b[1;33m]\u001b[0m\u001b[1;33m)\u001b[0m\u001b[1;33m\u001b[0m\u001b[1;33m\u001b[0m\u001b[0m\n\u001b[0;32m     86\u001b[0m \u001b[1;33m\u001b[0m\u001b[0m\n",
      "\u001b[1;32m~\\anaconda3\\lib\\site-packages\\sklearn\\inspection\\_permutation_importance.py\u001b[0m in \u001b[0;36mpermutation_importance\u001b[1;34m(estimator, X, y, scoring, n_repeats, n_jobs, random_state, sample_weight, max_samples)\u001b[0m\n\u001b[0;32m    257\u001b[0m     \u001b[0mbaseline_score\u001b[0m \u001b[1;33m=\u001b[0m \u001b[0m_weights_scorer\u001b[0m\u001b[1;33m(\u001b[0m\u001b[0mscorer\u001b[0m\u001b[1;33m,\u001b[0m \u001b[0mestimator\u001b[0m\u001b[1;33m,\u001b[0m \u001b[0mX\u001b[0m\u001b[1;33m,\u001b[0m \u001b[0my\u001b[0m\u001b[1;33m,\u001b[0m \u001b[0msample_weight\u001b[0m\u001b[1;33m)\u001b[0m\u001b[1;33m\u001b[0m\u001b[1;33m\u001b[0m\u001b[0m\n\u001b[0;32m    258\u001b[0m \u001b[1;33m\u001b[0m\u001b[0m\n\u001b[1;32m--> 259\u001b[1;33m     scores = Parallel(n_jobs=n_jobs)(\n\u001b[0m\u001b[0;32m    260\u001b[0m         delayed(_calculate_permutation_scores)(\n\u001b[0;32m    261\u001b[0m             \u001b[0mestimator\u001b[0m\u001b[1;33m,\u001b[0m\u001b[1;33m\u001b[0m\u001b[1;33m\u001b[0m\u001b[0m\n",
      "\u001b[1;32m~\\anaconda3\\lib\\site-packages\\joblib\\parallel.py\u001b[0m in \u001b[0;36m__call__\u001b[1;34m(self, iterable)\u001b[0m\n\u001b[0;32m   1054\u001b[0m \u001b[1;33m\u001b[0m\u001b[0m\n\u001b[0;32m   1055\u001b[0m             \u001b[1;32mwith\u001b[0m \u001b[0mself\u001b[0m\u001b[1;33m.\u001b[0m\u001b[0m_backend\u001b[0m\u001b[1;33m.\u001b[0m\u001b[0mretrieval_context\u001b[0m\u001b[1;33m(\u001b[0m\u001b[1;33m)\u001b[0m\u001b[1;33m:\u001b[0m\u001b[1;33m\u001b[0m\u001b[1;33m\u001b[0m\u001b[0m\n\u001b[1;32m-> 1056\u001b[1;33m                 \u001b[0mself\u001b[0m\u001b[1;33m.\u001b[0m\u001b[0mretrieve\u001b[0m\u001b[1;33m(\u001b[0m\u001b[1;33m)\u001b[0m\u001b[1;33m\u001b[0m\u001b[1;33m\u001b[0m\u001b[0m\n\u001b[0m\u001b[0;32m   1057\u001b[0m             \u001b[1;31m# Make sure that we get a last message telling us we are done\u001b[0m\u001b[1;33m\u001b[0m\u001b[1;33m\u001b[0m\u001b[0m\n\u001b[0;32m   1058\u001b[0m             \u001b[0melapsed_time\u001b[0m \u001b[1;33m=\u001b[0m \u001b[0mtime\u001b[0m\u001b[1;33m.\u001b[0m\u001b[0mtime\u001b[0m\u001b[1;33m(\u001b[0m\u001b[1;33m)\u001b[0m \u001b[1;33m-\u001b[0m \u001b[0mself\u001b[0m\u001b[1;33m.\u001b[0m\u001b[0m_start_time\u001b[0m\u001b[1;33m\u001b[0m\u001b[1;33m\u001b[0m\u001b[0m\n",
      "\u001b[1;32m~\\anaconda3\\lib\\site-packages\\joblib\\parallel.py\u001b[0m in \u001b[0;36mretrieve\u001b[1;34m(self)\u001b[0m\n\u001b[0;32m    933\u001b[0m             \u001b[1;32mtry\u001b[0m\u001b[1;33m:\u001b[0m\u001b[1;33m\u001b[0m\u001b[1;33m\u001b[0m\u001b[0m\n\u001b[0;32m    934\u001b[0m                 \u001b[1;32mif\u001b[0m \u001b[0mgetattr\u001b[0m\u001b[1;33m(\u001b[0m\u001b[0mself\u001b[0m\u001b[1;33m.\u001b[0m\u001b[0m_backend\u001b[0m\u001b[1;33m,\u001b[0m \u001b[1;34m'supports_timeout'\u001b[0m\u001b[1;33m,\u001b[0m \u001b[1;32mFalse\u001b[0m\u001b[1;33m)\u001b[0m\u001b[1;33m:\u001b[0m\u001b[1;33m\u001b[0m\u001b[1;33m\u001b[0m\u001b[0m\n\u001b[1;32m--> 935\u001b[1;33m                     \u001b[0mself\u001b[0m\u001b[1;33m.\u001b[0m\u001b[0m_output\u001b[0m\u001b[1;33m.\u001b[0m\u001b[0mextend\u001b[0m\u001b[1;33m(\u001b[0m\u001b[0mjob\u001b[0m\u001b[1;33m.\u001b[0m\u001b[0mget\u001b[0m\u001b[1;33m(\u001b[0m\u001b[0mtimeout\u001b[0m\u001b[1;33m=\u001b[0m\u001b[0mself\u001b[0m\u001b[1;33m.\u001b[0m\u001b[0mtimeout\u001b[0m\u001b[1;33m)\u001b[0m\u001b[1;33m)\u001b[0m\u001b[1;33m\u001b[0m\u001b[1;33m\u001b[0m\u001b[0m\n\u001b[0m\u001b[0;32m    936\u001b[0m                 \u001b[1;32melse\u001b[0m\u001b[1;33m:\u001b[0m\u001b[1;33m\u001b[0m\u001b[1;33m\u001b[0m\u001b[0m\n\u001b[0;32m    937\u001b[0m                     \u001b[0mself\u001b[0m\u001b[1;33m.\u001b[0m\u001b[0m_output\u001b[0m\u001b[1;33m.\u001b[0m\u001b[0mextend\u001b[0m\u001b[1;33m(\u001b[0m\u001b[0mjob\u001b[0m\u001b[1;33m.\u001b[0m\u001b[0mget\u001b[0m\u001b[1;33m(\u001b[0m\u001b[1;33m)\u001b[0m\u001b[1;33m)\u001b[0m\u001b[1;33m\u001b[0m\u001b[1;33m\u001b[0m\u001b[0m\n",
      "\u001b[1;32m~\\anaconda3\\lib\\site-packages\\joblib\\_parallel_backends.py\u001b[0m in \u001b[0;36mwrap_future_result\u001b[1;34m(future, timeout)\u001b[0m\n\u001b[0;32m    540\u001b[0m         AsyncResults.get from multiprocessing.\"\"\"\n\u001b[0;32m    541\u001b[0m         \u001b[1;32mtry\u001b[0m\u001b[1;33m:\u001b[0m\u001b[1;33m\u001b[0m\u001b[1;33m\u001b[0m\u001b[0m\n\u001b[1;32m--> 542\u001b[1;33m             \u001b[1;32mreturn\u001b[0m \u001b[0mfuture\u001b[0m\u001b[1;33m.\u001b[0m\u001b[0mresult\u001b[0m\u001b[1;33m(\u001b[0m\u001b[0mtimeout\u001b[0m\u001b[1;33m=\u001b[0m\u001b[0mtimeout\u001b[0m\u001b[1;33m)\u001b[0m\u001b[1;33m\u001b[0m\u001b[1;33m\u001b[0m\u001b[0m\n\u001b[0m\u001b[0;32m    543\u001b[0m         \u001b[1;32mexcept\u001b[0m \u001b[0mCfTimeoutError\u001b[0m \u001b[1;32mas\u001b[0m \u001b[0me\u001b[0m\u001b[1;33m:\u001b[0m\u001b[1;33m\u001b[0m\u001b[1;33m\u001b[0m\u001b[0m\n\u001b[0;32m    544\u001b[0m             \u001b[1;32mraise\u001b[0m \u001b[0mTimeoutError\u001b[0m \u001b[1;32mfrom\u001b[0m \u001b[0me\u001b[0m\u001b[1;33m\u001b[0m\u001b[1;33m\u001b[0m\u001b[0m\n",
      "\u001b[1;32m~\\anaconda3\\lib\\concurrent\\futures\\_base.py\u001b[0m in \u001b[0;36mresult\u001b[1;34m(self, timeout)\u001b[0m\n\u001b[0;32m    439\u001b[0m                     \u001b[1;32mreturn\u001b[0m \u001b[0mself\u001b[0m\u001b[1;33m.\u001b[0m\u001b[0m__get_result\u001b[0m\u001b[1;33m(\u001b[0m\u001b[1;33m)\u001b[0m\u001b[1;33m\u001b[0m\u001b[1;33m\u001b[0m\u001b[0m\n\u001b[0;32m    440\u001b[0m \u001b[1;33m\u001b[0m\u001b[0m\n\u001b[1;32m--> 441\u001b[1;33m                 \u001b[0mself\u001b[0m\u001b[1;33m.\u001b[0m\u001b[0m_condition\u001b[0m\u001b[1;33m.\u001b[0m\u001b[0mwait\u001b[0m\u001b[1;33m(\u001b[0m\u001b[0mtimeout\u001b[0m\u001b[1;33m)\u001b[0m\u001b[1;33m\u001b[0m\u001b[1;33m\u001b[0m\u001b[0m\n\u001b[0m\u001b[0;32m    442\u001b[0m \u001b[1;33m\u001b[0m\u001b[0m\n\u001b[0;32m    443\u001b[0m                 \u001b[1;32mif\u001b[0m \u001b[0mself\u001b[0m\u001b[1;33m.\u001b[0m\u001b[0m_state\u001b[0m \u001b[1;32min\u001b[0m \u001b[1;33m[\u001b[0m\u001b[0mCANCELLED\u001b[0m\u001b[1;33m,\u001b[0m \u001b[0mCANCELLED_AND_NOTIFIED\u001b[0m\u001b[1;33m]\u001b[0m\u001b[1;33m:\u001b[0m\u001b[1;33m\u001b[0m\u001b[1;33m\u001b[0m\u001b[0m\n",
      "\u001b[1;32m~\\anaconda3\\lib\\threading.py\u001b[0m in \u001b[0;36mwait\u001b[1;34m(self, timeout)\u001b[0m\n\u001b[0;32m    310\u001b[0m         \u001b[1;32mtry\u001b[0m\u001b[1;33m:\u001b[0m    \u001b[1;31m# restore state no matter what (e.g., KeyboardInterrupt)\u001b[0m\u001b[1;33m\u001b[0m\u001b[1;33m\u001b[0m\u001b[0m\n\u001b[0;32m    311\u001b[0m             \u001b[1;32mif\u001b[0m \u001b[0mtimeout\u001b[0m \u001b[1;32mis\u001b[0m \u001b[1;32mNone\u001b[0m\u001b[1;33m:\u001b[0m\u001b[1;33m\u001b[0m\u001b[1;33m\u001b[0m\u001b[0m\n\u001b[1;32m--> 312\u001b[1;33m                 \u001b[0mwaiter\u001b[0m\u001b[1;33m.\u001b[0m\u001b[0macquire\u001b[0m\u001b[1;33m(\u001b[0m\u001b[1;33m)\u001b[0m\u001b[1;33m\u001b[0m\u001b[1;33m\u001b[0m\u001b[0m\n\u001b[0m\u001b[0;32m    313\u001b[0m                 \u001b[0mgotit\u001b[0m \u001b[1;33m=\u001b[0m \u001b[1;32mTrue\u001b[0m\u001b[1;33m\u001b[0m\u001b[1;33m\u001b[0m\u001b[0m\n\u001b[0;32m    314\u001b[0m             \u001b[1;32melse\u001b[0m\u001b[1;33m:\u001b[0m\u001b[1;33m\u001b[0m\u001b[1;33m\u001b[0m\u001b[0m\n",
      "\u001b[1;31mKeyboardInterrupt\u001b[0m: "
     ]
    }
   ],
   "source": [
    "## call Gradient Boost ##\n",
    "optiSearch_df = optimXGBoostClass(trainDEFSDf, ingestedDEFSDf, extDEFSDf, fnaDEFSDf)"
   ]
  },
  {
   "cell_type": "code",
   "execution_count": null,
   "id": "419cfa83",
   "metadata": {},
   "outputs": [],
   "source": [
    "## save ##\n",
    "optiSearch_df.to_csv(r\"H:\\3_output_raMSIn\\hyperparameterTuning_modelSelection_XGB4.csv\")"
   ]
  },
  {
   "cell_type": "code",
   "execution_count": null,
   "id": "3c5774f3",
   "metadata": {},
   "outputs": [],
   "source": []
  },
  {
   "cell_type": "markdown",
   "id": "95c56eae",
   "metadata": {},
   "source": [
    "# 2. Unsupervised Learning"
   ]
  },
  {
   "cell_type": "markdown",
   "id": "e8049959",
   "metadata": {},
   "source": [
    "## 2.1. Dataset Preparation"
   ]
  },
  {
   "cell_type": "code",
   "execution_count": 28,
   "id": "56926254",
   "metadata": {},
   "outputs": [
    {
     "data": {
      "text/plain": [
       "<Figure size 720x720 with 0 Axes>"
      ]
     },
     "execution_count": 28,
     "metadata": {},
     "output_type": "execute_result"
    }
   ],
   "source": [
    "from matplotlib.pyplot import figure\n",
    "plt.rcParams['figure.figsize'] = [10, 10]\n",
    "plt.grid(visible=None)\n",
    "plt.close()\n",
    "figure(figsize=(10, 10))"
   ]
  },
  {
   "cell_type": "code",
   "execution_count": 32,
   "id": "62a3d9de",
   "metadata": {},
   "outputs": [],
   "source": [
    "df_ROI_for_ML_Opti = pd.concat([trainDEFSDf, extDEFSDf, fnaDEFSDf]).set_index('pixel_id')"
   ]
  },
  {
   "cell_type": "code",
   "execution_count": 41,
   "id": "e9061d6a",
   "metadata": {},
   "outputs": [],
   "source": [
    "df_ROI_for_ML_Opti_ingested = pd.concat([trainDEFSDf, extDEFSDf]).set_index('pixel_id')"
   ]
  },
  {
   "cell_type": "code",
   "execution_count": 44,
   "id": "7d1ef236",
   "metadata": {},
   "outputs": [],
   "source": [
    "df_ROI_for_ML_Opti_train = trainDEFSDf.set_index('pixel_id')"
   ]
  },
  {
   "cell_type": "code",
   "execution_count": 47,
   "id": "f9f05550",
   "metadata": {},
   "outputs": [],
   "source": [
    "df_ROI_for_ML_Opti_ext = extDEFSDf.set_index('pixel_id')"
   ]
  },
  {
   "cell_type": "code",
   "execution_count": 50,
   "id": "0dfe922b",
   "metadata": {},
   "outputs": [],
   "source": [
    "df_ROI_for_ML_Opti_FNA = fnaDEFSDf.set_index('pixel_id')"
   ]
  },
  {
   "cell_type": "markdown",
   "id": "9c25aab6",
   "metadata": {},
   "source": [
    "## 2.2. PCA Analysis"
   ]
  },
  {
   "cell_type": "code",
   "execution_count": 51,
   "id": "e9735181",
   "metadata": {},
   "outputs": [],
   "source": [
    "## PCA Analysis\n",
    "\n",
    "def pca_visual(df=df_ROI_for_ML_Opti_FNA):\n",
    "\n",
    "    pca = PCA(n_components=3)\n",
    "    raMSI_ML_mz_df = df.drop(\"type\", axis = 1)\n",
    "    pca.fit(raMSI_ML_mz_df)\n",
    "    result = pd.DataFrame(pca.transform(raMSI_ML_mz_df), columns=['PCA%i' % i for i in range(3)], index=df_ROI_for_ML_Opti_FNA.index)\n",
    "    \n",
    "    plt.subplots(dpi = 300)\n",
    "    plt.scatter(result['PCA1'], result['PCA2'], c = df['type'], s=1)\n",
    "    plt.xlabel('PC1', size=20)\n",
    "    plt.ylabel('PC2', size=20)\n",
    "    plt.xticks(fontsize=16)\n",
    "    plt.yticks(fontsize=16)\n",
    "    #plt.rcParams['figure.figsize'] = [2, 2]\n",
    "    plt.savefig(r\"H:/3_output_raMSIn/PCA_fna.tif\", bbox_inches = 'tight')\n",
    "\n",
    "    \"\"\"components = pca.fit_transform(raMSI_ML_mz_df)\n",
    "    total_var = pca.explained_variance_ratio_.sum() * 100\n",
    "    fig = px.scatter_3d(\n",
    "        components, x=0, y=1, z=2, color=df['type'],\n",
    "        title = f'Total Explained Variance: {total_var:.2f}%',\n",
    "        labels = {'0': 'PC 1', '1': 'PC 2', '2': 'PC 3'}\n",
    "    )\n",
    "    fig.show()\"\"\""
   ]
  },
  {
   "cell_type": "code",
   "execution_count": 52,
   "id": "c45b0889",
   "metadata": {
    "scrolled": false
   },
   "outputs": [],
   "source": [
    "pca_visual()"
   ]
  },
  {
   "cell_type": "markdown",
   "id": "73a0c5f5",
   "metadata": {},
   "source": [
    "# 3. Supervised Learning"
   ]
  },
  {
   "cell_type": "markdown",
   "id": "7cdf76b0",
   "metadata": {},
   "source": [
    "## 3.1. Preparation of training and test dataset"
   ]
  },
  {
   "cell_type": "code",
   "execution_count": 138,
   "id": "a9518fbc",
   "metadata": {},
   "outputs": [],
   "source": [
    "def split_dataset(df=df_ROI_for_ML_Opti):\n",
    "    raMSI_ML_NoType = df.drop(\"type\", axis = 1)\n",
    "    raMSI_ML_Type=df[['type']]\n",
    "    X_train,X_test,y_train,y_test=train_test_split(raMSI_ML_NoType,raMSI_ML_Type,test_size=0.2, random_state=42)\n",
    "    return X_train,X_test,y_train,y_test"
   ]
  },
  {
   "cell_type": "markdown",
   "id": "2a7a5146",
   "metadata": {},
   "source": [
    "X_train,X_test,y_train,y_test=split_dataset(df=df_ROI_for_ML_Opti)"
   ]
  },
  {
   "cell_type": "code",
   "execution_count": 139,
   "id": "92b9ff22",
   "metadata": {},
   "outputs": [],
   "source": [
    "X_ingested = df_ROI_for_ML_Opti_ingested[df_ROI_for_ML_Opti_train.columns[:-1]]"
   ]
  },
  {
   "cell_type": "code",
   "execution_count": 140,
   "id": "071b9d73",
   "metadata": {},
   "outputs": [],
   "source": [
    "y_ingested = df_ROI_for_ML_Opti_ingested[\"type\"]"
   ]
  },
  {
   "cell_type": "code",
   "execution_count": 141,
   "id": "78235c3e",
   "metadata": {},
   "outputs": [],
   "source": [
    "X_train = df_ROI_for_ML_Opti_train[df_ROI_for_ML_Opti_train.columns[:-1]]"
   ]
  },
  {
   "cell_type": "code",
   "execution_count": 142,
   "id": "226a001d",
   "metadata": {},
   "outputs": [],
   "source": [
    "y_train = df_ROI_for_ML_Opti_train[\"type\"]"
   ]
  },
  {
   "cell_type": "code",
   "execution_count": 143,
   "id": "21066a99",
   "metadata": {},
   "outputs": [],
   "source": [
    "X_val = df_ROI_for_ML_Opti_ext[df_ROI_for_ML_Opti_ext.columns[:-1]]"
   ]
  },
  {
   "cell_type": "code",
   "execution_count": 144,
   "id": "375fd7c1",
   "metadata": {},
   "outputs": [],
   "source": [
    "y_val = df_ROI_for_ML_Opti_ext[\"type\"]"
   ]
  },
  {
   "cell_type": "code",
   "execution_count": 145,
   "id": "460faa79",
   "metadata": {},
   "outputs": [],
   "source": [
    "X_FNA = df_ROI_for_ML_Opti_FNA[df_ROI_for_ML_Opti_FNA.columns[:-1]]"
   ]
  },
  {
   "cell_type": "code",
   "execution_count": 146,
   "id": "dd2eede7",
   "metadata": {},
   "outputs": [],
   "source": [
    "y_FNA = df_ROI_for_ML_Opti_FNA[\"type\"]"
   ]
  },
  {
   "cell_type": "markdown",
   "id": "02cd4f6d",
   "metadata": {},
   "source": [
    "## 3.2 Machine Learning Modeling: Model 1+2 (Train 10:10, Val 4:4, Test 3:3)"
   ]
  },
  {
   "cell_type": "code",
   "execution_count": 147,
   "id": "6d458bee",
   "metadata": {},
   "outputs": [
    {
     "data": {
      "text/plain": [
       "<Figure size 720x720 with 0 Axes>"
      ]
     },
     "execution_count": 147,
     "metadata": {},
     "output_type": "execute_result"
    }
   ],
   "source": [
    "from matplotlib.pyplot import figure\n",
    "plt.rcParams['figure.figsize'] = [10, 10]\n",
    "plt.grid(visible=None)\n",
    "plt.close()\n",
    "figure(figsize=(10, 10))"
   ]
  },
  {
   "cell_type": "markdown",
   "id": "462143af",
   "metadata": {},
   "source": [
    "### 3.2.1. Logistic Regression"
   ]
  },
  {
   "cell_type": "code",
   "execution_count": 166,
   "id": "a3165db3",
   "metadata": {},
   "outputs": [],
   "source": [
    "## Build Logistic Regression Model\n",
    "from sklearn.linear_model import LogisticRegression\n",
    "\n",
    "def LogisticRegression_func(XTrain=X_ingested, XVal=X_val, XTest=X_FNA, yTrain=y_ingested, yVal=y_val, yTest=y_FNA):\n",
    "    model_lr = LogisticRegression(C=0.0005, penalty='l1', solver=\"liblinear\", max_iter=5000, random_state=42, class_weight={0:0.9628, 1:1.0402})  # max_iter=100\n",
    "    model_lr.fit(XTrain,yTrain)\n",
    "    \n",
    "    # Training Set\n",
    "    #plt.rcParams[\"figure.figsize\"] = (3,3)\n",
    "    X_train_predictions = model_lr.predict(X_train)\n",
    "    print(\"Training Set F1:\", f1_score(y_train, model_lr.predict(X_train), sample_weight=sampleW))\n",
    "    print(\"Training Set MCC:\", matthews_corrcoef(y_train, model_lr.predict(X_train), sample_weight=sampleW))\n",
    "    print(\"Training Set Accuracy:\", metrics.accuracy_score(y_train, X_train_predictions))\n",
    "    print(classification_report(y_train, X_train_predictions))\n",
    "    print(confusion_matrix(y_train, X_train_predictions))\n",
    "\n",
    "    #create ROC curve\n",
    "    plt.subplots(dpi = 300)\n",
    "    fpr, tpr, _ = metrics.roc_curve(y_train, X_train_predictions)\n",
    "    plt.plot(fpr,tpr)\n",
    "    plt.ylabel('True Positive Rate', fontsize=18)\n",
    "    plt.xlabel('False Positive Rate', fontsize=18)\n",
    "    plt.xticks(fontsize=16)\n",
    "    plt.yticks(fontsize=16)\n",
    "    #plt.rcParams['figure.figsize'] = [2, 2]\n",
    "    #plt.savefig(r\"H:/3_2_Output_raMSI_DataIngestion_DESIQE_12F/XGB_FNA/LogReg_ROC_train.tif\", bbox_inches = 'tight')\n",
    "    #plt.show()\n",
    "\n",
    "    # Val set\n",
    "    predictions_val  = model_lr.predict(XVal)\n",
    "    print(\"Ext Val Set F1:\", f1_score(yVal, model_lr.predict(XVal), sample_weight=sampleExtW))\n",
    "    print(\"Ext Val Set MCC:\", matthews_corrcoef(yVal, model_lr.predict(XVal), sample_weight=sampleExtW))\n",
    "    print(\"Ext Val Set Accuracy:\", metrics.accuracy_score(yVal, predictions_val))\n",
    "    print(classification_report(yVal, predictions_val))\n",
    "    print(confusion_matrix(yVal, predictions_val))\n",
    "\n",
    "    #create ROC curve\n",
    "    plt.subplots(dpi = 300)\n",
    "    fpr_val, tpr_val, _ = metrics.roc_curve(yVal, predictions_val)\n",
    "    plt.plot(fpr_val,tpr_val)\n",
    "    plt.ylabel('True Positive Rate', fontsize=18)\n",
    "    plt.xlabel('False Positive Rate', fontsize=18)\n",
    "    plt.xticks(fontsize=16)\n",
    "    plt.yticks(fontsize=16)\n",
    "    #plt.rcParams['figure.figsize'] = [2, 2]\n",
    "    #plt.savefig(r\"H:/3_2_Output_raMSI_DataIngestion_DESIQE_12F/XGB_FNA/LogReg_ROC_test.tif\", bbox_inches = 'tight')\n",
    "    #plt.show()\n",
    "    \n",
    "    f1_10_train = cross_val_score(model_lr, XTrain, yTrain, cv = 3, scoring=f1)\n",
    "    print(\"3F-CV:\", avgScore(f1_10_train, 3))\n",
    "    \n",
    "    # Test set\n",
    "    predictions_FNA = model_lr.predict(XTest)\n",
    "    print(\"FNA Set F1:\", f1_score(yTest, model_lr.predict(XTest), sample_weight=sampleFNAW))\n",
    "    print(\"FNA Set MCC:\", matthews_corrcoef(yTest, model_lr.predict(XTest), sample_weight=sampleFNAW))\n",
    "    print(\"FNA Set Recall:\", recall_score(yTest, model_lr.predict(XTest)))\n",
    "    print(\"FNA Test Set Accuracy:\", metrics.accuracy_score(yTest, predictions_FNA))\n",
    "    print(classification_report(yTest, predictions_FNA))\n",
    "    print(confusion_matrix(yTest, predictions_FNA))\n",
    "\n",
    "    #create ROC curve\n",
    "    plt.subplots(dpi = 300)\n",
    "    fpr_FNA, tpr_FNA, _ = metrics.roc_curve(yTest, predictions_FNA)\n",
    "    plt.plot(fpr_FNA,tpr_FNA)\n",
    "    plt.ylabel('True Positive Rate', fontsize=18)\n",
    "    plt.xlabel('False Positive Rate', fontsize=18)\n",
    "    plt.xticks(fontsize=16)\n",
    "    plt.yticks(fontsize=16)\n",
    "    #plt.rcParams['figure.figsize'] = [2, 2]\n",
    "    #plt.savefig(r\"G:/raMSIn/XGB_Importance2/XGB2_ROC_FNAtest2.tif\", bbox_inches = 'tight')\n",
    "    #plt.show()\n",
    "    \n",
    "    # Visualize the importantance of the features\n",
    "    feature_imp = pd.Series(model_lr.coef_[0], index=XTrain.columns).sort_values(ascending=False)\n",
    "    x=feature_imp\n",
    "    y=feature_imp.index\n",
    "    \n",
    "    plt.subplots(dpi = 300)\n",
    "    #plt.rcParams[\"figure.figsize\"] = [4, 6]\n",
    "    #plt.rcParams[\"font.family\"] = \"Arial\"\n",
    "    #plt.rcParams.update({'font.size': 6})\n",
    "    plt.xlabel('Feature Importance Score', fontproperties='Arial', fontsize=17)\n",
    "    plt.ylabel('Features', fontproperties='Arial', fontsize=17)\n",
    "    plt.xticks(fontsize=15)\n",
    "    plt.yticks(fontsize=15)\n",
    "    plt.title(\"Important Molecular Features\", fontproperties='Arial', fontsize=20)\n",
    "    sns.barplot(x=feature_imp, y=feature_imp.index)\n",
    "    #plt.savefig(r\"H:/3_2_Output_raMSI_DataIngestion_DESIQE_12F/XGB_FNA/LogReg_TopFeatures.tif\", bbox_inches = 'tight')\n",
    "    #plt.show()\n",
    "    \n",
    "    feature_importances = model_lr.coef_[0]\n",
    "    feature_df=pd.DataFrame({'m/z':XTrain.columns,'coef':feature_importances})\n",
    "\n",
    "    fig = px.bar(feature_df, x='coef', y='m/z')\n",
    "    fig.show()\n",
    "    \n",
    "    return x, y"
   ]
  },
  {
   "cell_type": "code",
   "execution_count": 167,
   "id": "e4810838",
   "metadata": {
    "scrolled": true
   },
   "outputs": [
    {
     "name": "stdout",
     "output_type": "stream",
     "text": [
      "Training Set F1: 0.883231466964114\n",
      "Training Set MCC: 0.758363117857726\n",
      "Training Set Accuracy: 0.874769129287599\n",
      "              precision    recall  f1-score   support\n",
      "\n",
      "           0       0.93      0.82      0.87     47449\n",
      "           1       0.83      0.93      0.88     43511\n",
      "\n",
      "    accuracy                           0.87     90960\n",
      "   macro avg       0.88      0.88      0.87     90960\n",
      "weighted avg       0.88      0.87      0.87     90960\n",
      "\n",
      "[[39108  8341]\n",
      " [ 3050 40461]]\n",
      "Ext Val Set F1: 0.8320024636840297\n",
      "Ext Val Set MCC: 0.6435701484536753\n",
      "Ext Val Set Accuracy: 0.8186008230452675\n",
      "              precision    recall  f1-score   support\n",
      "\n",
      "           0       0.89      0.72      0.79      2943\n",
      "           1       0.77      0.91      0.84      3132\n",
      "\n",
      "    accuracy                           0.82      6075\n",
      "   macro avg       0.83      0.82      0.82      6075\n",
      "weighted avg       0.83      0.82      0.82      6075\n",
      "\n",
      "[[2112  831]\n",
      " [ 271 2861]]\n",
      "3F-CV: 0.6688314685572054\n",
      "FNA Set F1: 0.8094300016856857\n",
      "FNA Set MCC: 0.6082578163725619\n",
      "FNA Set Recall: 0.8343787504811938\n",
      "FNA Test Set Accuracy: 0.8034182252736722\n",
      "              precision    recall  f1-score   support\n",
      "\n",
      "           0       0.82      0.77      0.80     44540\n",
      "           1       0.78      0.83      0.81     44161\n",
      "\n",
      "    accuracy                           0.80     88701\n",
      "   macro avg       0.80      0.80      0.80     88701\n",
      "weighted avg       0.80      0.80      0.80     88701\n",
      "\n",
      "[[34417 10123]\n",
      " [ 7314 36847]]\n"
     ]
    },
    {
     "data": {
      "application/vnd.plotly.v1+json": {
       "config": {
        "plotlyServerURL": "https://plot.ly"
       },
       "data": [
        {
         "alignmentgroup": "True",
         "hovertemplate": "coef=%{x}<br>m/z=%{y}<extra></extra>",
         "legendgroup": "",
         "marker": {
          "color": "#636efa",
          "pattern": {
           "shape": ""
          }
         },
         "name": "",
         "offsetgroup": "",
         "orientation": "h",
         "showlegend": false,
         "textposition": "auto",
         "type": "bar",
         "x": [
          -1.9529415284634757,
          0,
          -2.209571672647034,
          1.114586318044489,
          0,
          -0.46340634970099015,
          0,
          0.42364468681984074,
          0.039575516444519544,
          -0.32942092730331524,
          0,
          0.5152830849237547,
          0,
          0,
          0,
          -0.5743292790221379,
          -0.100183173529709,
          0
         ],
         "xaxis": "x",
         "y": [
          "869.7241",
          "909.5496",
          "269.2486",
          "736.6464",
          "535.4734",
          "559.4732",
          "609.5114",
          "682.5922",
          "846.5858",
          "633.5108",
          "445.3172",
          "683.5948",
          "269.0878",
          "215.0328",
          "283.255",
          "671.4661",
          "610.5128",
          "175.0246"
         ],
         "yaxis": "y"
        }
       ],
       "layout": {
        "barmode": "relative",
        "legend": {
         "tracegroupgap": 0
        },
        "margin": {
         "t": 60
        },
        "template": {
         "data": {
          "bar": [
           {
            "error_x": {
             "color": "#2a3f5f"
            },
            "error_y": {
             "color": "#2a3f5f"
            },
            "marker": {
             "line": {
              "color": "#E5ECF6",
              "width": 0.5
             },
             "pattern": {
              "fillmode": "overlay",
              "size": 10,
              "solidity": 0.2
             }
            },
            "type": "bar"
           }
          ],
          "barpolar": [
           {
            "marker": {
             "line": {
              "color": "#E5ECF6",
              "width": 0.5
             },
             "pattern": {
              "fillmode": "overlay",
              "size": 10,
              "solidity": 0.2
             }
            },
            "type": "barpolar"
           }
          ],
          "carpet": [
           {
            "aaxis": {
             "endlinecolor": "#2a3f5f",
             "gridcolor": "white",
             "linecolor": "white",
             "minorgridcolor": "white",
             "startlinecolor": "#2a3f5f"
            },
            "baxis": {
             "endlinecolor": "#2a3f5f",
             "gridcolor": "white",
             "linecolor": "white",
             "minorgridcolor": "white",
             "startlinecolor": "#2a3f5f"
            },
            "type": "carpet"
           }
          ],
          "choropleth": [
           {
            "colorbar": {
             "outlinewidth": 0,
             "ticks": ""
            },
            "type": "choropleth"
           }
          ],
          "contour": [
           {
            "colorbar": {
             "outlinewidth": 0,
             "ticks": ""
            },
            "colorscale": [
             [
              0,
              "#0d0887"
             ],
             [
              0.1111111111111111,
              "#46039f"
             ],
             [
              0.2222222222222222,
              "#7201a8"
             ],
             [
              0.3333333333333333,
              "#9c179e"
             ],
             [
              0.4444444444444444,
              "#bd3786"
             ],
             [
              0.5555555555555556,
              "#d8576b"
             ],
             [
              0.6666666666666666,
              "#ed7953"
             ],
             [
              0.7777777777777778,
              "#fb9f3a"
             ],
             [
              0.8888888888888888,
              "#fdca26"
             ],
             [
              1,
              "#f0f921"
             ]
            ],
            "type": "contour"
           }
          ],
          "contourcarpet": [
           {
            "colorbar": {
             "outlinewidth": 0,
             "ticks": ""
            },
            "type": "contourcarpet"
           }
          ],
          "heatmap": [
           {
            "colorbar": {
             "outlinewidth": 0,
             "ticks": ""
            },
            "colorscale": [
             [
              0,
              "#0d0887"
             ],
             [
              0.1111111111111111,
              "#46039f"
             ],
             [
              0.2222222222222222,
              "#7201a8"
             ],
             [
              0.3333333333333333,
              "#9c179e"
             ],
             [
              0.4444444444444444,
              "#bd3786"
             ],
             [
              0.5555555555555556,
              "#d8576b"
             ],
             [
              0.6666666666666666,
              "#ed7953"
             ],
             [
              0.7777777777777778,
              "#fb9f3a"
             ],
             [
              0.8888888888888888,
              "#fdca26"
             ],
             [
              1,
              "#f0f921"
             ]
            ],
            "type": "heatmap"
           }
          ],
          "heatmapgl": [
           {
            "colorbar": {
             "outlinewidth": 0,
             "ticks": ""
            },
            "colorscale": [
             [
              0,
              "#0d0887"
             ],
             [
              0.1111111111111111,
              "#46039f"
             ],
             [
              0.2222222222222222,
              "#7201a8"
             ],
             [
              0.3333333333333333,
              "#9c179e"
             ],
             [
              0.4444444444444444,
              "#bd3786"
             ],
             [
              0.5555555555555556,
              "#d8576b"
             ],
             [
              0.6666666666666666,
              "#ed7953"
             ],
             [
              0.7777777777777778,
              "#fb9f3a"
             ],
             [
              0.8888888888888888,
              "#fdca26"
             ],
             [
              1,
              "#f0f921"
             ]
            ],
            "type": "heatmapgl"
           }
          ],
          "histogram": [
           {
            "marker": {
             "pattern": {
              "fillmode": "overlay",
              "size": 10,
              "solidity": 0.2
             }
            },
            "type": "histogram"
           }
          ],
          "histogram2d": [
           {
            "colorbar": {
             "outlinewidth": 0,
             "ticks": ""
            },
            "colorscale": [
             [
              0,
              "#0d0887"
             ],
             [
              0.1111111111111111,
              "#46039f"
             ],
             [
              0.2222222222222222,
              "#7201a8"
             ],
             [
              0.3333333333333333,
              "#9c179e"
             ],
             [
              0.4444444444444444,
              "#bd3786"
             ],
             [
              0.5555555555555556,
              "#d8576b"
             ],
             [
              0.6666666666666666,
              "#ed7953"
             ],
             [
              0.7777777777777778,
              "#fb9f3a"
             ],
             [
              0.8888888888888888,
              "#fdca26"
             ],
             [
              1,
              "#f0f921"
             ]
            ],
            "type": "histogram2d"
           }
          ],
          "histogram2dcontour": [
           {
            "colorbar": {
             "outlinewidth": 0,
             "ticks": ""
            },
            "colorscale": [
             [
              0,
              "#0d0887"
             ],
             [
              0.1111111111111111,
              "#46039f"
             ],
             [
              0.2222222222222222,
              "#7201a8"
             ],
             [
              0.3333333333333333,
              "#9c179e"
             ],
             [
              0.4444444444444444,
              "#bd3786"
             ],
             [
              0.5555555555555556,
              "#d8576b"
             ],
             [
              0.6666666666666666,
              "#ed7953"
             ],
             [
              0.7777777777777778,
              "#fb9f3a"
             ],
             [
              0.8888888888888888,
              "#fdca26"
             ],
             [
              1,
              "#f0f921"
             ]
            ],
            "type": "histogram2dcontour"
           }
          ],
          "mesh3d": [
           {
            "colorbar": {
             "outlinewidth": 0,
             "ticks": ""
            },
            "type": "mesh3d"
           }
          ],
          "parcoords": [
           {
            "line": {
             "colorbar": {
              "outlinewidth": 0,
              "ticks": ""
             }
            },
            "type": "parcoords"
           }
          ],
          "pie": [
           {
            "automargin": true,
            "type": "pie"
           }
          ],
          "scatter": [
           {
            "marker": {
             "colorbar": {
              "outlinewidth": 0,
              "ticks": ""
             }
            },
            "type": "scatter"
           }
          ],
          "scatter3d": [
           {
            "line": {
             "colorbar": {
              "outlinewidth": 0,
              "ticks": ""
             }
            },
            "marker": {
             "colorbar": {
              "outlinewidth": 0,
              "ticks": ""
             }
            },
            "type": "scatter3d"
           }
          ],
          "scattercarpet": [
           {
            "marker": {
             "colorbar": {
              "outlinewidth": 0,
              "ticks": ""
             }
            },
            "type": "scattercarpet"
           }
          ],
          "scattergeo": [
           {
            "marker": {
             "colorbar": {
              "outlinewidth": 0,
              "ticks": ""
             }
            },
            "type": "scattergeo"
           }
          ],
          "scattergl": [
           {
            "marker": {
             "colorbar": {
              "outlinewidth": 0,
              "ticks": ""
             }
            },
            "type": "scattergl"
           }
          ],
          "scattermapbox": [
           {
            "marker": {
             "colorbar": {
              "outlinewidth": 0,
              "ticks": ""
             }
            },
            "type": "scattermapbox"
           }
          ],
          "scatterpolar": [
           {
            "marker": {
             "colorbar": {
              "outlinewidth": 0,
              "ticks": ""
             }
            },
            "type": "scatterpolar"
           }
          ],
          "scatterpolargl": [
           {
            "marker": {
             "colorbar": {
              "outlinewidth": 0,
              "ticks": ""
             }
            },
            "type": "scatterpolargl"
           }
          ],
          "scatterternary": [
           {
            "marker": {
             "colorbar": {
              "outlinewidth": 0,
              "ticks": ""
             }
            },
            "type": "scatterternary"
           }
          ],
          "surface": [
           {
            "colorbar": {
             "outlinewidth": 0,
             "ticks": ""
            },
            "colorscale": [
             [
              0,
              "#0d0887"
             ],
             [
              0.1111111111111111,
              "#46039f"
             ],
             [
              0.2222222222222222,
              "#7201a8"
             ],
             [
              0.3333333333333333,
              "#9c179e"
             ],
             [
              0.4444444444444444,
              "#bd3786"
             ],
             [
              0.5555555555555556,
              "#d8576b"
             ],
             [
              0.6666666666666666,
              "#ed7953"
             ],
             [
              0.7777777777777778,
              "#fb9f3a"
             ],
             [
              0.8888888888888888,
              "#fdca26"
             ],
             [
              1,
              "#f0f921"
             ]
            ],
            "type": "surface"
           }
          ],
          "table": [
           {
            "cells": {
             "fill": {
              "color": "#EBF0F8"
             },
             "line": {
              "color": "white"
             }
            },
            "header": {
             "fill": {
              "color": "#C8D4E3"
             },
             "line": {
              "color": "white"
             }
            },
            "type": "table"
           }
          ]
         },
         "layout": {
          "annotationdefaults": {
           "arrowcolor": "#2a3f5f",
           "arrowhead": 0,
           "arrowwidth": 1
          },
          "autotypenumbers": "strict",
          "coloraxis": {
           "colorbar": {
            "outlinewidth": 0,
            "ticks": ""
           }
          },
          "colorscale": {
           "diverging": [
            [
             0,
             "#8e0152"
            ],
            [
             0.1,
             "#c51b7d"
            ],
            [
             0.2,
             "#de77ae"
            ],
            [
             0.3,
             "#f1b6da"
            ],
            [
             0.4,
             "#fde0ef"
            ],
            [
             0.5,
             "#f7f7f7"
            ],
            [
             0.6,
             "#e6f5d0"
            ],
            [
             0.7,
             "#b8e186"
            ],
            [
             0.8,
             "#7fbc41"
            ],
            [
             0.9,
             "#4d9221"
            ],
            [
             1,
             "#276419"
            ]
           ],
           "sequential": [
            [
             0,
             "#0d0887"
            ],
            [
             0.1111111111111111,
             "#46039f"
            ],
            [
             0.2222222222222222,
             "#7201a8"
            ],
            [
             0.3333333333333333,
             "#9c179e"
            ],
            [
             0.4444444444444444,
             "#bd3786"
            ],
            [
             0.5555555555555556,
             "#d8576b"
            ],
            [
             0.6666666666666666,
             "#ed7953"
            ],
            [
             0.7777777777777778,
             "#fb9f3a"
            ],
            [
             0.8888888888888888,
             "#fdca26"
            ],
            [
             1,
             "#f0f921"
            ]
           ],
           "sequentialminus": [
            [
             0,
             "#0d0887"
            ],
            [
             0.1111111111111111,
             "#46039f"
            ],
            [
             0.2222222222222222,
             "#7201a8"
            ],
            [
             0.3333333333333333,
             "#9c179e"
            ],
            [
             0.4444444444444444,
             "#bd3786"
            ],
            [
             0.5555555555555556,
             "#d8576b"
            ],
            [
             0.6666666666666666,
             "#ed7953"
            ],
            [
             0.7777777777777778,
             "#fb9f3a"
            ],
            [
             0.8888888888888888,
             "#fdca26"
            ],
            [
             1,
             "#f0f921"
            ]
           ]
          },
          "colorway": [
           "#636efa",
           "#EF553B",
           "#00cc96",
           "#ab63fa",
           "#FFA15A",
           "#19d3f3",
           "#FF6692",
           "#B6E880",
           "#FF97FF",
           "#FECB52"
          ],
          "font": {
           "color": "#2a3f5f"
          },
          "geo": {
           "bgcolor": "white",
           "lakecolor": "white",
           "landcolor": "#E5ECF6",
           "showlakes": true,
           "showland": true,
           "subunitcolor": "white"
          },
          "hoverlabel": {
           "align": "left"
          },
          "hovermode": "closest",
          "mapbox": {
           "style": "light"
          },
          "paper_bgcolor": "white",
          "plot_bgcolor": "#E5ECF6",
          "polar": {
           "angularaxis": {
            "gridcolor": "white",
            "linecolor": "white",
            "ticks": ""
           },
           "bgcolor": "#E5ECF6",
           "radialaxis": {
            "gridcolor": "white",
            "linecolor": "white",
            "ticks": ""
           }
          },
          "scene": {
           "xaxis": {
            "backgroundcolor": "#E5ECF6",
            "gridcolor": "white",
            "gridwidth": 2,
            "linecolor": "white",
            "showbackground": true,
            "ticks": "",
            "zerolinecolor": "white"
           },
           "yaxis": {
            "backgroundcolor": "#E5ECF6",
            "gridcolor": "white",
            "gridwidth": 2,
            "linecolor": "white",
            "showbackground": true,
            "ticks": "",
            "zerolinecolor": "white"
           },
           "zaxis": {
            "backgroundcolor": "#E5ECF6",
            "gridcolor": "white",
            "gridwidth": 2,
            "linecolor": "white",
            "showbackground": true,
            "ticks": "",
            "zerolinecolor": "white"
           }
          },
          "shapedefaults": {
           "line": {
            "color": "#2a3f5f"
           }
          },
          "ternary": {
           "aaxis": {
            "gridcolor": "white",
            "linecolor": "white",
            "ticks": ""
           },
           "baxis": {
            "gridcolor": "white",
            "linecolor": "white",
            "ticks": ""
           },
           "bgcolor": "#E5ECF6",
           "caxis": {
            "gridcolor": "white",
            "linecolor": "white",
            "ticks": ""
           }
          },
          "title": {
           "x": 0.05
          },
          "xaxis": {
           "automargin": true,
           "gridcolor": "white",
           "linecolor": "white",
           "ticks": "",
           "title": {
            "standoff": 15
           },
           "zerolinecolor": "white",
           "zerolinewidth": 2
          },
          "yaxis": {
           "automargin": true,
           "gridcolor": "white",
           "linecolor": "white",
           "ticks": "",
           "title": {
            "standoff": 15
           },
           "zerolinecolor": "white",
           "zerolinewidth": 2
          }
         }
        },
        "xaxis": {
         "anchor": "y",
         "domain": [
          0,
          1
         ],
         "title": {
          "text": "coef"
         }
        },
        "yaxis": {
         "anchor": "x",
         "domain": [
          0,
          1
         ],
         "title": {
          "text": "m/z"
         }
        }
       }
      },
      "text/html": [
       "<div>                            <div id=\"055e6986-414d-4671-8898-9adf745e5b1d\" class=\"plotly-graph-div\" style=\"height:525px; width:100%;\"></div>            <script type=\"text/javascript\">                require([\"plotly\"], function(Plotly) {                    window.PLOTLYENV=window.PLOTLYENV || {};                                    if (document.getElementById(\"055e6986-414d-4671-8898-9adf745e5b1d\")) {                    Plotly.newPlot(                        \"055e6986-414d-4671-8898-9adf745e5b1d\",                        [{\"alignmentgroup\":\"True\",\"hovertemplate\":\"coef=%{x}<br>m/z=%{y}<extra></extra>\",\"legendgroup\":\"\",\"marker\":{\"color\":\"#636efa\",\"pattern\":{\"shape\":\"\"}},\"name\":\"\",\"offsetgroup\":\"\",\"orientation\":\"h\",\"showlegend\":false,\"textposition\":\"auto\",\"x\":[-1.9529415284634757,0.0,-2.209571672647034,1.114586318044489,0.0,-0.46340634970099015,0.0,0.42364468681984074,0.039575516444519544,-0.32942092730331524,0.0,0.5152830849237547,0.0,0.0,0.0,-0.5743292790221379,-0.100183173529709,0.0],\"xaxis\":\"x\",\"y\":[\"869.7241\",\"909.5496\",\"269.2486\",\"736.6464\",\"535.4734\",\"559.4732\",\"609.5114\",\"682.5922\",\"846.5858\",\"633.5108\",\"445.3172\",\"683.5948\",\"269.0878\",\"215.0328\",\"283.255\",\"671.4661\",\"610.5128\",\"175.0246\"],\"yaxis\":\"y\",\"type\":\"bar\"}],                        {\"template\":{\"data\":{\"bar\":[{\"error_x\":{\"color\":\"#2a3f5f\"},\"error_y\":{\"color\":\"#2a3f5f\"},\"marker\":{\"line\":{\"color\":\"#E5ECF6\",\"width\":0.5},\"pattern\":{\"fillmode\":\"overlay\",\"size\":10,\"solidity\":0.2}},\"type\":\"bar\"}],\"barpolar\":[{\"marker\":{\"line\":{\"color\":\"#E5ECF6\",\"width\":0.5},\"pattern\":{\"fillmode\":\"overlay\",\"size\":10,\"solidity\":0.2}},\"type\":\"barpolar\"}],\"carpet\":[{\"aaxis\":{\"endlinecolor\":\"#2a3f5f\",\"gridcolor\":\"white\",\"linecolor\":\"white\",\"minorgridcolor\":\"white\",\"startlinecolor\":\"#2a3f5f\"},\"baxis\":{\"endlinecolor\":\"#2a3f5f\",\"gridcolor\":\"white\",\"linecolor\":\"white\",\"minorgridcolor\":\"white\",\"startlinecolor\":\"#2a3f5f\"},\"type\":\"carpet\"}],\"choropleth\":[{\"colorbar\":{\"outlinewidth\":0,\"ticks\":\"\"},\"type\":\"choropleth\"}],\"contour\":[{\"colorbar\":{\"outlinewidth\":0,\"ticks\":\"\"},\"colorscale\":[[0.0,\"#0d0887\"],[0.1111111111111111,\"#46039f\"],[0.2222222222222222,\"#7201a8\"],[0.3333333333333333,\"#9c179e\"],[0.4444444444444444,\"#bd3786\"],[0.5555555555555556,\"#d8576b\"],[0.6666666666666666,\"#ed7953\"],[0.7777777777777778,\"#fb9f3a\"],[0.8888888888888888,\"#fdca26\"],[1.0,\"#f0f921\"]],\"type\":\"contour\"}],\"contourcarpet\":[{\"colorbar\":{\"outlinewidth\":0,\"ticks\":\"\"},\"type\":\"contourcarpet\"}],\"heatmap\":[{\"colorbar\":{\"outlinewidth\":0,\"ticks\":\"\"},\"colorscale\":[[0.0,\"#0d0887\"],[0.1111111111111111,\"#46039f\"],[0.2222222222222222,\"#7201a8\"],[0.3333333333333333,\"#9c179e\"],[0.4444444444444444,\"#bd3786\"],[0.5555555555555556,\"#d8576b\"],[0.6666666666666666,\"#ed7953\"],[0.7777777777777778,\"#fb9f3a\"],[0.8888888888888888,\"#fdca26\"],[1.0,\"#f0f921\"]],\"type\":\"heatmap\"}],\"heatmapgl\":[{\"colorbar\":{\"outlinewidth\":0,\"ticks\":\"\"},\"colorscale\":[[0.0,\"#0d0887\"],[0.1111111111111111,\"#46039f\"],[0.2222222222222222,\"#7201a8\"],[0.3333333333333333,\"#9c179e\"],[0.4444444444444444,\"#bd3786\"],[0.5555555555555556,\"#d8576b\"],[0.6666666666666666,\"#ed7953\"],[0.7777777777777778,\"#fb9f3a\"],[0.8888888888888888,\"#fdca26\"],[1.0,\"#f0f921\"]],\"type\":\"heatmapgl\"}],\"histogram\":[{\"marker\":{\"pattern\":{\"fillmode\":\"overlay\",\"size\":10,\"solidity\":0.2}},\"type\":\"histogram\"}],\"histogram2d\":[{\"colorbar\":{\"outlinewidth\":0,\"ticks\":\"\"},\"colorscale\":[[0.0,\"#0d0887\"],[0.1111111111111111,\"#46039f\"],[0.2222222222222222,\"#7201a8\"],[0.3333333333333333,\"#9c179e\"],[0.4444444444444444,\"#bd3786\"],[0.5555555555555556,\"#d8576b\"],[0.6666666666666666,\"#ed7953\"],[0.7777777777777778,\"#fb9f3a\"],[0.8888888888888888,\"#fdca26\"],[1.0,\"#f0f921\"]],\"type\":\"histogram2d\"}],\"histogram2dcontour\":[{\"colorbar\":{\"outlinewidth\":0,\"ticks\":\"\"},\"colorscale\":[[0.0,\"#0d0887\"],[0.1111111111111111,\"#46039f\"],[0.2222222222222222,\"#7201a8\"],[0.3333333333333333,\"#9c179e\"],[0.4444444444444444,\"#bd3786\"],[0.5555555555555556,\"#d8576b\"],[0.6666666666666666,\"#ed7953\"],[0.7777777777777778,\"#fb9f3a\"],[0.8888888888888888,\"#fdca26\"],[1.0,\"#f0f921\"]],\"type\":\"histogram2dcontour\"}],\"mesh3d\":[{\"colorbar\":{\"outlinewidth\":0,\"ticks\":\"\"},\"type\":\"mesh3d\"}],\"parcoords\":[{\"line\":{\"colorbar\":{\"outlinewidth\":0,\"ticks\":\"\"}},\"type\":\"parcoords\"}],\"pie\":[{\"automargin\":true,\"type\":\"pie\"}],\"scatter\":[{\"marker\":{\"colorbar\":{\"outlinewidth\":0,\"ticks\":\"\"}},\"type\":\"scatter\"}],\"scatter3d\":[{\"line\":{\"colorbar\":{\"outlinewidth\":0,\"ticks\":\"\"}},\"marker\":{\"colorbar\":{\"outlinewidth\":0,\"ticks\":\"\"}},\"type\":\"scatter3d\"}],\"scattercarpet\":[{\"marker\":{\"colorbar\":{\"outlinewidth\":0,\"ticks\":\"\"}},\"type\":\"scattercarpet\"}],\"scattergeo\":[{\"marker\":{\"colorbar\":{\"outlinewidth\":0,\"ticks\":\"\"}},\"type\":\"scattergeo\"}],\"scattergl\":[{\"marker\":{\"colorbar\":{\"outlinewidth\":0,\"ticks\":\"\"}},\"type\":\"scattergl\"}],\"scattermapbox\":[{\"marker\":{\"colorbar\":{\"outlinewidth\":0,\"ticks\":\"\"}},\"type\":\"scattermapbox\"}],\"scatterpolar\":[{\"marker\":{\"colorbar\":{\"outlinewidth\":0,\"ticks\":\"\"}},\"type\":\"scatterpolar\"}],\"scatterpolargl\":[{\"marker\":{\"colorbar\":{\"outlinewidth\":0,\"ticks\":\"\"}},\"type\":\"scatterpolargl\"}],\"scatterternary\":[{\"marker\":{\"colorbar\":{\"outlinewidth\":0,\"ticks\":\"\"}},\"type\":\"scatterternary\"}],\"surface\":[{\"colorbar\":{\"outlinewidth\":0,\"ticks\":\"\"},\"colorscale\":[[0.0,\"#0d0887\"],[0.1111111111111111,\"#46039f\"],[0.2222222222222222,\"#7201a8\"],[0.3333333333333333,\"#9c179e\"],[0.4444444444444444,\"#bd3786\"],[0.5555555555555556,\"#d8576b\"],[0.6666666666666666,\"#ed7953\"],[0.7777777777777778,\"#fb9f3a\"],[0.8888888888888888,\"#fdca26\"],[1.0,\"#f0f921\"]],\"type\":\"surface\"}],\"table\":[{\"cells\":{\"fill\":{\"color\":\"#EBF0F8\"},\"line\":{\"color\":\"white\"}},\"header\":{\"fill\":{\"color\":\"#C8D4E3\"},\"line\":{\"color\":\"white\"}},\"type\":\"table\"}]},\"layout\":{\"annotationdefaults\":{\"arrowcolor\":\"#2a3f5f\",\"arrowhead\":0,\"arrowwidth\":1},\"autotypenumbers\":\"strict\",\"coloraxis\":{\"colorbar\":{\"outlinewidth\":0,\"ticks\":\"\"}},\"colorscale\":{\"diverging\":[[0,\"#8e0152\"],[0.1,\"#c51b7d\"],[0.2,\"#de77ae\"],[0.3,\"#f1b6da\"],[0.4,\"#fde0ef\"],[0.5,\"#f7f7f7\"],[0.6,\"#e6f5d0\"],[0.7,\"#b8e186\"],[0.8,\"#7fbc41\"],[0.9,\"#4d9221\"],[1,\"#276419\"]],\"sequential\":[[0.0,\"#0d0887\"],[0.1111111111111111,\"#46039f\"],[0.2222222222222222,\"#7201a8\"],[0.3333333333333333,\"#9c179e\"],[0.4444444444444444,\"#bd3786\"],[0.5555555555555556,\"#d8576b\"],[0.6666666666666666,\"#ed7953\"],[0.7777777777777778,\"#fb9f3a\"],[0.8888888888888888,\"#fdca26\"],[1.0,\"#f0f921\"]],\"sequentialminus\":[[0.0,\"#0d0887\"],[0.1111111111111111,\"#46039f\"],[0.2222222222222222,\"#7201a8\"],[0.3333333333333333,\"#9c179e\"],[0.4444444444444444,\"#bd3786\"],[0.5555555555555556,\"#d8576b\"],[0.6666666666666666,\"#ed7953\"],[0.7777777777777778,\"#fb9f3a\"],[0.8888888888888888,\"#fdca26\"],[1.0,\"#f0f921\"]]},\"colorway\":[\"#636efa\",\"#EF553B\",\"#00cc96\",\"#ab63fa\",\"#FFA15A\",\"#19d3f3\",\"#FF6692\",\"#B6E880\",\"#FF97FF\",\"#FECB52\"],\"font\":{\"color\":\"#2a3f5f\"},\"geo\":{\"bgcolor\":\"white\",\"lakecolor\":\"white\",\"landcolor\":\"#E5ECF6\",\"showlakes\":true,\"showland\":true,\"subunitcolor\":\"white\"},\"hoverlabel\":{\"align\":\"left\"},\"hovermode\":\"closest\",\"mapbox\":{\"style\":\"light\"},\"paper_bgcolor\":\"white\",\"plot_bgcolor\":\"#E5ECF6\",\"polar\":{\"angularaxis\":{\"gridcolor\":\"white\",\"linecolor\":\"white\",\"ticks\":\"\"},\"bgcolor\":\"#E5ECF6\",\"radialaxis\":{\"gridcolor\":\"white\",\"linecolor\":\"white\",\"ticks\":\"\"}},\"scene\":{\"xaxis\":{\"backgroundcolor\":\"#E5ECF6\",\"gridcolor\":\"white\",\"gridwidth\":2,\"linecolor\":\"white\",\"showbackground\":true,\"ticks\":\"\",\"zerolinecolor\":\"white\"},\"yaxis\":{\"backgroundcolor\":\"#E5ECF6\",\"gridcolor\":\"white\",\"gridwidth\":2,\"linecolor\":\"white\",\"showbackground\":true,\"ticks\":\"\",\"zerolinecolor\":\"white\"},\"zaxis\":{\"backgroundcolor\":\"#E5ECF6\",\"gridcolor\":\"white\",\"gridwidth\":2,\"linecolor\":\"white\",\"showbackground\":true,\"ticks\":\"\",\"zerolinecolor\":\"white\"}},\"shapedefaults\":{\"line\":{\"color\":\"#2a3f5f\"}},\"ternary\":{\"aaxis\":{\"gridcolor\":\"white\",\"linecolor\":\"white\",\"ticks\":\"\"},\"baxis\":{\"gridcolor\":\"white\",\"linecolor\":\"white\",\"ticks\":\"\"},\"bgcolor\":\"#E5ECF6\",\"caxis\":{\"gridcolor\":\"white\",\"linecolor\":\"white\",\"ticks\":\"\"}},\"title\":{\"x\":0.05},\"xaxis\":{\"automargin\":true,\"gridcolor\":\"white\",\"linecolor\":\"white\",\"ticks\":\"\",\"title\":{\"standoff\":15},\"zerolinecolor\":\"white\",\"zerolinewidth\":2},\"yaxis\":{\"automargin\":true,\"gridcolor\":\"white\",\"linecolor\":\"white\",\"ticks\":\"\",\"title\":{\"standoff\":15},\"zerolinecolor\":\"white\",\"zerolinewidth\":2}}},\"xaxis\":{\"anchor\":\"y\",\"domain\":[0.0,1.0],\"title\":{\"text\":\"coef\"}},\"yaxis\":{\"anchor\":\"x\",\"domain\":[0.0,1.0],\"title\":{\"text\":\"m/z\"}},\"legend\":{\"tracegroupgap\":0},\"margin\":{\"t\":60},\"barmode\":\"relative\"},                        {\"responsive\": true}                    ).then(function(){\n",
       "                            \n",
       "var gd = document.getElementById('055e6986-414d-4671-8898-9adf745e5b1d');\n",
       "var x = new MutationObserver(function (mutations, observer) {{\n",
       "        var display = window.getComputedStyle(gd).display;\n",
       "        if (!display || display === 'none') {{\n",
       "            console.log([gd, 'removed!']);\n",
       "            Plotly.purge(gd);\n",
       "            observer.disconnect();\n",
       "        }}\n",
       "}});\n",
       "\n",
       "// Listen for the removal of the full notebook cells\n",
       "var notebookContainer = gd.closest('#notebook-container');\n",
       "if (notebookContainer) {{\n",
       "    x.observe(notebookContainer, {childList: true});\n",
       "}}\n",
       "\n",
       "// Listen for the clearing of the current output cell\n",
       "var outputEl = gd.closest('.output');\n",
       "if (outputEl) {{\n",
       "    x.observe(outputEl, {childList: true});\n",
       "}}\n",
       "\n",
       "                        })                };                });            </script>        </div>"
      ]
     },
     "metadata": {},
     "output_type": "display_data"
    }
   ],
   "source": [
    "coeff_LogReg, TOPfeatures_LogReg = LogisticRegression_func()"
   ]
  },
  {
   "cell_type": "markdown",
   "id": "b6b7a08c",
   "metadata": {},
   "source": [
    "### 3.2.2. XBG"
   ]
  },
  {
   "cell_type": "code",
   "execution_count": 170,
   "id": "aab84224",
   "metadata": {},
   "outputs": [],
   "source": [
    "## Build XGBoost Model\n",
    "import xgboost as xgb\n",
    "\n",
    "\n",
    "def XGBoost_func(XTrain=X_ingested, XVal=X_val, XTest=X_FNA, yTrain=y_ingested, yVal=y_val, yTest=y_FNA):\n",
    "\n",
    "    model_xgb = xgb.XGBClassifier(\n",
    "        base_score = 0.5, \n",
    "        booster = 'gbtree', \n",
    "        colsample_bylevel = 1, \n",
    "        colsample_bynode = 1, \n",
    "        colsample_bytree = 1, \n",
    "        enable_categorical = False, \n",
    "        eval_metric = 'auc', \n",
    "        gamma = 0, \n",
    "        gpu_id = -1, \n",
    "        grow_policy = 'lossguide', \n",
    "        importance_type = None, \n",
    "        learning_rate = 25, \n",
    "        max_bin = 256, \n",
    "        max_cat_to_onehot = 4, \n",
    "        max_delta_step = 0, \n",
    "        max_depth = 6, \n",
    "        max_leaves = 0, \n",
    "        min_child_weight = 1, \n",
    "        #missing = nan, \n",
    "        monotone_constraints = '()', \n",
    "        n_estimators = 25, \n",
    "        n_jobs = 0, \n",
    "        num_parallel_tree = 1, \n",
    "        objective = 'binary:hinge', \n",
    "        predictor = 'auto', \n",
    "        random_state = 0, \n",
    "        reg_alpha = 0, \n",
    "        reg_lambda = 1, \n",
    "        sampling_method = 'uniform', \n",
    "        scale_pos_weight = None, \n",
    "        subsample = 1, \n",
    "        tree_method = 'hist', \n",
    "        use_label_encoder = False, \n",
    "        validate_parameters = 1, \n",
    "        verbosity = None, \n",
    "        early_stopping_rounds = 10)\n",
    "\n",
    "    model_xgb.fit(XTrain, yTrain, \n",
    "                  eval_set=[(XTrain, yTrain), (XTest, yTest)])\n",
    "    \n",
    "    # Training Set\n",
    "    #plt.rcParams[\"figure.figsize\"] = (3,3)\n",
    "    X_train_predictions = model_xgb.predict(X_train)\n",
    "    print(\"Training Set F1:\", f1_score(y_train, model_xgb.predict(X_train), sample_weight=sampleW))\n",
    "    print(\"Training Set MCC:\", matthews_corrcoef(y_train, model_xgb.predict(X_train), sample_weight=sampleW))\n",
    "    print(\"Training Set Accuracy:\", metrics.accuracy_score(y_train, X_train_predictions))\n",
    "    print(classification_report(y_train, X_train_predictions))\n",
    "    print(confusion_matrix(y_train, X_train_predictions))\n",
    "\n",
    "    #create ROC curve\n",
    "    plt.subplots(dpi = 300)\n",
    "    fpr, tpr, _ = metrics.roc_curve(y_train, X_train_predictions)\n",
    "    plt.plot(fpr,tpr)\n",
    "    plt.ylabel('True Positive Rate', fontsize=18)\n",
    "    plt.xlabel('False Positive Rate', fontsize=18)\n",
    "    plt.xticks(fontsize=16)\n",
    "    plt.yticks(fontsize=16)\n",
    "    #plt.rcParams['figure.figsize'] = [2, 2]\n",
    "    #plt.savefig(r\"H:/3_2_Output_raMSI_DataIngestion_DESIQE_12F/XGB_FNA/LogReg_ROC_train.tif\", bbox_inches = 'tight')\n",
    "    #plt.show()\n",
    "\n",
    "    # Val set\n",
    "    predictions_val  = model_xgb.predict(XVal)\n",
    "    print(\"Ext Val Set F1:\", f1_score(yVal, model_xgb.predict(XVal), sample_weight=sampleExtW))\n",
    "    print(\"Ext Val Set MCC:\", matthews_corrcoef(yVal, model_xgb.predict(XVal), sample_weight=sampleExtW))\n",
    "    print(\"Ext Val Set Accuracy:\",metrics.accuracy_score(yVal, predictions_val))\n",
    "    print(classification_report(yVal, predictions_val))\n",
    "    print(confusion_matrix(yVal, predictions_val))\n",
    "\n",
    "    #create ROC curve\n",
    "    plt.subplots(dpi = 300)\n",
    "    fpr_val, tpr_val, _ = metrics.roc_curve(yVal, predictions_val)\n",
    "    plt.plot(fpr_val,tpr_val)\n",
    "    plt.ylabel('True Positive Rate', fontsize=18)\n",
    "    plt.xlabel('False Positive Rate', fontsize=18)\n",
    "    plt.xticks(fontsize=16)\n",
    "    plt.yticks(fontsize=16)\n",
    "    #plt.rcParams['figure.figsize'] = [2, 2]\n",
    "    #plt.savefig(r\"H:/3_2_Output_raMSI_DataIngestion_DESIQE_12F/XGB_FNA/LogReg_ROC_test.tif\", bbox_inches = 'tight')\n",
    "    #plt.show()\n",
    "    \n",
    "    f1_10_train = cross_val_score(model_xgb, XTrain, yTrain, cv = 3, scoring=f1)\n",
    "    print(\"3F-CV:\", avgScore(f1_10_train, 3))\n",
    "    \n",
    "    # Test set\n",
    "    predictions_FNA = model_xgb.predict(XTest)\n",
    "    print(\"FNA Set F1:\", f1_score(yTest, model_xgb.predict(XTest), sample_weight=sampleFNAW))\n",
    "    print(\"FNA Set MCC:\", matthews_corrcoef(yTest, model_xgb.predict(XTest), sample_weight=sampleFNAW))\n",
    "    print(\"FNA Set Recall:\", recall_score(yTest, model_xgb.predict(XTest)))\n",
    "    print(\"FNA Test Set Accuracy:\",metrics.accuracy_score(yTest, predictions_FNA))\n",
    "    print(classification_report(yTest, predictions_FNA))\n",
    "    print(confusion_matrix(yTest, predictions_FNA))\n",
    "\n",
    "    #create ROC curve\n",
    "    plt.subplots(dpi = 300)\n",
    "    fpr_FNA, tpr_FNA, _ = metrics.roc_curve(yTest, predictions_FNA)\n",
    "    plt.plot(fpr_FNA,tpr_FNA)\n",
    "    plt.ylabel('True Positive Rate', fontsize=18)\n",
    "    plt.xlabel('False Positive Rate', fontsize=18)\n",
    "    plt.xticks(fontsize=16)\n",
    "    plt.yticks(fontsize=16)\n",
    "    #plt.rcParams['figure.figsize'] = [2, 2]\n",
    "    #plt.savefig(r\"G:/raMSIn/XGB_Importance2/XGB2_ROC_FNAtest2.tif\", bbox_inches = 'tight')\n",
    "    #plt.show()\n",
    "    \n",
    "    # Visualize the importantance of the features\n",
    "    feature_imp = pd.Series(model_xgb.feature_importances_, index=XTrain.columns).sort_values(ascending=False)\n",
    "    x=feature_imp\n",
    "    y=feature_imp.index\n",
    "    \n",
    "    plt.subplots(dpi = 300)\n",
    "    #plt.rcParams[\"figure.figsize\"] = [4, 6]\n",
    "    #plt.rcParams[\"font.family\"] = \"Arial\"\n",
    "    #plt.rcParams.update({'font.size': 6})\n",
    "    plt.xlabel('Feature Importance Score', fontproperties='Arial', fontsize=17)\n",
    "    plt.ylabel('Features', fontproperties='Arial', fontsize=17)\n",
    "    plt.xticks(fontsize=15)\n",
    "    plt.yticks(fontsize=15)\n",
    "    plt.title(\"Important Molecular Features\", fontproperties='Arial', fontsize=20)\n",
    "    sns.barplot(x=feature_imp, y=feature_imp.index)\n",
    "    #plt.savefig(r\"H:/3_2_Output_raMSI_DataIngestion_DESIQE_12F/XGB_FNA/XGB_TopFeatures.tif\", bbox_inches = 'tight')\n",
    "    #plt.show()\n",
    "\n",
    "    # Visualize the boxplot of the important features between the two groups\n",
    "    #fig = px.box(data_frame = df_ROI_for_ML_Opti,x = feature_imp[:20].index,color= 'type')\n",
    "    #fig.show()\n",
    "    \n",
    "    return x, y"
   ]
  },
  {
   "cell_type": "code",
   "execution_count": 171,
   "id": "78a85b62",
   "metadata": {
    "scrolled": true
   },
   "outputs": [
    {
     "name": "stdout",
     "output_type": "stream",
     "text": [
      "[0]\tvalidation_0-auc:0.96932\tvalidation_1-auc:0.62389\n",
      "[1]\tvalidation_0-auc:0.96527\tvalidation_1-auc:0.63918\n",
      "[2]\tvalidation_0-auc:0.97209\tvalidation_1-auc:0.75335\n",
      "[3]\tvalidation_0-auc:0.97017\tvalidation_1-auc:0.74248\n",
      "[4]\tvalidation_0-auc:0.98167\tvalidation_1-auc:0.66606\n",
      "[5]\tvalidation_0-auc:0.98271\tvalidation_1-auc:0.75312\n",
      "[6]\tvalidation_0-auc:0.98503\tvalidation_1-auc:0.64401\n",
      "[7]\tvalidation_0-auc:0.98514\tvalidation_1-auc:0.72395\n",
      "[8]\tvalidation_0-auc:0.98664\tvalidation_1-auc:0.63513\n",
      "[9]\tvalidation_0-auc:0.98607\tvalidation_1-auc:0.72804\n",
      "[10]\tvalidation_0-auc:0.98786\tvalidation_1-auc:0.66241\n",
      "[11]\tvalidation_0-auc:0.98655\tvalidation_1-auc:0.76371\n",
      "[12]\tvalidation_0-auc:0.98708\tvalidation_1-auc:0.79337\n",
      "[13]\tvalidation_0-auc:0.98809\tvalidation_1-auc:0.78157\n",
      "[14]\tvalidation_0-auc:0.98713\tvalidation_1-auc:0.75580\n",
      "[15]\tvalidation_0-auc:0.98722\tvalidation_1-auc:0.69760\n",
      "[16]\tvalidation_0-auc:0.98736\tvalidation_1-auc:0.68589\n",
      "[17]\tvalidation_0-auc:0.98790\tvalidation_1-auc:0.67375\n",
      "[18]\tvalidation_0-auc:0.98775\tvalidation_1-auc:0.67783\n",
      "[19]\tvalidation_0-auc:0.98809\tvalidation_1-auc:0.67408\n",
      "[20]\tvalidation_0-auc:0.98904\tvalidation_1-auc:0.66283\n",
      "[21]\tvalidation_0-auc:0.98869\tvalidation_1-auc:0.65826\n",
      "[22]\tvalidation_0-auc:0.98869\tvalidation_1-auc:0.66263\n",
      "Training Set F1: 0.9921438447315568\n",
      "Training Set MCC: 0.984395510346895\n",
      "Training Set Accuracy: 0.9923702726473175\n",
      "              precision    recall  f1-score   support\n",
      "\n",
      "           0       0.99      1.00      0.99     47449\n",
      "           1       1.00      0.99      0.99     43511\n",
      "\n",
      "    accuracy                           0.99     90960\n",
      "   macro avg       0.99      0.99      0.99     90960\n",
      "weighted avg       0.99      0.99      0.99     90960\n",
      "\n",
      "[[47288   161]\n",
      " [  533 42978]]\n",
      "Ext Val Set F1: 0.9090336316321916\n",
      "Ext Val Set MCC: 0.8428975856596538\n",
      "Ext Val Set Accuracy: 0.9137448559670782\n",
      "              precision    recall  f1-score   support\n",
      "\n",
      "           0       0.85      0.99      0.92      2943\n",
      "           1       0.99      0.84      0.91      3132\n",
      "\n",
      "    accuracy                           0.91      6075\n",
      "   macro avg       0.92      0.92      0.91      6075\n",
      "weighted avg       0.93      0.91      0.91      6075\n",
      "\n",
      "[[2928   15]\n",
      " [ 509 2623]]\n",
      "3F-CV: nan\n",
      "FNA Set F1: 0.8173425568930216\n",
      "FNA Set MCC: 0.6080499262051808\n",
      "FNA Set Recall: 0.9245714544507597\n",
      "FNA Test Set Accuracy: 0.7928095511888253\n",
      "              precision    recall  f1-score   support\n",
      "\n",
      "           0       0.90      0.66      0.76     44540\n",
      "           1       0.73      0.92      0.82     44161\n",
      "\n",
      "    accuracy                           0.79     88701\n",
      "   macro avg       0.81      0.79      0.79     88701\n",
      "weighted avg       0.81      0.79      0.79     88701\n",
      "\n",
      "[[29493 15047]\n",
      " [ 3331 40830]]\n"
     ]
    }
   ],
   "source": [
    "coeff_XGB, TOPfeatures_XGB = XGBoost_func()"
   ]
  },
  {
   "cell_type": "code",
   "execution_count": null,
   "id": "7c6aeb4c",
   "metadata": {},
   "outputs": [],
   "source": []
  },
  {
   "cell_type": "markdown",
   "id": "27f9a9ba",
   "metadata": {},
   "source": [
    "## 3.3 Machine Learning Modeling: Model 1 (Train 6:6, Val 4:4, Test 3:3)"
   ]
  },
  {
   "cell_type": "markdown",
   "id": "49659b18",
   "metadata": {},
   "source": [
    "### 3.3.1. Logistic Regression"
   ]
  },
  {
   "cell_type": "code",
   "execution_count": 185,
   "id": "7bcace0e",
   "metadata": {},
   "outputs": [],
   "source": [
    "## Build Logistic Regression Model\n",
    "from sklearn.linear_model import LogisticRegression\n",
    "\n",
    "def LogisticRegression_func(XTrain=X_train, XVal=X_val, XTest=X_FNA, yTrain=y_train, yVal=y_val, yTest=y_FNA):\n",
    "    model_lr = LogisticRegression(C=0.0005, penalty='l1', solver=\"liblinear\", max_iter=5000, random_state=42, class_weight={0:0.9628, 1:1.0402})  # max_iter=100\n",
    "    model_lr.fit(XTrain,yTrain)\n",
    "    \n",
    "    # Training Set\n",
    "    #plt.rcParams[\"figure.figsize\"] = (3,3)\n",
    "    X_train_predictions = model_lr.predict(XTrain)\n",
    "    print(\"Training Set F1:\", f1_score(yTrain, model_lr.predict(XTrain), sample_weight=sampleW))\n",
    "    print(\"Training Set MCC:\", matthews_corrcoef(yTrain, model_lr.predict(XTrain), sample_weight=sampleW))\n",
    "    print(\"Training Set Accuracy:\", metrics.accuracy_score(yTrain, X_train_predictions))\n",
    "    print(classification_report(yTrain, X_train_predictions))\n",
    "    print(confusion_matrix(yTrain, X_train_predictions))\n",
    "\n",
    "    #create ROC curve\n",
    "    plt.subplots(dpi = 300)\n",
    "    fpr, tpr, _ = metrics.roc_curve(yTrain, X_train_predictions)\n",
    "    plt.plot(fpr,tpr)\n",
    "    plt.ylabel('True Positive Rate', fontsize=18)\n",
    "    plt.xlabel('False Positive Rate', fontsize=18)\n",
    "    plt.xticks(fontsize=16)\n",
    "    plt.yticks(fontsize=16)\n",
    "    #plt.rcParams['figure.figsize'] = [2, 2]\n",
    "    #plt.savefig(r\"H:/3_2_Output_raMSI_DataIngestion_DESIQE_12F/XGB_FNA/LogReg_ROC_train.tif\", bbox_inches = 'tight')\n",
    "    #plt.show()\n",
    "\n",
    "    # Val set\n",
    "    predictions_val  = model_lr.predict(XVal)\n",
    "    print(\"Ext Val Set F1:\", f1_score(yVal, model_lr.predict(XVal), sample_weight=sampleExtW))\n",
    "    print(\"Ext Val Set MCC:\", matthews_corrcoef(yVal, model_lr.predict(XVal), sample_weight=sampleExtW))\n",
    "    print(\"Ext Val Set Accuracy:\", metrics.accuracy_score(yVal, predictions_val))\n",
    "    print(classification_report(yVal, predictions_val))\n",
    "    print(confusion_matrix(yVal, predictions_val))\n",
    "\n",
    "    #create ROC curve\n",
    "    plt.subplots(dpi = 300)\n",
    "    fpr_val, tpr_val, _ = metrics.roc_curve(yVal, predictions_val)\n",
    "    plt.plot(fpr_val,tpr_val)\n",
    "    plt.ylabel('True Positive Rate', fontsize=18)\n",
    "    plt.xlabel('False Positive Rate', fontsize=18)\n",
    "    plt.xticks(fontsize=16)\n",
    "    plt.yticks(fontsize=16)\n",
    "    #plt.rcParams['figure.figsize'] = [2, 2]\n",
    "    #plt.savefig(r\"H:/3_2_Output_raMSI_DataIngestion_DESIQE_12F/XGB_FNA/LogReg_ROC_test.tif\", bbox_inches = 'tight')\n",
    "    #plt.show()\n",
    "    \n",
    "    f1_10_train = cross_val_score(model_lr, XTrain, yTrain, cv = 3, scoring=f1)\n",
    "    print(\"3F-CV:\", avgScore(f1_10_train, 3))\n",
    "    \n",
    "    # Test set\n",
    "    predictions_FNA = model_lr.predict(XTest)\n",
    "    print(\"FNA Set F1:\", f1_score(yTest, model_lr.predict(XTest), sample_weight=sampleFNAW))\n",
    "    print(\"FNA Set MCC:\", matthews_corrcoef(yTest, model_lr.predict(XTest), sample_weight=sampleFNAW))\n",
    "    print(\"FNA Set Recall:\", recall_score(yTest, model_lr.predict(XTest)))\n",
    "    print(\"FNA Test Set Accuracy:\", metrics.accuracy_score(yTest, predictions_FNA))\n",
    "    print(classification_report(yTest, predictions_FNA))\n",
    "    print(confusion_matrix(yTest, predictions_FNA))\n",
    "\n",
    "    #create ROC curve\n",
    "    plt.subplots(dpi = 300)\n",
    "    fpr_FNA, tpr_FNA, _ = metrics.roc_curve(yTest, predictions_FNA)\n",
    "    plt.plot(fpr_FNA,tpr_FNA)\n",
    "    plt.ylabel('True Positive Rate', fontsize=18)\n",
    "    plt.xlabel('False Positive Rate', fontsize=18)\n",
    "    plt.xticks(fontsize=16)\n",
    "    plt.yticks(fontsize=16)\n",
    "    #plt.rcParams['figure.figsize'] = [2, 2]\n",
    "    #plt.savefig(r\"G:/raMSIn/XGB_Importance2/XGB2_ROC_FNAtest2.tif\", bbox_inches = 'tight')\n",
    "    #plt.show()\n",
    "    \n",
    "    # Visualize the importantance of the features\n",
    "    feature_imp = pd.Series(model_lr.coef_[0], index=XTrain.columns).sort_values(ascending=False)\n",
    "    x=feature_imp\n",
    "    y=feature_imp.index\n",
    "    \n",
    "    plt.subplots(dpi = 300)\n",
    "    #plt.rcParams[\"figure.figsize\"] = [4, 6]\n",
    "    #plt.rcParams[\"font.family\"] = \"Arial\"\n",
    "    #plt.rcParams.update({'font.size': 6})\n",
    "    plt.xlabel('Feature Importance Score', fontproperties='Arial', fontsize=17)\n",
    "    plt.ylabel('Features', fontproperties='Arial', fontsize=17)\n",
    "    plt.xticks(fontsize=15)\n",
    "    plt.yticks(fontsize=15)\n",
    "    plt.title(\"Important Molecular Features\", fontproperties='Arial', fontsize=20)\n",
    "    sns.barplot(x=feature_imp, y=feature_imp.index)\n",
    "    #plt.savefig(r\"H:/3_2_Output_raMSI_DataIngestion_DESIQE_12F/XGB_FNA/LogReg_TopFeatures.tif\", bbox_inches = 'tight')\n",
    "    #plt.show()\n",
    "    \n",
    "    feature_importances = model_lr.coef_[0]\n",
    "    feature_df=pd.DataFrame({'m/z':XTrain.columns,'coef':feature_importances})\n",
    "\n",
    "    fig = px.bar(feature_df, x='coef', y='m/z')\n",
    "    fig.show()\n",
    "    \n",
    "    return x, y"
   ]
  },
  {
   "cell_type": "code",
   "execution_count": 186,
   "id": "5d284fc7",
   "metadata": {
    "scrolled": true
   },
   "outputs": [
    {
     "name": "stdout",
     "output_type": "stream",
     "text": [
      "Training Set F1: 0.8842491991260675\n",
      "Training Set MCC: 0.7603949218110979\n",
      "Training Set Accuracy: 0.8755496921723834\n",
      "              precision    recall  f1-score   support\n",
      "\n",
      "           0       0.93      0.82      0.87     47449\n",
      "           1       0.83      0.93      0.88     43511\n",
      "\n",
      "    accuracy                           0.88     90960\n",
      "   macro avg       0.88      0.88      0.88     90960\n",
      "weighted avg       0.88      0.88      0.88     90960\n",
      "\n",
      "[[39062  8387]\n",
      " [ 2933 40578]]\n",
      "Ext Val Set F1: 0.8091641942302281\n",
      "Ext Val Set MCC: 0.5926357166725181\n",
      "Ext Val Set Accuracy: 0.7937448559670782\n",
      "              precision    recall  f1-score   support\n",
      "\n",
      "           0       0.85      0.69      0.77      2943\n",
      "           1       0.76      0.89      0.82      3132\n",
      "\n",
      "    accuracy                           0.79      6075\n",
      "   macro avg       0.80      0.79      0.79      6075\n",
      "weighted avg       0.80      0.79      0.79      6075\n",
      "\n",
      "[[2043  900]\n",
      " [ 353 2779]]\n",
      "3F-CV: 0.6548205699454676\n",
      "FNA Set F1: 0.7809312470954997\n",
      "FNA Set MCC: 0.5531020903177568\n",
      "FNA Set Recall: 0.7974004211861144\n",
      "FNA Test Set Accuracy: 0.7762144733430288\n",
      "              precision    recall  f1-score   support\n",
      "\n",
      "           0       0.79      0.76      0.77     44540\n",
      "           1       0.76      0.80      0.78     44161\n",
      "\n",
      "    accuracy                           0.78     88701\n",
      "   macro avg       0.78      0.78      0.78     88701\n",
      "weighted avg       0.78      0.78      0.78     88701\n",
      "\n",
      "[[33637 10903]\n",
      " [ 8947 35214]]\n"
     ]
    },
    {
     "data": {
      "application/vnd.plotly.v1+json": {
       "config": {
        "plotlyServerURL": "https://plot.ly"
       },
       "data": [
        {
         "alignmentgroup": "True",
         "hovertemplate": "coef=%{x}<br>m/z=%{y}<extra></extra>",
         "legendgroup": "",
         "marker": {
          "color": "#636efa",
          "pattern": {
           "shape": ""
          }
         },
         "name": "",
         "offsetgroup": "",
         "orientation": "h",
         "showlegend": false,
         "textposition": "auto",
         "type": "bar",
         "x": [
          -1.7713184536946656,
          0,
          -2.1744836415946387,
          0.6984346259640146,
          0,
          -0.41094187529000875,
          0,
          0,
          0.20137455238100918,
          -0.35038895569405104,
          0,
          0.9439922646635719,
          0,
          0,
          0,
          -0.7358009611170543,
          -0.11820442513319072,
          0
         ],
         "xaxis": "x",
         "y": [
          "869.7241",
          "909.5496",
          "269.2486",
          "736.6464",
          "535.4734",
          "559.4732",
          "609.5114",
          "682.5922",
          "846.5858",
          "633.5108",
          "445.3172",
          "683.5948",
          "269.0878",
          "215.0328",
          "283.255",
          "671.4661",
          "610.5128",
          "175.0246"
         ],
         "yaxis": "y"
        }
       ],
       "layout": {
        "barmode": "relative",
        "legend": {
         "tracegroupgap": 0
        },
        "margin": {
         "t": 60
        },
        "template": {
         "data": {
          "bar": [
           {
            "error_x": {
             "color": "#2a3f5f"
            },
            "error_y": {
             "color": "#2a3f5f"
            },
            "marker": {
             "line": {
              "color": "#E5ECF6",
              "width": 0.5
             },
             "pattern": {
              "fillmode": "overlay",
              "size": 10,
              "solidity": 0.2
             }
            },
            "type": "bar"
           }
          ],
          "barpolar": [
           {
            "marker": {
             "line": {
              "color": "#E5ECF6",
              "width": 0.5
             },
             "pattern": {
              "fillmode": "overlay",
              "size": 10,
              "solidity": 0.2
             }
            },
            "type": "barpolar"
           }
          ],
          "carpet": [
           {
            "aaxis": {
             "endlinecolor": "#2a3f5f",
             "gridcolor": "white",
             "linecolor": "white",
             "minorgridcolor": "white",
             "startlinecolor": "#2a3f5f"
            },
            "baxis": {
             "endlinecolor": "#2a3f5f",
             "gridcolor": "white",
             "linecolor": "white",
             "minorgridcolor": "white",
             "startlinecolor": "#2a3f5f"
            },
            "type": "carpet"
           }
          ],
          "choropleth": [
           {
            "colorbar": {
             "outlinewidth": 0,
             "ticks": ""
            },
            "type": "choropleth"
           }
          ],
          "contour": [
           {
            "colorbar": {
             "outlinewidth": 0,
             "ticks": ""
            },
            "colorscale": [
             [
              0,
              "#0d0887"
             ],
             [
              0.1111111111111111,
              "#46039f"
             ],
             [
              0.2222222222222222,
              "#7201a8"
             ],
             [
              0.3333333333333333,
              "#9c179e"
             ],
             [
              0.4444444444444444,
              "#bd3786"
             ],
             [
              0.5555555555555556,
              "#d8576b"
             ],
             [
              0.6666666666666666,
              "#ed7953"
             ],
             [
              0.7777777777777778,
              "#fb9f3a"
             ],
             [
              0.8888888888888888,
              "#fdca26"
             ],
             [
              1,
              "#f0f921"
             ]
            ],
            "type": "contour"
           }
          ],
          "contourcarpet": [
           {
            "colorbar": {
             "outlinewidth": 0,
             "ticks": ""
            },
            "type": "contourcarpet"
           }
          ],
          "heatmap": [
           {
            "colorbar": {
             "outlinewidth": 0,
             "ticks": ""
            },
            "colorscale": [
             [
              0,
              "#0d0887"
             ],
             [
              0.1111111111111111,
              "#46039f"
             ],
             [
              0.2222222222222222,
              "#7201a8"
             ],
             [
              0.3333333333333333,
              "#9c179e"
             ],
             [
              0.4444444444444444,
              "#bd3786"
             ],
             [
              0.5555555555555556,
              "#d8576b"
             ],
             [
              0.6666666666666666,
              "#ed7953"
             ],
             [
              0.7777777777777778,
              "#fb9f3a"
             ],
             [
              0.8888888888888888,
              "#fdca26"
             ],
             [
              1,
              "#f0f921"
             ]
            ],
            "type": "heatmap"
           }
          ],
          "heatmapgl": [
           {
            "colorbar": {
             "outlinewidth": 0,
             "ticks": ""
            },
            "colorscale": [
             [
              0,
              "#0d0887"
             ],
             [
              0.1111111111111111,
              "#46039f"
             ],
             [
              0.2222222222222222,
              "#7201a8"
             ],
             [
              0.3333333333333333,
              "#9c179e"
             ],
             [
              0.4444444444444444,
              "#bd3786"
             ],
             [
              0.5555555555555556,
              "#d8576b"
             ],
             [
              0.6666666666666666,
              "#ed7953"
             ],
             [
              0.7777777777777778,
              "#fb9f3a"
             ],
             [
              0.8888888888888888,
              "#fdca26"
             ],
             [
              1,
              "#f0f921"
             ]
            ],
            "type": "heatmapgl"
           }
          ],
          "histogram": [
           {
            "marker": {
             "pattern": {
              "fillmode": "overlay",
              "size": 10,
              "solidity": 0.2
             }
            },
            "type": "histogram"
           }
          ],
          "histogram2d": [
           {
            "colorbar": {
             "outlinewidth": 0,
             "ticks": ""
            },
            "colorscale": [
             [
              0,
              "#0d0887"
             ],
             [
              0.1111111111111111,
              "#46039f"
             ],
             [
              0.2222222222222222,
              "#7201a8"
             ],
             [
              0.3333333333333333,
              "#9c179e"
             ],
             [
              0.4444444444444444,
              "#bd3786"
             ],
             [
              0.5555555555555556,
              "#d8576b"
             ],
             [
              0.6666666666666666,
              "#ed7953"
             ],
             [
              0.7777777777777778,
              "#fb9f3a"
             ],
             [
              0.8888888888888888,
              "#fdca26"
             ],
             [
              1,
              "#f0f921"
             ]
            ],
            "type": "histogram2d"
           }
          ],
          "histogram2dcontour": [
           {
            "colorbar": {
             "outlinewidth": 0,
             "ticks": ""
            },
            "colorscale": [
             [
              0,
              "#0d0887"
             ],
             [
              0.1111111111111111,
              "#46039f"
             ],
             [
              0.2222222222222222,
              "#7201a8"
             ],
             [
              0.3333333333333333,
              "#9c179e"
             ],
             [
              0.4444444444444444,
              "#bd3786"
             ],
             [
              0.5555555555555556,
              "#d8576b"
             ],
             [
              0.6666666666666666,
              "#ed7953"
             ],
             [
              0.7777777777777778,
              "#fb9f3a"
             ],
             [
              0.8888888888888888,
              "#fdca26"
             ],
             [
              1,
              "#f0f921"
             ]
            ],
            "type": "histogram2dcontour"
           }
          ],
          "mesh3d": [
           {
            "colorbar": {
             "outlinewidth": 0,
             "ticks": ""
            },
            "type": "mesh3d"
           }
          ],
          "parcoords": [
           {
            "line": {
             "colorbar": {
              "outlinewidth": 0,
              "ticks": ""
             }
            },
            "type": "parcoords"
           }
          ],
          "pie": [
           {
            "automargin": true,
            "type": "pie"
           }
          ],
          "scatter": [
           {
            "marker": {
             "colorbar": {
              "outlinewidth": 0,
              "ticks": ""
             }
            },
            "type": "scatter"
           }
          ],
          "scatter3d": [
           {
            "line": {
             "colorbar": {
              "outlinewidth": 0,
              "ticks": ""
             }
            },
            "marker": {
             "colorbar": {
              "outlinewidth": 0,
              "ticks": ""
             }
            },
            "type": "scatter3d"
           }
          ],
          "scattercarpet": [
           {
            "marker": {
             "colorbar": {
              "outlinewidth": 0,
              "ticks": ""
             }
            },
            "type": "scattercarpet"
           }
          ],
          "scattergeo": [
           {
            "marker": {
             "colorbar": {
              "outlinewidth": 0,
              "ticks": ""
             }
            },
            "type": "scattergeo"
           }
          ],
          "scattergl": [
           {
            "marker": {
             "colorbar": {
              "outlinewidth": 0,
              "ticks": ""
             }
            },
            "type": "scattergl"
           }
          ],
          "scattermapbox": [
           {
            "marker": {
             "colorbar": {
              "outlinewidth": 0,
              "ticks": ""
             }
            },
            "type": "scattermapbox"
           }
          ],
          "scatterpolar": [
           {
            "marker": {
             "colorbar": {
              "outlinewidth": 0,
              "ticks": ""
             }
            },
            "type": "scatterpolar"
           }
          ],
          "scatterpolargl": [
           {
            "marker": {
             "colorbar": {
              "outlinewidth": 0,
              "ticks": ""
             }
            },
            "type": "scatterpolargl"
           }
          ],
          "scatterternary": [
           {
            "marker": {
             "colorbar": {
              "outlinewidth": 0,
              "ticks": ""
             }
            },
            "type": "scatterternary"
           }
          ],
          "surface": [
           {
            "colorbar": {
             "outlinewidth": 0,
             "ticks": ""
            },
            "colorscale": [
             [
              0,
              "#0d0887"
             ],
             [
              0.1111111111111111,
              "#46039f"
             ],
             [
              0.2222222222222222,
              "#7201a8"
             ],
             [
              0.3333333333333333,
              "#9c179e"
             ],
             [
              0.4444444444444444,
              "#bd3786"
             ],
             [
              0.5555555555555556,
              "#d8576b"
             ],
             [
              0.6666666666666666,
              "#ed7953"
             ],
             [
              0.7777777777777778,
              "#fb9f3a"
             ],
             [
              0.8888888888888888,
              "#fdca26"
             ],
             [
              1,
              "#f0f921"
             ]
            ],
            "type": "surface"
           }
          ],
          "table": [
           {
            "cells": {
             "fill": {
              "color": "#EBF0F8"
             },
             "line": {
              "color": "white"
             }
            },
            "header": {
             "fill": {
              "color": "#C8D4E3"
             },
             "line": {
              "color": "white"
             }
            },
            "type": "table"
           }
          ]
         },
         "layout": {
          "annotationdefaults": {
           "arrowcolor": "#2a3f5f",
           "arrowhead": 0,
           "arrowwidth": 1
          },
          "autotypenumbers": "strict",
          "coloraxis": {
           "colorbar": {
            "outlinewidth": 0,
            "ticks": ""
           }
          },
          "colorscale": {
           "diverging": [
            [
             0,
             "#8e0152"
            ],
            [
             0.1,
             "#c51b7d"
            ],
            [
             0.2,
             "#de77ae"
            ],
            [
             0.3,
             "#f1b6da"
            ],
            [
             0.4,
             "#fde0ef"
            ],
            [
             0.5,
             "#f7f7f7"
            ],
            [
             0.6,
             "#e6f5d0"
            ],
            [
             0.7,
             "#b8e186"
            ],
            [
             0.8,
             "#7fbc41"
            ],
            [
             0.9,
             "#4d9221"
            ],
            [
             1,
             "#276419"
            ]
           ],
           "sequential": [
            [
             0,
             "#0d0887"
            ],
            [
             0.1111111111111111,
             "#46039f"
            ],
            [
             0.2222222222222222,
             "#7201a8"
            ],
            [
             0.3333333333333333,
             "#9c179e"
            ],
            [
             0.4444444444444444,
             "#bd3786"
            ],
            [
             0.5555555555555556,
             "#d8576b"
            ],
            [
             0.6666666666666666,
             "#ed7953"
            ],
            [
             0.7777777777777778,
             "#fb9f3a"
            ],
            [
             0.8888888888888888,
             "#fdca26"
            ],
            [
             1,
             "#f0f921"
            ]
           ],
           "sequentialminus": [
            [
             0,
             "#0d0887"
            ],
            [
             0.1111111111111111,
             "#46039f"
            ],
            [
             0.2222222222222222,
             "#7201a8"
            ],
            [
             0.3333333333333333,
             "#9c179e"
            ],
            [
             0.4444444444444444,
             "#bd3786"
            ],
            [
             0.5555555555555556,
             "#d8576b"
            ],
            [
             0.6666666666666666,
             "#ed7953"
            ],
            [
             0.7777777777777778,
             "#fb9f3a"
            ],
            [
             0.8888888888888888,
             "#fdca26"
            ],
            [
             1,
             "#f0f921"
            ]
           ]
          },
          "colorway": [
           "#636efa",
           "#EF553B",
           "#00cc96",
           "#ab63fa",
           "#FFA15A",
           "#19d3f3",
           "#FF6692",
           "#B6E880",
           "#FF97FF",
           "#FECB52"
          ],
          "font": {
           "color": "#2a3f5f"
          },
          "geo": {
           "bgcolor": "white",
           "lakecolor": "white",
           "landcolor": "#E5ECF6",
           "showlakes": true,
           "showland": true,
           "subunitcolor": "white"
          },
          "hoverlabel": {
           "align": "left"
          },
          "hovermode": "closest",
          "mapbox": {
           "style": "light"
          },
          "paper_bgcolor": "white",
          "plot_bgcolor": "#E5ECF6",
          "polar": {
           "angularaxis": {
            "gridcolor": "white",
            "linecolor": "white",
            "ticks": ""
           },
           "bgcolor": "#E5ECF6",
           "radialaxis": {
            "gridcolor": "white",
            "linecolor": "white",
            "ticks": ""
           }
          },
          "scene": {
           "xaxis": {
            "backgroundcolor": "#E5ECF6",
            "gridcolor": "white",
            "gridwidth": 2,
            "linecolor": "white",
            "showbackground": true,
            "ticks": "",
            "zerolinecolor": "white"
           },
           "yaxis": {
            "backgroundcolor": "#E5ECF6",
            "gridcolor": "white",
            "gridwidth": 2,
            "linecolor": "white",
            "showbackground": true,
            "ticks": "",
            "zerolinecolor": "white"
           },
           "zaxis": {
            "backgroundcolor": "#E5ECF6",
            "gridcolor": "white",
            "gridwidth": 2,
            "linecolor": "white",
            "showbackground": true,
            "ticks": "",
            "zerolinecolor": "white"
           }
          },
          "shapedefaults": {
           "line": {
            "color": "#2a3f5f"
           }
          },
          "ternary": {
           "aaxis": {
            "gridcolor": "white",
            "linecolor": "white",
            "ticks": ""
           },
           "baxis": {
            "gridcolor": "white",
            "linecolor": "white",
            "ticks": ""
           },
           "bgcolor": "#E5ECF6",
           "caxis": {
            "gridcolor": "white",
            "linecolor": "white",
            "ticks": ""
           }
          },
          "title": {
           "x": 0.05
          },
          "xaxis": {
           "automargin": true,
           "gridcolor": "white",
           "linecolor": "white",
           "ticks": "",
           "title": {
            "standoff": 15
           },
           "zerolinecolor": "white",
           "zerolinewidth": 2
          },
          "yaxis": {
           "automargin": true,
           "gridcolor": "white",
           "linecolor": "white",
           "ticks": "",
           "title": {
            "standoff": 15
           },
           "zerolinecolor": "white",
           "zerolinewidth": 2
          }
         }
        },
        "xaxis": {
         "anchor": "y",
         "domain": [
          0,
          1
         ],
         "title": {
          "text": "coef"
         }
        },
        "yaxis": {
         "anchor": "x",
         "domain": [
          0,
          1
         ],
         "title": {
          "text": "m/z"
         }
        }
       }
      },
      "text/html": [
       "<div>                            <div id=\"dfbcfa2b-03a3-4833-831d-0b59bada7a8b\" class=\"plotly-graph-div\" style=\"height:525px; width:100%;\"></div>            <script type=\"text/javascript\">                require([\"plotly\"], function(Plotly) {                    window.PLOTLYENV=window.PLOTLYENV || {};                                    if (document.getElementById(\"dfbcfa2b-03a3-4833-831d-0b59bada7a8b\")) {                    Plotly.newPlot(                        \"dfbcfa2b-03a3-4833-831d-0b59bada7a8b\",                        [{\"alignmentgroup\":\"True\",\"hovertemplate\":\"coef=%{x}<br>m/z=%{y}<extra></extra>\",\"legendgroup\":\"\",\"marker\":{\"color\":\"#636efa\",\"pattern\":{\"shape\":\"\"}},\"name\":\"\",\"offsetgroup\":\"\",\"orientation\":\"h\",\"showlegend\":false,\"textposition\":\"auto\",\"x\":[-1.7713184536946656,0.0,-2.1744836415946387,0.6984346259640146,0.0,-0.41094187529000875,0.0,0.0,0.20137455238100918,-0.35038895569405104,0.0,0.9439922646635719,0.0,0.0,0.0,-0.7358009611170543,-0.11820442513319072,0.0],\"xaxis\":\"x\",\"y\":[\"869.7241\",\"909.5496\",\"269.2486\",\"736.6464\",\"535.4734\",\"559.4732\",\"609.5114\",\"682.5922\",\"846.5858\",\"633.5108\",\"445.3172\",\"683.5948\",\"269.0878\",\"215.0328\",\"283.255\",\"671.4661\",\"610.5128\",\"175.0246\"],\"yaxis\":\"y\",\"type\":\"bar\"}],                        {\"template\":{\"data\":{\"bar\":[{\"error_x\":{\"color\":\"#2a3f5f\"},\"error_y\":{\"color\":\"#2a3f5f\"},\"marker\":{\"line\":{\"color\":\"#E5ECF6\",\"width\":0.5},\"pattern\":{\"fillmode\":\"overlay\",\"size\":10,\"solidity\":0.2}},\"type\":\"bar\"}],\"barpolar\":[{\"marker\":{\"line\":{\"color\":\"#E5ECF6\",\"width\":0.5},\"pattern\":{\"fillmode\":\"overlay\",\"size\":10,\"solidity\":0.2}},\"type\":\"barpolar\"}],\"carpet\":[{\"aaxis\":{\"endlinecolor\":\"#2a3f5f\",\"gridcolor\":\"white\",\"linecolor\":\"white\",\"minorgridcolor\":\"white\",\"startlinecolor\":\"#2a3f5f\"},\"baxis\":{\"endlinecolor\":\"#2a3f5f\",\"gridcolor\":\"white\",\"linecolor\":\"white\",\"minorgridcolor\":\"white\",\"startlinecolor\":\"#2a3f5f\"},\"type\":\"carpet\"}],\"choropleth\":[{\"colorbar\":{\"outlinewidth\":0,\"ticks\":\"\"},\"type\":\"choropleth\"}],\"contour\":[{\"colorbar\":{\"outlinewidth\":0,\"ticks\":\"\"},\"colorscale\":[[0.0,\"#0d0887\"],[0.1111111111111111,\"#46039f\"],[0.2222222222222222,\"#7201a8\"],[0.3333333333333333,\"#9c179e\"],[0.4444444444444444,\"#bd3786\"],[0.5555555555555556,\"#d8576b\"],[0.6666666666666666,\"#ed7953\"],[0.7777777777777778,\"#fb9f3a\"],[0.8888888888888888,\"#fdca26\"],[1.0,\"#f0f921\"]],\"type\":\"contour\"}],\"contourcarpet\":[{\"colorbar\":{\"outlinewidth\":0,\"ticks\":\"\"},\"type\":\"contourcarpet\"}],\"heatmap\":[{\"colorbar\":{\"outlinewidth\":0,\"ticks\":\"\"},\"colorscale\":[[0.0,\"#0d0887\"],[0.1111111111111111,\"#46039f\"],[0.2222222222222222,\"#7201a8\"],[0.3333333333333333,\"#9c179e\"],[0.4444444444444444,\"#bd3786\"],[0.5555555555555556,\"#d8576b\"],[0.6666666666666666,\"#ed7953\"],[0.7777777777777778,\"#fb9f3a\"],[0.8888888888888888,\"#fdca26\"],[1.0,\"#f0f921\"]],\"type\":\"heatmap\"}],\"heatmapgl\":[{\"colorbar\":{\"outlinewidth\":0,\"ticks\":\"\"},\"colorscale\":[[0.0,\"#0d0887\"],[0.1111111111111111,\"#46039f\"],[0.2222222222222222,\"#7201a8\"],[0.3333333333333333,\"#9c179e\"],[0.4444444444444444,\"#bd3786\"],[0.5555555555555556,\"#d8576b\"],[0.6666666666666666,\"#ed7953\"],[0.7777777777777778,\"#fb9f3a\"],[0.8888888888888888,\"#fdca26\"],[1.0,\"#f0f921\"]],\"type\":\"heatmapgl\"}],\"histogram\":[{\"marker\":{\"pattern\":{\"fillmode\":\"overlay\",\"size\":10,\"solidity\":0.2}},\"type\":\"histogram\"}],\"histogram2d\":[{\"colorbar\":{\"outlinewidth\":0,\"ticks\":\"\"},\"colorscale\":[[0.0,\"#0d0887\"],[0.1111111111111111,\"#46039f\"],[0.2222222222222222,\"#7201a8\"],[0.3333333333333333,\"#9c179e\"],[0.4444444444444444,\"#bd3786\"],[0.5555555555555556,\"#d8576b\"],[0.6666666666666666,\"#ed7953\"],[0.7777777777777778,\"#fb9f3a\"],[0.8888888888888888,\"#fdca26\"],[1.0,\"#f0f921\"]],\"type\":\"histogram2d\"}],\"histogram2dcontour\":[{\"colorbar\":{\"outlinewidth\":0,\"ticks\":\"\"},\"colorscale\":[[0.0,\"#0d0887\"],[0.1111111111111111,\"#46039f\"],[0.2222222222222222,\"#7201a8\"],[0.3333333333333333,\"#9c179e\"],[0.4444444444444444,\"#bd3786\"],[0.5555555555555556,\"#d8576b\"],[0.6666666666666666,\"#ed7953\"],[0.7777777777777778,\"#fb9f3a\"],[0.8888888888888888,\"#fdca26\"],[1.0,\"#f0f921\"]],\"type\":\"histogram2dcontour\"}],\"mesh3d\":[{\"colorbar\":{\"outlinewidth\":0,\"ticks\":\"\"},\"type\":\"mesh3d\"}],\"parcoords\":[{\"line\":{\"colorbar\":{\"outlinewidth\":0,\"ticks\":\"\"}},\"type\":\"parcoords\"}],\"pie\":[{\"automargin\":true,\"type\":\"pie\"}],\"scatter\":[{\"marker\":{\"colorbar\":{\"outlinewidth\":0,\"ticks\":\"\"}},\"type\":\"scatter\"}],\"scatter3d\":[{\"line\":{\"colorbar\":{\"outlinewidth\":0,\"ticks\":\"\"}},\"marker\":{\"colorbar\":{\"outlinewidth\":0,\"ticks\":\"\"}},\"type\":\"scatter3d\"}],\"scattercarpet\":[{\"marker\":{\"colorbar\":{\"outlinewidth\":0,\"ticks\":\"\"}},\"type\":\"scattercarpet\"}],\"scattergeo\":[{\"marker\":{\"colorbar\":{\"outlinewidth\":0,\"ticks\":\"\"}},\"type\":\"scattergeo\"}],\"scattergl\":[{\"marker\":{\"colorbar\":{\"outlinewidth\":0,\"ticks\":\"\"}},\"type\":\"scattergl\"}],\"scattermapbox\":[{\"marker\":{\"colorbar\":{\"outlinewidth\":0,\"ticks\":\"\"}},\"type\":\"scattermapbox\"}],\"scatterpolar\":[{\"marker\":{\"colorbar\":{\"outlinewidth\":0,\"ticks\":\"\"}},\"type\":\"scatterpolar\"}],\"scatterpolargl\":[{\"marker\":{\"colorbar\":{\"outlinewidth\":0,\"ticks\":\"\"}},\"type\":\"scatterpolargl\"}],\"scatterternary\":[{\"marker\":{\"colorbar\":{\"outlinewidth\":0,\"ticks\":\"\"}},\"type\":\"scatterternary\"}],\"surface\":[{\"colorbar\":{\"outlinewidth\":0,\"ticks\":\"\"},\"colorscale\":[[0.0,\"#0d0887\"],[0.1111111111111111,\"#46039f\"],[0.2222222222222222,\"#7201a8\"],[0.3333333333333333,\"#9c179e\"],[0.4444444444444444,\"#bd3786\"],[0.5555555555555556,\"#d8576b\"],[0.6666666666666666,\"#ed7953\"],[0.7777777777777778,\"#fb9f3a\"],[0.8888888888888888,\"#fdca26\"],[1.0,\"#f0f921\"]],\"type\":\"surface\"}],\"table\":[{\"cells\":{\"fill\":{\"color\":\"#EBF0F8\"},\"line\":{\"color\":\"white\"}},\"header\":{\"fill\":{\"color\":\"#C8D4E3\"},\"line\":{\"color\":\"white\"}},\"type\":\"table\"}]},\"layout\":{\"annotationdefaults\":{\"arrowcolor\":\"#2a3f5f\",\"arrowhead\":0,\"arrowwidth\":1},\"autotypenumbers\":\"strict\",\"coloraxis\":{\"colorbar\":{\"outlinewidth\":0,\"ticks\":\"\"}},\"colorscale\":{\"diverging\":[[0,\"#8e0152\"],[0.1,\"#c51b7d\"],[0.2,\"#de77ae\"],[0.3,\"#f1b6da\"],[0.4,\"#fde0ef\"],[0.5,\"#f7f7f7\"],[0.6,\"#e6f5d0\"],[0.7,\"#b8e186\"],[0.8,\"#7fbc41\"],[0.9,\"#4d9221\"],[1,\"#276419\"]],\"sequential\":[[0.0,\"#0d0887\"],[0.1111111111111111,\"#46039f\"],[0.2222222222222222,\"#7201a8\"],[0.3333333333333333,\"#9c179e\"],[0.4444444444444444,\"#bd3786\"],[0.5555555555555556,\"#d8576b\"],[0.6666666666666666,\"#ed7953\"],[0.7777777777777778,\"#fb9f3a\"],[0.8888888888888888,\"#fdca26\"],[1.0,\"#f0f921\"]],\"sequentialminus\":[[0.0,\"#0d0887\"],[0.1111111111111111,\"#46039f\"],[0.2222222222222222,\"#7201a8\"],[0.3333333333333333,\"#9c179e\"],[0.4444444444444444,\"#bd3786\"],[0.5555555555555556,\"#d8576b\"],[0.6666666666666666,\"#ed7953\"],[0.7777777777777778,\"#fb9f3a\"],[0.8888888888888888,\"#fdca26\"],[1.0,\"#f0f921\"]]},\"colorway\":[\"#636efa\",\"#EF553B\",\"#00cc96\",\"#ab63fa\",\"#FFA15A\",\"#19d3f3\",\"#FF6692\",\"#B6E880\",\"#FF97FF\",\"#FECB52\"],\"font\":{\"color\":\"#2a3f5f\"},\"geo\":{\"bgcolor\":\"white\",\"lakecolor\":\"white\",\"landcolor\":\"#E5ECF6\",\"showlakes\":true,\"showland\":true,\"subunitcolor\":\"white\"},\"hoverlabel\":{\"align\":\"left\"},\"hovermode\":\"closest\",\"mapbox\":{\"style\":\"light\"},\"paper_bgcolor\":\"white\",\"plot_bgcolor\":\"#E5ECF6\",\"polar\":{\"angularaxis\":{\"gridcolor\":\"white\",\"linecolor\":\"white\",\"ticks\":\"\"},\"bgcolor\":\"#E5ECF6\",\"radialaxis\":{\"gridcolor\":\"white\",\"linecolor\":\"white\",\"ticks\":\"\"}},\"scene\":{\"xaxis\":{\"backgroundcolor\":\"#E5ECF6\",\"gridcolor\":\"white\",\"gridwidth\":2,\"linecolor\":\"white\",\"showbackground\":true,\"ticks\":\"\",\"zerolinecolor\":\"white\"},\"yaxis\":{\"backgroundcolor\":\"#E5ECF6\",\"gridcolor\":\"white\",\"gridwidth\":2,\"linecolor\":\"white\",\"showbackground\":true,\"ticks\":\"\",\"zerolinecolor\":\"white\"},\"zaxis\":{\"backgroundcolor\":\"#E5ECF6\",\"gridcolor\":\"white\",\"gridwidth\":2,\"linecolor\":\"white\",\"showbackground\":true,\"ticks\":\"\",\"zerolinecolor\":\"white\"}},\"shapedefaults\":{\"line\":{\"color\":\"#2a3f5f\"}},\"ternary\":{\"aaxis\":{\"gridcolor\":\"white\",\"linecolor\":\"white\",\"ticks\":\"\"},\"baxis\":{\"gridcolor\":\"white\",\"linecolor\":\"white\",\"ticks\":\"\"},\"bgcolor\":\"#E5ECF6\",\"caxis\":{\"gridcolor\":\"white\",\"linecolor\":\"white\",\"ticks\":\"\"}},\"title\":{\"x\":0.05},\"xaxis\":{\"automargin\":true,\"gridcolor\":\"white\",\"linecolor\":\"white\",\"ticks\":\"\",\"title\":{\"standoff\":15},\"zerolinecolor\":\"white\",\"zerolinewidth\":2},\"yaxis\":{\"automargin\":true,\"gridcolor\":\"white\",\"linecolor\":\"white\",\"ticks\":\"\",\"title\":{\"standoff\":15},\"zerolinecolor\":\"white\",\"zerolinewidth\":2}}},\"xaxis\":{\"anchor\":\"y\",\"domain\":[0.0,1.0],\"title\":{\"text\":\"coef\"}},\"yaxis\":{\"anchor\":\"x\",\"domain\":[0.0,1.0],\"title\":{\"text\":\"m/z\"}},\"legend\":{\"tracegroupgap\":0},\"margin\":{\"t\":60},\"barmode\":\"relative\"},                        {\"responsive\": true}                    ).then(function(){\n",
       "                            \n",
       "var gd = document.getElementById('dfbcfa2b-03a3-4833-831d-0b59bada7a8b');\n",
       "var x = new MutationObserver(function (mutations, observer) {{\n",
       "        var display = window.getComputedStyle(gd).display;\n",
       "        if (!display || display === 'none') {{\n",
       "            console.log([gd, 'removed!']);\n",
       "            Plotly.purge(gd);\n",
       "            observer.disconnect();\n",
       "        }}\n",
       "}});\n",
       "\n",
       "// Listen for the removal of the full notebook cells\n",
       "var notebookContainer = gd.closest('#notebook-container');\n",
       "if (notebookContainer) {{\n",
       "    x.observe(notebookContainer, {childList: true});\n",
       "}}\n",
       "\n",
       "// Listen for the clearing of the current output cell\n",
       "var outputEl = gd.closest('.output');\n",
       "if (outputEl) {{\n",
       "    x.observe(outputEl, {childList: true});\n",
       "}}\n",
       "\n",
       "                        })                };                });            </script>        </div>"
      ]
     },
     "metadata": {},
     "output_type": "display_data"
    }
   ],
   "source": [
    "coeff_LogReg, TOPfeatures_LogReg = LogisticRegression_func()"
   ]
  },
  {
   "cell_type": "code",
   "execution_count": 187,
   "id": "88f68e64",
   "metadata": {},
   "outputs": [],
   "source": [
    "## Build XGBoost Model\n",
    "import xgboost as xgb\n",
    "\n",
    "\n",
    "def XGBoost_func(XTrain=X_train, XVal=X_val, XTest=X_FNA, yTrain=y_train, yVal=y_val, yTest=y_FNA):\n",
    "\n",
    "    model_xgb = xgb.XGBClassifier(\n",
    "        base_score = 0.5, \n",
    "        booster = 'gbtree', \n",
    "        colsample_bylevel = 1, \n",
    "        colsample_bynode = 1, \n",
    "        colsample_bytree = 1, \n",
    "        enable_categorical = False, \n",
    "        eval_metric = 'auc', \n",
    "        gamma = 0, \n",
    "        gpu_id = -1, \n",
    "        grow_policy = 'lossguide', \n",
    "        importance_type = None, \n",
    "        learning_rate = 25, \n",
    "        max_bin = 256, \n",
    "        max_cat_to_onehot = 4, \n",
    "        max_delta_step = 0, \n",
    "        max_depth = 6, \n",
    "        max_leaves = 0, \n",
    "        min_child_weight = 1, \n",
    "        #missing = nan, \n",
    "        monotone_constraints = '()', \n",
    "        n_estimators = 25, \n",
    "        n_jobs = 0, \n",
    "        num_parallel_tree = 1, \n",
    "        objective = 'binary:hinge', \n",
    "        predictor = 'auto', \n",
    "        random_state = 0, \n",
    "        reg_alpha = 0, \n",
    "        reg_lambda = 1, \n",
    "        sampling_method = 'uniform', \n",
    "        scale_pos_weight = None, \n",
    "        subsample = 1, \n",
    "        tree_method = 'hist', \n",
    "        use_label_encoder = False, \n",
    "        validate_parameters = 1, \n",
    "        verbosity = None, \n",
    "        early_stopping_rounds = 10)\n",
    "\n",
    "    model_xgb.fit(XTrain, yTrain, \n",
    "                  eval_set=[(XTrain, yTrain), (XTest, yTest)])\n",
    "    \n",
    "    # Training Set\n",
    "    #plt.rcParams[\"figure.figsize\"] = (3,3)\n",
    "    X_train_predictions = model_xgb.predict(XTrain)\n",
    "    print(\"Training Set F1:\", f1_score(yTrain, model_xgb.predict(XTrain), sample_weight=sampleW))\n",
    "    print(\"Training Set MCC:\", matthews_corrcoef(yTrain, model_xgb.predict(X_train), sample_weight=sampleW))\n",
    "    print(\"Training Set Accuracy:\", metrics.accuracy_score(yTrain, X_train_predictions))\n",
    "    print(classification_report(yTrain, X_train_predictions))\n",
    "    print(confusion_matrix(yTrain, X_train_predictions))\n",
    "\n",
    "    #create ROC curve\n",
    "    plt.subplots(dpi = 300)\n",
    "    fpr, tpr, _ = metrics.roc_curve(yTrain, X_train_predictions)\n",
    "    plt.plot(fpr,tpr)\n",
    "    plt.ylabel('True Positive Rate', fontsize=18)\n",
    "    plt.xlabel('False Positive Rate', fontsize=18)\n",
    "    plt.xticks(fontsize=16)\n",
    "    plt.yticks(fontsize=16)\n",
    "    #plt.rcParams['figure.figsize'] = [2, 2]\n",
    "    #plt.savefig(r\"H:/3_2_Output_raMSI_DataIngestion_DESIQE_12F/XGB_FNA/LogReg_ROC_train.tif\", bbox_inches = 'tight')\n",
    "    #plt.show()\n",
    "\n",
    "    # Val set\n",
    "    predictions_val  = model_xgb.predict(XVal)\n",
    "    print(\"Ext Val Set F1:\", f1_score(yVal, model_xgb.predict(XVal), sample_weight=sampleExtW))\n",
    "    print(\"Ext Val Set MCC:\", matthews_corrcoef(yVal, model_xgb.predict(XVal), sample_weight=sampleExtW))\n",
    "    print(\"Ext Val Set Accuracy:\",metrics.accuracy_score(yVal, predictions_val))\n",
    "    print(classification_report(yVal, predictions_val))\n",
    "    print(confusion_matrix(yVal, predictions_val))\n",
    "\n",
    "    #create ROC curve\n",
    "    plt.subplots(dpi = 300)\n",
    "    fpr_val, tpr_val, _ = metrics.roc_curve(yVal, predictions_val)\n",
    "    plt.plot(fpr_val,tpr_val)\n",
    "    plt.ylabel('True Positive Rate', fontsize=18)\n",
    "    plt.xlabel('False Positive Rate', fontsize=18)\n",
    "    plt.xticks(fontsize=16)\n",
    "    plt.yticks(fontsize=16)\n",
    "    #plt.rcParams['figure.figsize'] = [2, 2]\n",
    "    #plt.savefig(r\"H:/3_2_Output_raMSI_DataIngestion_DESIQE_12F/XGB_FNA/LogReg_ROC_test.tif\", bbox_inches = 'tight')\n",
    "    #plt.show()\n",
    "    \n",
    "    f1_10_train = cross_val_score(model_xgb, XTrain, yTrain, cv = 3, scoring=f1)\n",
    "    print(\"3F-CV:\", avgScore(f1_10_train, 3))\n",
    "    \n",
    "    # Test set\n",
    "    predictions_FNA = model_xgb.predict(XTest)\n",
    "    print(\"FNA Set F1:\", f1_score(yTest, model_xgb.predict(XTest), sample_weight=sampleFNAW))\n",
    "    print(\"FNA Set MCC:\", matthews_corrcoef(yTest, model_xgb.predict(XTest), sample_weight=sampleFNAW))\n",
    "    print(\"FNA Set Recall:\", recall_score(yTest, model_xgb.predict(XTest)))\n",
    "    print(\"FNA Test Set Accuracy:\",metrics.accuracy_score(yTest, predictions_FNA))\n",
    "    print(classification_report(yTest, predictions_FNA))\n",
    "    print(confusion_matrix(yTest, predictions_FNA))\n",
    "\n",
    "    #create ROC curve\n",
    "    plt.subplots(dpi = 300)\n",
    "    fpr_FNA, tpr_FNA, _ = metrics.roc_curve(yTest, predictions_FNA)\n",
    "    plt.plot(fpr_FNA,tpr_FNA)\n",
    "    plt.ylabel('True Positive Rate', fontsize=18)\n",
    "    plt.xlabel('False Positive Rate', fontsize=18)\n",
    "    plt.xticks(fontsize=16)\n",
    "    plt.yticks(fontsize=16)\n",
    "    #plt.rcParams['figure.figsize'] = [2, 2]\n",
    "    #plt.savefig(r\"G:/raMSIn/XGB_Importance2/XGB2_ROC_FNAtest2.tif\", bbox_inches = 'tight')\n",
    "    #plt.show()\n",
    "    \n",
    "    # Visualize the importantance of the features\n",
    "    feature_imp = pd.Series(model_xgb.feature_importances_, index=XTrain.columns).sort_values(ascending=False)\n",
    "    x=feature_imp\n",
    "    y=feature_imp.index\n",
    "    \n",
    "    plt.subplots(dpi = 300)\n",
    "    #plt.rcParams[\"figure.figsize\"] = [4, 6]\n",
    "    #plt.rcParams[\"font.family\"] = \"Arial\"\n",
    "    #plt.rcParams.update({'font.size': 6})\n",
    "    plt.xlabel('Feature Importance Score', fontproperties='Arial', fontsize=17)\n",
    "    plt.ylabel('Features', fontproperties='Arial', fontsize=17)\n",
    "    plt.xticks(fontsize=15)\n",
    "    plt.yticks(fontsize=15)\n",
    "    plt.title(\"Important Molecular Features\", fontproperties='Arial', fontsize=20)\n",
    "    sns.barplot(x=feature_imp, y=feature_imp.index)\n",
    "    #plt.savefig(r\"H:/3_2_Output_raMSI_DataIngestion_DESIQE_12F/XGB_FNA/XGB_TopFeatures.tif\", bbox_inches = 'tight')\n",
    "    #plt.show()\n",
    "\n",
    "    # Visualize the boxplot of the important features between the two groups\n",
    "    #fig = px.box(data_frame = df_ROI_for_ML_Opti,x = feature_imp[:20].index,color= 'type')\n",
    "    #fig.show()\n",
    "    \n",
    "    return x, y"
   ]
  },
  {
   "cell_type": "code",
   "execution_count": 188,
   "id": "90420725",
   "metadata": {
    "scrolled": true
   },
   "outputs": [
    {
     "name": "stdout",
     "output_type": "stream",
     "text": [
      "[0]\tvalidation_0-auc:0.97433\tvalidation_1-auc:0.52106\n",
      "[1]\tvalidation_0-auc:0.94550\tvalidation_1-auc:0.57293\n",
      "[2]\tvalidation_0-auc:0.97193\tvalidation_1-auc:0.45906\n",
      "[3]\tvalidation_0-auc:0.96485\tvalidation_1-auc:0.56072\n",
      "[4]\tvalidation_0-auc:0.97913\tvalidation_1-auc:0.47383\n",
      "[5]\tvalidation_0-auc:0.97581\tvalidation_1-auc:0.58594\n",
      "[6]\tvalidation_0-auc:0.98196\tvalidation_1-auc:0.50860\n",
      "[7]\tvalidation_0-auc:0.98232\tvalidation_1-auc:0.58844\n",
      "[8]\tvalidation_0-auc:0.98371\tvalidation_1-auc:0.51337\n",
      "[9]\tvalidation_0-auc:0.98334\tvalidation_1-auc:0.56537\n",
      "[10]\tvalidation_0-auc:0.98450\tvalidation_1-auc:0.49807\n",
      "[11]\tvalidation_0-auc:0.98360\tvalidation_1-auc:0.53236\n",
      "[12]\tvalidation_0-auc:0.98475\tvalidation_1-auc:0.48785\n",
      "[13]\tvalidation_0-auc:0.98375\tvalidation_1-auc:0.53516\n",
      "[14]\tvalidation_0-auc:0.98653\tvalidation_1-auc:0.47759\n",
      "[15]\tvalidation_0-auc:0.98397\tvalidation_1-auc:0.53477\n",
      "[16]\tvalidation_0-auc:0.98677\tvalidation_1-auc:0.46869\n",
      "Training Set F1: 0.9825136247859996\n",
      "Training Set MCC: 0.9648746379975889\n",
      "Training Set Accuracy: 0.9818491644678979\n",
      "              precision    recall  f1-score   support\n",
      "\n",
      "           0       0.99      0.97      0.98     47449\n",
      "           1       0.97      0.99      0.98     43511\n",
      "\n",
      "    accuracy                           0.98     90960\n",
      "   macro avg       0.98      0.98      0.98     90960\n",
      "weighted avg       0.98      0.98      0.98     90960\n",
      "\n",
      "[[46092  1357]\n",
      " [  294 43217]]\n",
      "Ext Val Set F1: 0.7495467166855272\n",
      "Ext Val Set MCC: 0.470561062738503\n",
      "Ext Val Set Accuracy: 0.7353086419753087\n",
      "              precision    recall  f1-score   support\n",
      "\n",
      "           0       0.76      0.67      0.71      2943\n",
      "           1       0.72      0.80      0.76      3132\n",
      "\n",
      "    accuracy                           0.74      6075\n",
      "   macro avg       0.74      0.73      0.73      6075\n",
      "weighted avg       0.74      0.74      0.73      6075\n",
      "\n",
      "[[1967  976]\n",
      " [ 632 2500]]\n",
      "3F-CV: nan\n",
      "FNA Set F1: 0.6816584108470956\n",
      "FNA Set MCC: 0.21819994211446583\n",
      "FNA Set Recall: 0.881230044609497\n",
      "FNA Test Set Accuracy: 0.5871861647557525\n",
      "              precision    recall  f1-score   support\n",
      "\n",
      "           0       0.72      0.30      0.42     44540\n",
      "           1       0.55      0.88      0.68     44161\n",
      "\n",
      "    accuracy                           0.59     88701\n",
      "   macro avg       0.63      0.59      0.55     88701\n",
      "weighted avg       0.63      0.59      0.55     88701\n",
      "\n",
      "[[13168 31372]\n",
      " [ 5245 38916]]\n"
     ]
    }
   ],
   "source": [
    "coeff_XGB, TOPfeatures_XGB = XGBoost_func()"
   ]
  },
  {
   "cell_type": "code",
   "execution_count": null,
   "id": "77d31b0f",
   "metadata": {},
   "outputs": [],
   "source": []
  },
  {
   "cell_type": "markdown",
   "id": "a08fd62e",
   "metadata": {},
   "source": [
    "## 3.4 Machine Learning Modeling: Model 2 (Train 4:4, Val 6:6, Test 3:3)"
   ]
  },
  {
   "cell_type": "code",
   "execution_count": 193,
   "id": "99086aec",
   "metadata": {},
   "outputs": [],
   "source": [
    "## Build Logistic Regression Model\n",
    "from sklearn.linear_model import LogisticRegression\n",
    "\n",
    "def LogisticRegression_func(XTrain=X_val, XVal=X_train, XTest=X_FNA, yTrain=y_val, yVal=y_train, yTest=y_FNA):\n",
    "    model_lr = LogisticRegression(C=0.0005, penalty='l1', solver=\"liblinear\", max_iter=5000, random_state=42, class_weight={0:0.9628, 1:1.0402})  # max_iter=100\n",
    "    model_lr.fit(XTrain,yTrain)\n",
    "    \n",
    "    # Training Set\n",
    "    #plt.rcParams[\"figure.figsize\"] = (3,3)\n",
    "    X_train_predictions = model_lr.predict(XVal)\n",
    "    print(\"Training Set F1:\", f1_score(yVal, model_lr.predict(XVal), sample_weight=sampleW))\n",
    "    print(\"Training Set MCC:\", matthews_corrcoef(yVal, model_lr.predict(XVal), sample_weight=sampleW))\n",
    "    print(\"Training Set Accuracy:\", metrics.accuracy_score(yVal, X_train_predictions))\n",
    "    print(classification_report(yVal, X_train_predictions))\n",
    "    print(confusion_matrix(yVal, X_train_predictions))\n",
    "\n",
    "    #create ROC curve\n",
    "    plt.subplots(dpi = 300)\n",
    "    fpr, tpr, _ = metrics.roc_curve(yVal, X_train_predictions)\n",
    "    plt.plot(fpr,tpr)\n",
    "    plt.ylabel('True Positive Rate', fontsize=18)\n",
    "    plt.xlabel('False Positive Rate', fontsize=18)\n",
    "    plt.xticks(fontsize=16)\n",
    "    plt.yticks(fontsize=16)\n",
    "    #plt.rcParams['figure.figsize'] = [2, 2]\n",
    "    #plt.savefig(r\"H:/3_2_Output_raMSI_DataIngestion_DESIQE_12F/XGB_FNA/LogReg_ROC_train.tif\", bbox_inches = 'tight')\n",
    "    #plt.show()\n",
    "\n",
    "    # Val set\n",
    "    predictions_val  = model_lr.predict(XTrain)\n",
    "    print(\"Ext Val Set F1:\", f1_score(yTrain, model_lr.predict(XTrain), sample_weight=sampleExtW))\n",
    "    print(\"Ext Val Set MCC:\", matthews_corrcoef(yTrain, model_lr.predict(XTrain), sample_weight=sampleExtW))\n",
    "    print(\"Ext Val Set Accuracy:\",metrics.accuracy_score(yTrain, predictions_val))\n",
    "    print(classification_report(yTrain, predictions_val))\n",
    "    print(confusion_matrix(yTrain, predictions_val))\n",
    "\n",
    "    #create ROC curve\n",
    "    plt.subplots(dpi = 300)\n",
    "    fpr_val, tpr_val, _ = metrics.roc_curve(yTrain, predictions_val)\n",
    "    plt.plot(fpr_val,tpr_val)\n",
    "    plt.ylabel('True Positive Rate', fontsize=18)\n",
    "    plt.xlabel('False Positive Rate', fontsize=18)\n",
    "    plt.xticks(fontsize=16)\n",
    "    plt.yticks(fontsize=16)\n",
    "    #plt.rcParams['figure.figsize'] = [2, 2]\n",
    "    #plt.savefig(r\"H:/3_2_Output_raMSI_DataIngestion_DESIQE_12F/XGB_FNA/LogReg_ROC_test.tif\", bbox_inches = 'tight')\n",
    "    #plt.show()\n",
    "    \n",
    "    f1_10_train = cross_val_score(model_lr, XTrain, yTrain, cv = 3, scoring=f1)\n",
    "    print(\"3F-CV:\", avgScore(f1_10_train, 3))\n",
    "    \n",
    "    # Test set\n",
    "    predictions_FNA = model_lr.predict(XTest)\n",
    "    print(\"FNA Set F1:\", f1_score(yTest, model_lr.predict(XTest), sample_weight=sampleFNAW))\n",
    "    print(\"FNA Set MCC:\", matthews_corrcoef(yTest, model_lr.predict(XTest), sample_weight=sampleFNAW))\n",
    "    print(\"FNA Set Recall:\", recall_score(yTest, model_lr.predict(XTest)))\n",
    "    print(\"FNA Test Set Accuracy:\",metrics.accuracy_score(yTest, predictions_FNA))\n",
    "    print(classification_report(yTest, predictions_FNA))\n",
    "    print(confusion_matrix(yTest, predictions_FNA))\n",
    "\n",
    "    #create ROC curve\n",
    "    plt.subplots(dpi = 300)\n",
    "    fpr_FNA, tpr_FNA, _ = metrics.roc_curve(yTest, predictions_FNA)\n",
    "    plt.plot(fpr_FNA,tpr_FNA)\n",
    "    plt.ylabel('True Positive Rate', fontsize=18)\n",
    "    plt.xlabel('False Positive Rate', fontsize=18)\n",
    "    plt.xticks(fontsize=16)\n",
    "    plt.yticks(fontsize=16)\n",
    "    #plt.rcParams['figure.figsize'] = [2, 2]\n",
    "    #plt.savefig(r\"G:/raMSIn/XGB_Importance2/XGB2_ROC_FNAtest2.tif\", bbox_inches = 'tight')\n",
    "    #plt.show()\n",
    "    \n",
    "    # Visualize the importantance of the features\n",
    "    feature_imp = pd.Series(model_lr.coef_[0], index=XTrain.columns).sort_values(ascending=False)\n",
    "    x=feature_imp\n",
    "    y=feature_imp.index\n",
    "    \n",
    "    plt.subplots(dpi = 300)\n",
    "    #plt.rcParams[\"figure.figsize\"] = [4, 6]\n",
    "    #plt.rcParams[\"font.family\"] = \"Arial\"\n",
    "    #plt.rcParams.update({'font.size': 6})\n",
    "    plt.xlabel('Feature Importance Score', fontproperties='Arial', fontsize=17)\n",
    "    plt.ylabel('Features', fontproperties='Arial', fontsize=17)\n",
    "    plt.xticks(fontsize=15)\n",
    "    plt.yticks(fontsize=15)\n",
    "    plt.title(\"Important Molecular Features\", fontproperties='Arial', fontsize=20)\n",
    "    sns.barplot(x=feature_imp, y=feature_imp.index)\n",
    "    #plt.savefig(r\"H:/3_2_Output_raMSI_DataIngestion_DESIQE_12F/XGB_FNA/LogReg_TopFeatures.tif\", bbox_inches = 'tight')\n",
    "    #plt.show()\n",
    "    \n",
    "    feature_importances = model_lr.coef_[0]\n",
    "    feature_df=pd.DataFrame({'m/z':XTrain.columns,'coef':feature_importances})\n",
    "\n",
    "    fig = px.bar(feature_df, x='coef', y='m/z')\n",
    "    fig.show()\n",
    "    \n",
    "    return x, y"
   ]
  },
  {
   "cell_type": "code",
   "execution_count": 194,
   "id": "ff504fe8",
   "metadata": {
    "scrolled": true
   },
   "outputs": [
    {
     "name": "stdout",
     "output_type": "stream",
     "text": [
      "Training Set F1: 0.0\n",
      "Training Set MCC: 0.0\n",
      "Training Set Accuracy: 0.5216468777484609\n",
      "              precision    recall  f1-score   support\n",
      "\n",
      "           0       0.52      1.00      0.69     47449\n",
      "           1       0.00      0.00      0.00     43511\n",
      "\n",
      "    accuracy                           0.52     90960\n",
      "   macro avg       0.26      0.50      0.34     90960\n",
      "weighted avg       0.27      0.52      0.36     90960\n",
      "\n",
      "[[47449     0]\n",
      " [43511     0]]\n",
      "Ext Val Set F1: 0.0\n",
      "Ext Val Set MCC: 0.0\n",
      "Ext Val Set Accuracy: 0.48444444444444446\n",
      "              precision    recall  f1-score   support\n",
      "\n",
      "           0       0.48      1.00      0.65      2943\n",
      "           1       0.00      0.00      0.00      3132\n",
      "\n",
      "    accuracy                           0.48      6075\n",
      "   macro avg       0.24      0.50      0.33      6075\n",
      "weighted avg       0.23      0.48      0.32      6075\n",
      "\n",
      "[[2943    0]\n",
      " [3132    0]]\n",
      "3F-CV: 0.0\n",
      "FNA Set F1: 0.0\n",
      "FNA Set MCC: 0.0\n",
      "FNA Set Recall: 0.0\n",
      "FNA Test Set Accuracy: 0.5021363907960451\n",
      "              precision    recall  f1-score   support\n",
      "\n",
      "           0       0.50      1.00      0.67     44540\n",
      "           1       0.00      0.00      0.00     44161\n",
      "\n",
      "    accuracy                           0.50     88701\n",
      "   macro avg       0.25      0.50      0.33     88701\n",
      "weighted avg       0.25      0.50      0.34     88701\n",
      "\n",
      "[[44540     0]\n",
      " [44161     0]]\n"
     ]
    },
    {
     "data": {
      "application/vnd.plotly.v1+json": {
       "config": {
        "plotlyServerURL": "https://plot.ly"
       },
       "data": [
        {
         "alignmentgroup": "True",
         "hovertemplate": "coef=%{x}<br>m/z=%{y}<extra></extra>",
         "legendgroup": "",
         "marker": {
          "color": "#636efa",
          "pattern": {
           "shape": ""
          }
         },
         "name": "",
         "offsetgroup": "",
         "orientation": "h",
         "showlegend": false,
         "textposition": "auto",
         "type": "bar",
         "x": [
          0,
          0,
          0,
          0,
          0,
          0,
          0,
          0,
          0,
          0,
          0,
          0,
          0,
          0,
          0,
          0,
          0,
          0
         ],
         "xaxis": "x",
         "y": [
          "869.7241",
          "909.5496",
          "269.2486",
          "736.6464",
          "535.4734",
          "559.4732",
          "609.5114",
          "682.5922",
          "846.5858",
          "633.5108",
          "445.3172",
          "683.5948",
          "269.0878",
          "215.0328",
          "283.255",
          "671.4661",
          "610.5128",
          "175.0246"
         ],
         "yaxis": "y"
        }
       ],
       "layout": {
        "barmode": "relative",
        "legend": {
         "tracegroupgap": 0
        },
        "margin": {
         "t": 60
        },
        "template": {
         "data": {
          "bar": [
           {
            "error_x": {
             "color": "#2a3f5f"
            },
            "error_y": {
             "color": "#2a3f5f"
            },
            "marker": {
             "line": {
              "color": "#E5ECF6",
              "width": 0.5
             },
             "pattern": {
              "fillmode": "overlay",
              "size": 10,
              "solidity": 0.2
             }
            },
            "type": "bar"
           }
          ],
          "barpolar": [
           {
            "marker": {
             "line": {
              "color": "#E5ECF6",
              "width": 0.5
             },
             "pattern": {
              "fillmode": "overlay",
              "size": 10,
              "solidity": 0.2
             }
            },
            "type": "barpolar"
           }
          ],
          "carpet": [
           {
            "aaxis": {
             "endlinecolor": "#2a3f5f",
             "gridcolor": "white",
             "linecolor": "white",
             "minorgridcolor": "white",
             "startlinecolor": "#2a3f5f"
            },
            "baxis": {
             "endlinecolor": "#2a3f5f",
             "gridcolor": "white",
             "linecolor": "white",
             "minorgridcolor": "white",
             "startlinecolor": "#2a3f5f"
            },
            "type": "carpet"
           }
          ],
          "choropleth": [
           {
            "colorbar": {
             "outlinewidth": 0,
             "ticks": ""
            },
            "type": "choropleth"
           }
          ],
          "contour": [
           {
            "colorbar": {
             "outlinewidth": 0,
             "ticks": ""
            },
            "colorscale": [
             [
              0,
              "#0d0887"
             ],
             [
              0.1111111111111111,
              "#46039f"
             ],
             [
              0.2222222222222222,
              "#7201a8"
             ],
             [
              0.3333333333333333,
              "#9c179e"
             ],
             [
              0.4444444444444444,
              "#bd3786"
             ],
             [
              0.5555555555555556,
              "#d8576b"
             ],
             [
              0.6666666666666666,
              "#ed7953"
             ],
             [
              0.7777777777777778,
              "#fb9f3a"
             ],
             [
              0.8888888888888888,
              "#fdca26"
             ],
             [
              1,
              "#f0f921"
             ]
            ],
            "type": "contour"
           }
          ],
          "contourcarpet": [
           {
            "colorbar": {
             "outlinewidth": 0,
             "ticks": ""
            },
            "type": "contourcarpet"
           }
          ],
          "heatmap": [
           {
            "colorbar": {
             "outlinewidth": 0,
             "ticks": ""
            },
            "colorscale": [
             [
              0,
              "#0d0887"
             ],
             [
              0.1111111111111111,
              "#46039f"
             ],
             [
              0.2222222222222222,
              "#7201a8"
             ],
             [
              0.3333333333333333,
              "#9c179e"
             ],
             [
              0.4444444444444444,
              "#bd3786"
             ],
             [
              0.5555555555555556,
              "#d8576b"
             ],
             [
              0.6666666666666666,
              "#ed7953"
             ],
             [
              0.7777777777777778,
              "#fb9f3a"
             ],
             [
              0.8888888888888888,
              "#fdca26"
             ],
             [
              1,
              "#f0f921"
             ]
            ],
            "type": "heatmap"
           }
          ],
          "heatmapgl": [
           {
            "colorbar": {
             "outlinewidth": 0,
             "ticks": ""
            },
            "colorscale": [
             [
              0,
              "#0d0887"
             ],
             [
              0.1111111111111111,
              "#46039f"
             ],
             [
              0.2222222222222222,
              "#7201a8"
             ],
             [
              0.3333333333333333,
              "#9c179e"
             ],
             [
              0.4444444444444444,
              "#bd3786"
             ],
             [
              0.5555555555555556,
              "#d8576b"
             ],
             [
              0.6666666666666666,
              "#ed7953"
             ],
             [
              0.7777777777777778,
              "#fb9f3a"
             ],
             [
              0.8888888888888888,
              "#fdca26"
             ],
             [
              1,
              "#f0f921"
             ]
            ],
            "type": "heatmapgl"
           }
          ],
          "histogram": [
           {
            "marker": {
             "pattern": {
              "fillmode": "overlay",
              "size": 10,
              "solidity": 0.2
             }
            },
            "type": "histogram"
           }
          ],
          "histogram2d": [
           {
            "colorbar": {
             "outlinewidth": 0,
             "ticks": ""
            },
            "colorscale": [
             [
              0,
              "#0d0887"
             ],
             [
              0.1111111111111111,
              "#46039f"
             ],
             [
              0.2222222222222222,
              "#7201a8"
             ],
             [
              0.3333333333333333,
              "#9c179e"
             ],
             [
              0.4444444444444444,
              "#bd3786"
             ],
             [
              0.5555555555555556,
              "#d8576b"
             ],
             [
              0.6666666666666666,
              "#ed7953"
             ],
             [
              0.7777777777777778,
              "#fb9f3a"
             ],
             [
              0.8888888888888888,
              "#fdca26"
             ],
             [
              1,
              "#f0f921"
             ]
            ],
            "type": "histogram2d"
           }
          ],
          "histogram2dcontour": [
           {
            "colorbar": {
             "outlinewidth": 0,
             "ticks": ""
            },
            "colorscale": [
             [
              0,
              "#0d0887"
             ],
             [
              0.1111111111111111,
              "#46039f"
             ],
             [
              0.2222222222222222,
              "#7201a8"
             ],
             [
              0.3333333333333333,
              "#9c179e"
             ],
             [
              0.4444444444444444,
              "#bd3786"
             ],
             [
              0.5555555555555556,
              "#d8576b"
             ],
             [
              0.6666666666666666,
              "#ed7953"
             ],
             [
              0.7777777777777778,
              "#fb9f3a"
             ],
             [
              0.8888888888888888,
              "#fdca26"
             ],
             [
              1,
              "#f0f921"
             ]
            ],
            "type": "histogram2dcontour"
           }
          ],
          "mesh3d": [
           {
            "colorbar": {
             "outlinewidth": 0,
             "ticks": ""
            },
            "type": "mesh3d"
           }
          ],
          "parcoords": [
           {
            "line": {
             "colorbar": {
              "outlinewidth": 0,
              "ticks": ""
             }
            },
            "type": "parcoords"
           }
          ],
          "pie": [
           {
            "automargin": true,
            "type": "pie"
           }
          ],
          "scatter": [
           {
            "marker": {
             "colorbar": {
              "outlinewidth": 0,
              "ticks": ""
             }
            },
            "type": "scatter"
           }
          ],
          "scatter3d": [
           {
            "line": {
             "colorbar": {
              "outlinewidth": 0,
              "ticks": ""
             }
            },
            "marker": {
             "colorbar": {
              "outlinewidth": 0,
              "ticks": ""
             }
            },
            "type": "scatter3d"
           }
          ],
          "scattercarpet": [
           {
            "marker": {
             "colorbar": {
              "outlinewidth": 0,
              "ticks": ""
             }
            },
            "type": "scattercarpet"
           }
          ],
          "scattergeo": [
           {
            "marker": {
             "colorbar": {
              "outlinewidth": 0,
              "ticks": ""
             }
            },
            "type": "scattergeo"
           }
          ],
          "scattergl": [
           {
            "marker": {
             "colorbar": {
              "outlinewidth": 0,
              "ticks": ""
             }
            },
            "type": "scattergl"
           }
          ],
          "scattermapbox": [
           {
            "marker": {
             "colorbar": {
              "outlinewidth": 0,
              "ticks": ""
             }
            },
            "type": "scattermapbox"
           }
          ],
          "scatterpolar": [
           {
            "marker": {
             "colorbar": {
              "outlinewidth": 0,
              "ticks": ""
             }
            },
            "type": "scatterpolar"
           }
          ],
          "scatterpolargl": [
           {
            "marker": {
             "colorbar": {
              "outlinewidth": 0,
              "ticks": ""
             }
            },
            "type": "scatterpolargl"
           }
          ],
          "scatterternary": [
           {
            "marker": {
             "colorbar": {
              "outlinewidth": 0,
              "ticks": ""
             }
            },
            "type": "scatterternary"
           }
          ],
          "surface": [
           {
            "colorbar": {
             "outlinewidth": 0,
             "ticks": ""
            },
            "colorscale": [
             [
              0,
              "#0d0887"
             ],
             [
              0.1111111111111111,
              "#46039f"
             ],
             [
              0.2222222222222222,
              "#7201a8"
             ],
             [
              0.3333333333333333,
              "#9c179e"
             ],
             [
              0.4444444444444444,
              "#bd3786"
             ],
             [
              0.5555555555555556,
              "#d8576b"
             ],
             [
              0.6666666666666666,
              "#ed7953"
             ],
             [
              0.7777777777777778,
              "#fb9f3a"
             ],
             [
              0.8888888888888888,
              "#fdca26"
             ],
             [
              1,
              "#f0f921"
             ]
            ],
            "type": "surface"
           }
          ],
          "table": [
           {
            "cells": {
             "fill": {
              "color": "#EBF0F8"
             },
             "line": {
              "color": "white"
             }
            },
            "header": {
             "fill": {
              "color": "#C8D4E3"
             },
             "line": {
              "color": "white"
             }
            },
            "type": "table"
           }
          ]
         },
         "layout": {
          "annotationdefaults": {
           "arrowcolor": "#2a3f5f",
           "arrowhead": 0,
           "arrowwidth": 1
          },
          "autotypenumbers": "strict",
          "coloraxis": {
           "colorbar": {
            "outlinewidth": 0,
            "ticks": ""
           }
          },
          "colorscale": {
           "diverging": [
            [
             0,
             "#8e0152"
            ],
            [
             0.1,
             "#c51b7d"
            ],
            [
             0.2,
             "#de77ae"
            ],
            [
             0.3,
             "#f1b6da"
            ],
            [
             0.4,
             "#fde0ef"
            ],
            [
             0.5,
             "#f7f7f7"
            ],
            [
             0.6,
             "#e6f5d0"
            ],
            [
             0.7,
             "#b8e186"
            ],
            [
             0.8,
             "#7fbc41"
            ],
            [
             0.9,
             "#4d9221"
            ],
            [
             1,
             "#276419"
            ]
           ],
           "sequential": [
            [
             0,
             "#0d0887"
            ],
            [
             0.1111111111111111,
             "#46039f"
            ],
            [
             0.2222222222222222,
             "#7201a8"
            ],
            [
             0.3333333333333333,
             "#9c179e"
            ],
            [
             0.4444444444444444,
             "#bd3786"
            ],
            [
             0.5555555555555556,
             "#d8576b"
            ],
            [
             0.6666666666666666,
             "#ed7953"
            ],
            [
             0.7777777777777778,
             "#fb9f3a"
            ],
            [
             0.8888888888888888,
             "#fdca26"
            ],
            [
             1,
             "#f0f921"
            ]
           ],
           "sequentialminus": [
            [
             0,
             "#0d0887"
            ],
            [
             0.1111111111111111,
             "#46039f"
            ],
            [
             0.2222222222222222,
             "#7201a8"
            ],
            [
             0.3333333333333333,
             "#9c179e"
            ],
            [
             0.4444444444444444,
             "#bd3786"
            ],
            [
             0.5555555555555556,
             "#d8576b"
            ],
            [
             0.6666666666666666,
             "#ed7953"
            ],
            [
             0.7777777777777778,
             "#fb9f3a"
            ],
            [
             0.8888888888888888,
             "#fdca26"
            ],
            [
             1,
             "#f0f921"
            ]
           ]
          },
          "colorway": [
           "#636efa",
           "#EF553B",
           "#00cc96",
           "#ab63fa",
           "#FFA15A",
           "#19d3f3",
           "#FF6692",
           "#B6E880",
           "#FF97FF",
           "#FECB52"
          ],
          "font": {
           "color": "#2a3f5f"
          },
          "geo": {
           "bgcolor": "white",
           "lakecolor": "white",
           "landcolor": "#E5ECF6",
           "showlakes": true,
           "showland": true,
           "subunitcolor": "white"
          },
          "hoverlabel": {
           "align": "left"
          },
          "hovermode": "closest",
          "mapbox": {
           "style": "light"
          },
          "paper_bgcolor": "white",
          "plot_bgcolor": "#E5ECF6",
          "polar": {
           "angularaxis": {
            "gridcolor": "white",
            "linecolor": "white",
            "ticks": ""
           },
           "bgcolor": "#E5ECF6",
           "radialaxis": {
            "gridcolor": "white",
            "linecolor": "white",
            "ticks": ""
           }
          },
          "scene": {
           "xaxis": {
            "backgroundcolor": "#E5ECF6",
            "gridcolor": "white",
            "gridwidth": 2,
            "linecolor": "white",
            "showbackground": true,
            "ticks": "",
            "zerolinecolor": "white"
           },
           "yaxis": {
            "backgroundcolor": "#E5ECF6",
            "gridcolor": "white",
            "gridwidth": 2,
            "linecolor": "white",
            "showbackground": true,
            "ticks": "",
            "zerolinecolor": "white"
           },
           "zaxis": {
            "backgroundcolor": "#E5ECF6",
            "gridcolor": "white",
            "gridwidth": 2,
            "linecolor": "white",
            "showbackground": true,
            "ticks": "",
            "zerolinecolor": "white"
           }
          },
          "shapedefaults": {
           "line": {
            "color": "#2a3f5f"
           }
          },
          "ternary": {
           "aaxis": {
            "gridcolor": "white",
            "linecolor": "white",
            "ticks": ""
           },
           "baxis": {
            "gridcolor": "white",
            "linecolor": "white",
            "ticks": ""
           },
           "bgcolor": "#E5ECF6",
           "caxis": {
            "gridcolor": "white",
            "linecolor": "white",
            "ticks": ""
           }
          },
          "title": {
           "x": 0.05
          },
          "xaxis": {
           "automargin": true,
           "gridcolor": "white",
           "linecolor": "white",
           "ticks": "",
           "title": {
            "standoff": 15
           },
           "zerolinecolor": "white",
           "zerolinewidth": 2
          },
          "yaxis": {
           "automargin": true,
           "gridcolor": "white",
           "linecolor": "white",
           "ticks": "",
           "title": {
            "standoff": 15
           },
           "zerolinecolor": "white",
           "zerolinewidth": 2
          }
         }
        },
        "xaxis": {
         "anchor": "y",
         "domain": [
          0,
          1
         ],
         "title": {
          "text": "coef"
         }
        },
        "yaxis": {
         "anchor": "x",
         "domain": [
          0,
          1
         ],
         "title": {
          "text": "m/z"
         }
        }
       }
      },
      "text/html": [
       "<div>                            <div id=\"44ea5383-cafe-4ff4-82c7-cda21552fb5b\" class=\"plotly-graph-div\" style=\"height:525px; width:100%;\"></div>            <script type=\"text/javascript\">                require([\"plotly\"], function(Plotly) {                    window.PLOTLYENV=window.PLOTLYENV || {};                                    if (document.getElementById(\"44ea5383-cafe-4ff4-82c7-cda21552fb5b\")) {                    Plotly.newPlot(                        \"44ea5383-cafe-4ff4-82c7-cda21552fb5b\",                        [{\"alignmentgroup\":\"True\",\"hovertemplate\":\"coef=%{x}<br>m/z=%{y}<extra></extra>\",\"legendgroup\":\"\",\"marker\":{\"color\":\"#636efa\",\"pattern\":{\"shape\":\"\"}},\"name\":\"\",\"offsetgroup\":\"\",\"orientation\":\"h\",\"showlegend\":false,\"textposition\":\"auto\",\"x\":[0.0,0.0,0.0,0.0,0.0,0.0,0.0,0.0,0.0,0.0,0.0,0.0,0.0,0.0,0.0,0.0,0.0,0.0],\"xaxis\":\"x\",\"y\":[\"869.7241\",\"909.5496\",\"269.2486\",\"736.6464\",\"535.4734\",\"559.4732\",\"609.5114\",\"682.5922\",\"846.5858\",\"633.5108\",\"445.3172\",\"683.5948\",\"269.0878\",\"215.0328\",\"283.255\",\"671.4661\",\"610.5128\",\"175.0246\"],\"yaxis\":\"y\",\"type\":\"bar\"}],                        {\"template\":{\"data\":{\"bar\":[{\"error_x\":{\"color\":\"#2a3f5f\"},\"error_y\":{\"color\":\"#2a3f5f\"},\"marker\":{\"line\":{\"color\":\"#E5ECF6\",\"width\":0.5},\"pattern\":{\"fillmode\":\"overlay\",\"size\":10,\"solidity\":0.2}},\"type\":\"bar\"}],\"barpolar\":[{\"marker\":{\"line\":{\"color\":\"#E5ECF6\",\"width\":0.5},\"pattern\":{\"fillmode\":\"overlay\",\"size\":10,\"solidity\":0.2}},\"type\":\"barpolar\"}],\"carpet\":[{\"aaxis\":{\"endlinecolor\":\"#2a3f5f\",\"gridcolor\":\"white\",\"linecolor\":\"white\",\"minorgridcolor\":\"white\",\"startlinecolor\":\"#2a3f5f\"},\"baxis\":{\"endlinecolor\":\"#2a3f5f\",\"gridcolor\":\"white\",\"linecolor\":\"white\",\"minorgridcolor\":\"white\",\"startlinecolor\":\"#2a3f5f\"},\"type\":\"carpet\"}],\"choropleth\":[{\"colorbar\":{\"outlinewidth\":0,\"ticks\":\"\"},\"type\":\"choropleth\"}],\"contour\":[{\"colorbar\":{\"outlinewidth\":0,\"ticks\":\"\"},\"colorscale\":[[0.0,\"#0d0887\"],[0.1111111111111111,\"#46039f\"],[0.2222222222222222,\"#7201a8\"],[0.3333333333333333,\"#9c179e\"],[0.4444444444444444,\"#bd3786\"],[0.5555555555555556,\"#d8576b\"],[0.6666666666666666,\"#ed7953\"],[0.7777777777777778,\"#fb9f3a\"],[0.8888888888888888,\"#fdca26\"],[1.0,\"#f0f921\"]],\"type\":\"contour\"}],\"contourcarpet\":[{\"colorbar\":{\"outlinewidth\":0,\"ticks\":\"\"},\"type\":\"contourcarpet\"}],\"heatmap\":[{\"colorbar\":{\"outlinewidth\":0,\"ticks\":\"\"},\"colorscale\":[[0.0,\"#0d0887\"],[0.1111111111111111,\"#46039f\"],[0.2222222222222222,\"#7201a8\"],[0.3333333333333333,\"#9c179e\"],[0.4444444444444444,\"#bd3786\"],[0.5555555555555556,\"#d8576b\"],[0.6666666666666666,\"#ed7953\"],[0.7777777777777778,\"#fb9f3a\"],[0.8888888888888888,\"#fdca26\"],[1.0,\"#f0f921\"]],\"type\":\"heatmap\"}],\"heatmapgl\":[{\"colorbar\":{\"outlinewidth\":0,\"ticks\":\"\"},\"colorscale\":[[0.0,\"#0d0887\"],[0.1111111111111111,\"#46039f\"],[0.2222222222222222,\"#7201a8\"],[0.3333333333333333,\"#9c179e\"],[0.4444444444444444,\"#bd3786\"],[0.5555555555555556,\"#d8576b\"],[0.6666666666666666,\"#ed7953\"],[0.7777777777777778,\"#fb9f3a\"],[0.8888888888888888,\"#fdca26\"],[1.0,\"#f0f921\"]],\"type\":\"heatmapgl\"}],\"histogram\":[{\"marker\":{\"pattern\":{\"fillmode\":\"overlay\",\"size\":10,\"solidity\":0.2}},\"type\":\"histogram\"}],\"histogram2d\":[{\"colorbar\":{\"outlinewidth\":0,\"ticks\":\"\"},\"colorscale\":[[0.0,\"#0d0887\"],[0.1111111111111111,\"#46039f\"],[0.2222222222222222,\"#7201a8\"],[0.3333333333333333,\"#9c179e\"],[0.4444444444444444,\"#bd3786\"],[0.5555555555555556,\"#d8576b\"],[0.6666666666666666,\"#ed7953\"],[0.7777777777777778,\"#fb9f3a\"],[0.8888888888888888,\"#fdca26\"],[1.0,\"#f0f921\"]],\"type\":\"histogram2d\"}],\"histogram2dcontour\":[{\"colorbar\":{\"outlinewidth\":0,\"ticks\":\"\"},\"colorscale\":[[0.0,\"#0d0887\"],[0.1111111111111111,\"#46039f\"],[0.2222222222222222,\"#7201a8\"],[0.3333333333333333,\"#9c179e\"],[0.4444444444444444,\"#bd3786\"],[0.5555555555555556,\"#d8576b\"],[0.6666666666666666,\"#ed7953\"],[0.7777777777777778,\"#fb9f3a\"],[0.8888888888888888,\"#fdca26\"],[1.0,\"#f0f921\"]],\"type\":\"histogram2dcontour\"}],\"mesh3d\":[{\"colorbar\":{\"outlinewidth\":0,\"ticks\":\"\"},\"type\":\"mesh3d\"}],\"parcoords\":[{\"line\":{\"colorbar\":{\"outlinewidth\":0,\"ticks\":\"\"}},\"type\":\"parcoords\"}],\"pie\":[{\"automargin\":true,\"type\":\"pie\"}],\"scatter\":[{\"marker\":{\"colorbar\":{\"outlinewidth\":0,\"ticks\":\"\"}},\"type\":\"scatter\"}],\"scatter3d\":[{\"line\":{\"colorbar\":{\"outlinewidth\":0,\"ticks\":\"\"}},\"marker\":{\"colorbar\":{\"outlinewidth\":0,\"ticks\":\"\"}},\"type\":\"scatter3d\"}],\"scattercarpet\":[{\"marker\":{\"colorbar\":{\"outlinewidth\":0,\"ticks\":\"\"}},\"type\":\"scattercarpet\"}],\"scattergeo\":[{\"marker\":{\"colorbar\":{\"outlinewidth\":0,\"ticks\":\"\"}},\"type\":\"scattergeo\"}],\"scattergl\":[{\"marker\":{\"colorbar\":{\"outlinewidth\":0,\"ticks\":\"\"}},\"type\":\"scattergl\"}],\"scattermapbox\":[{\"marker\":{\"colorbar\":{\"outlinewidth\":0,\"ticks\":\"\"}},\"type\":\"scattermapbox\"}],\"scatterpolar\":[{\"marker\":{\"colorbar\":{\"outlinewidth\":0,\"ticks\":\"\"}},\"type\":\"scatterpolar\"}],\"scatterpolargl\":[{\"marker\":{\"colorbar\":{\"outlinewidth\":0,\"ticks\":\"\"}},\"type\":\"scatterpolargl\"}],\"scatterternary\":[{\"marker\":{\"colorbar\":{\"outlinewidth\":0,\"ticks\":\"\"}},\"type\":\"scatterternary\"}],\"surface\":[{\"colorbar\":{\"outlinewidth\":0,\"ticks\":\"\"},\"colorscale\":[[0.0,\"#0d0887\"],[0.1111111111111111,\"#46039f\"],[0.2222222222222222,\"#7201a8\"],[0.3333333333333333,\"#9c179e\"],[0.4444444444444444,\"#bd3786\"],[0.5555555555555556,\"#d8576b\"],[0.6666666666666666,\"#ed7953\"],[0.7777777777777778,\"#fb9f3a\"],[0.8888888888888888,\"#fdca26\"],[1.0,\"#f0f921\"]],\"type\":\"surface\"}],\"table\":[{\"cells\":{\"fill\":{\"color\":\"#EBF0F8\"},\"line\":{\"color\":\"white\"}},\"header\":{\"fill\":{\"color\":\"#C8D4E3\"},\"line\":{\"color\":\"white\"}},\"type\":\"table\"}]},\"layout\":{\"annotationdefaults\":{\"arrowcolor\":\"#2a3f5f\",\"arrowhead\":0,\"arrowwidth\":1},\"autotypenumbers\":\"strict\",\"coloraxis\":{\"colorbar\":{\"outlinewidth\":0,\"ticks\":\"\"}},\"colorscale\":{\"diverging\":[[0,\"#8e0152\"],[0.1,\"#c51b7d\"],[0.2,\"#de77ae\"],[0.3,\"#f1b6da\"],[0.4,\"#fde0ef\"],[0.5,\"#f7f7f7\"],[0.6,\"#e6f5d0\"],[0.7,\"#b8e186\"],[0.8,\"#7fbc41\"],[0.9,\"#4d9221\"],[1,\"#276419\"]],\"sequential\":[[0.0,\"#0d0887\"],[0.1111111111111111,\"#46039f\"],[0.2222222222222222,\"#7201a8\"],[0.3333333333333333,\"#9c179e\"],[0.4444444444444444,\"#bd3786\"],[0.5555555555555556,\"#d8576b\"],[0.6666666666666666,\"#ed7953\"],[0.7777777777777778,\"#fb9f3a\"],[0.8888888888888888,\"#fdca26\"],[1.0,\"#f0f921\"]],\"sequentialminus\":[[0.0,\"#0d0887\"],[0.1111111111111111,\"#46039f\"],[0.2222222222222222,\"#7201a8\"],[0.3333333333333333,\"#9c179e\"],[0.4444444444444444,\"#bd3786\"],[0.5555555555555556,\"#d8576b\"],[0.6666666666666666,\"#ed7953\"],[0.7777777777777778,\"#fb9f3a\"],[0.8888888888888888,\"#fdca26\"],[1.0,\"#f0f921\"]]},\"colorway\":[\"#636efa\",\"#EF553B\",\"#00cc96\",\"#ab63fa\",\"#FFA15A\",\"#19d3f3\",\"#FF6692\",\"#B6E880\",\"#FF97FF\",\"#FECB52\"],\"font\":{\"color\":\"#2a3f5f\"},\"geo\":{\"bgcolor\":\"white\",\"lakecolor\":\"white\",\"landcolor\":\"#E5ECF6\",\"showlakes\":true,\"showland\":true,\"subunitcolor\":\"white\"},\"hoverlabel\":{\"align\":\"left\"},\"hovermode\":\"closest\",\"mapbox\":{\"style\":\"light\"},\"paper_bgcolor\":\"white\",\"plot_bgcolor\":\"#E5ECF6\",\"polar\":{\"angularaxis\":{\"gridcolor\":\"white\",\"linecolor\":\"white\",\"ticks\":\"\"},\"bgcolor\":\"#E5ECF6\",\"radialaxis\":{\"gridcolor\":\"white\",\"linecolor\":\"white\",\"ticks\":\"\"}},\"scene\":{\"xaxis\":{\"backgroundcolor\":\"#E5ECF6\",\"gridcolor\":\"white\",\"gridwidth\":2,\"linecolor\":\"white\",\"showbackground\":true,\"ticks\":\"\",\"zerolinecolor\":\"white\"},\"yaxis\":{\"backgroundcolor\":\"#E5ECF6\",\"gridcolor\":\"white\",\"gridwidth\":2,\"linecolor\":\"white\",\"showbackground\":true,\"ticks\":\"\",\"zerolinecolor\":\"white\"},\"zaxis\":{\"backgroundcolor\":\"#E5ECF6\",\"gridcolor\":\"white\",\"gridwidth\":2,\"linecolor\":\"white\",\"showbackground\":true,\"ticks\":\"\",\"zerolinecolor\":\"white\"}},\"shapedefaults\":{\"line\":{\"color\":\"#2a3f5f\"}},\"ternary\":{\"aaxis\":{\"gridcolor\":\"white\",\"linecolor\":\"white\",\"ticks\":\"\"},\"baxis\":{\"gridcolor\":\"white\",\"linecolor\":\"white\",\"ticks\":\"\"},\"bgcolor\":\"#E5ECF6\",\"caxis\":{\"gridcolor\":\"white\",\"linecolor\":\"white\",\"ticks\":\"\"}},\"title\":{\"x\":0.05},\"xaxis\":{\"automargin\":true,\"gridcolor\":\"white\",\"linecolor\":\"white\",\"ticks\":\"\",\"title\":{\"standoff\":15},\"zerolinecolor\":\"white\",\"zerolinewidth\":2},\"yaxis\":{\"automargin\":true,\"gridcolor\":\"white\",\"linecolor\":\"white\",\"ticks\":\"\",\"title\":{\"standoff\":15},\"zerolinecolor\":\"white\",\"zerolinewidth\":2}}},\"xaxis\":{\"anchor\":\"y\",\"domain\":[0.0,1.0],\"title\":{\"text\":\"coef\"}},\"yaxis\":{\"anchor\":\"x\",\"domain\":[0.0,1.0],\"title\":{\"text\":\"m/z\"}},\"legend\":{\"tracegroupgap\":0},\"margin\":{\"t\":60},\"barmode\":\"relative\"},                        {\"responsive\": true}                    ).then(function(){\n",
       "                            \n",
       "var gd = document.getElementById('44ea5383-cafe-4ff4-82c7-cda21552fb5b');\n",
       "var x = new MutationObserver(function (mutations, observer) {{\n",
       "        var display = window.getComputedStyle(gd).display;\n",
       "        if (!display || display === 'none') {{\n",
       "            console.log([gd, 'removed!']);\n",
       "            Plotly.purge(gd);\n",
       "            observer.disconnect();\n",
       "        }}\n",
       "}});\n",
       "\n",
       "// Listen for the removal of the full notebook cells\n",
       "var notebookContainer = gd.closest('#notebook-container');\n",
       "if (notebookContainer) {{\n",
       "    x.observe(notebookContainer, {childList: true});\n",
       "}}\n",
       "\n",
       "// Listen for the clearing of the current output cell\n",
       "var outputEl = gd.closest('.output');\n",
       "if (outputEl) {{\n",
       "    x.observe(outputEl, {childList: true});\n",
       "}}\n",
       "\n",
       "                        })                };                });            </script>        </div>"
      ]
     },
     "metadata": {},
     "output_type": "display_data"
    }
   ],
   "source": [
    "coeff_LogReg, TOPfeatures_LogReg = LogisticRegression_func()"
   ]
  },
  {
   "cell_type": "code",
   "execution_count": 189,
   "id": "ae3652ea",
   "metadata": {},
   "outputs": [],
   "source": [
    "## Build XGBoost Model\n",
    "import xgboost as xgb\n",
    "\n",
    "\n",
    "def XGBoost_func(XTrain=X_val, XVal=X_train, XTest=X_FNA, yTrain=y_val, yVal=y_train, yTest=y_FNA):\n",
    "\n",
    "    model_xgb = xgb.XGBClassifier(\n",
    "        base_score = 0.5, \n",
    "        booster = 'gbtree', \n",
    "        colsample_bylevel = 1, \n",
    "        colsample_bynode = 1, \n",
    "        colsample_bytree = 1, \n",
    "        enable_categorical = False, \n",
    "        eval_metric = 'auc', \n",
    "        gamma = 0, \n",
    "        gpu_id = -1, \n",
    "        grow_policy = 'lossguide', \n",
    "        importance_type = None, \n",
    "        learning_rate = 25, \n",
    "        max_bin = 256, \n",
    "        max_cat_to_onehot = 4, \n",
    "        max_delta_step = 0, \n",
    "        max_depth = 6, \n",
    "        max_leaves = 0, \n",
    "        min_child_weight = 1, \n",
    "        #missing = nan, \n",
    "        monotone_constraints = '()', \n",
    "        n_estimators = 25, \n",
    "        n_jobs = 0, \n",
    "        num_parallel_tree = 1, \n",
    "        objective = 'binary:hinge', \n",
    "        predictor = 'auto', \n",
    "        random_state = 0, \n",
    "        reg_alpha = 0, \n",
    "        reg_lambda = 1, \n",
    "        sampling_method = 'uniform', \n",
    "        scale_pos_weight = None, \n",
    "        subsample = 1, \n",
    "        tree_method = 'hist', \n",
    "        use_label_encoder = False, \n",
    "        validate_parameters = 1, \n",
    "        verbosity = None, \n",
    "        early_stopping_rounds = 10)\n",
    "\n",
    "    model_xgb.fit(XTrain, yTrain, \n",
    "                  eval_set=[(XTrain, yTrain), (XTest, yTest)])\n",
    "    \n",
    "    # Training Set\n",
    "    #plt.rcParams[\"figure.figsize\"] = (3,3)\n",
    "    X_train_predictions = model_xgb.predict(XVal)\n",
    "    print(\"Training Set F1:\", f1_score(yVal, model_xgb.predict(XVal), sample_weight=sampleW))\n",
    "    print(\"Training Set MCC:\", matthews_corrcoef(yVal, model_xgb.predict(XVal), sample_weight=sampleW))\n",
    "    print(\"Training Set Accuracy:\", metrics.accuracy_score(yVal, X_train_predictions))\n",
    "    print(classification_report(yVal, X_train_predictions))\n",
    "    print(confusion_matrix(yVal, X_train_predictions))\n",
    "\n",
    "    #create ROC curve\n",
    "    plt.subplots(dpi = 300)\n",
    "    fpr, tpr, _ = metrics.roc_curve(yVal, X_train_predictions)\n",
    "    plt.plot(fpr,tpr)\n",
    "    plt.ylabel('True Positive Rate', fontsize=18)\n",
    "    plt.xlabel('False Positive Rate', fontsize=18)\n",
    "    plt.xticks(fontsize=16)\n",
    "    plt.yticks(fontsize=16)\n",
    "    #plt.rcParams['figure.figsize'] = [2, 2]\n",
    "    #plt.savefig(r\"H:/3_2_Output_raMSI_DataIngestion_DESIQE_12F/XGB_FNA/LogReg_ROC_train.tif\", bbox_inches = 'tight')\n",
    "    #plt.show()\n",
    "\n",
    "    # Val set\n",
    "    predictions_val  = model_xgb.predict(XTrain)\n",
    "    print(\"Ext Val Set F1:\", f1_score(yTrain, model_xgb.predict(XTrain), sample_weight=sampleExtW))\n",
    "    print(\"Ext Val Set MCC:\", matthews_corrcoef(yTrain, model_xgb.predict(XTrain), sample_weight=sampleExtW))\n",
    "    print(\"Ext Val Set Accuracy:\",metrics.accuracy_score(yTrain, predictions_val))\n",
    "    print(classification_report(yTrain, predictions_val))\n",
    "    print(confusion_matrix(yTrain, predictions_val))\n",
    "\n",
    "    #create ROC curve\n",
    "    plt.subplots(dpi = 300)\n",
    "    fpr_val, tpr_val, _ = metrics.roc_curve(yTrain, predictions_val)\n",
    "    plt.plot(fpr_val,tpr_val)\n",
    "    plt.ylabel('True Positive Rate', fontsize=18)\n",
    "    plt.xlabel('False Positive Rate', fontsize=18)\n",
    "    plt.xticks(fontsize=16)\n",
    "    plt.yticks(fontsize=16)\n",
    "    #plt.rcParams['figure.figsize'] = [2, 2]\n",
    "    #plt.savefig(r\"H:/3_2_Output_raMSI_DataIngestion_DESIQE_12F/XGB_FNA/LogReg_ROC_test.tif\", bbox_inches = 'tight')\n",
    "    #plt.show()\n",
    "    \n",
    "    f1_10_train = cross_val_score(model_xgb, XTrain, yTrain, cv = 3, scoring=f1)\n",
    "    print(\"3F-CV:\", avgScore(f1_10_train, 3))\n",
    "    \n",
    "    # Test set\n",
    "    predictions_FNA = model_xgb.predict(XTest)\n",
    "    print(\"FNA Set F1:\", f1_score(yTest, model_xgb.predict(XTest), sample_weight=sampleFNAW))\n",
    "    print(\"FNA Set MCC:\", matthews_corrcoef(yTest, model_xgb.predict(XTest), sample_weight=sampleFNAW))\n",
    "    print(\"FNA Set Recall:\", recall_score(yTest, model_xgb.predict(XTest)))\n",
    "    print(\"FNA Test Set Accuracy:\",metrics.accuracy_score(yTest, predictions_FNA))\n",
    "    print(classification_report(yTest, predictions_FNA))\n",
    "    print(confusion_matrix(yTest, predictions_FNA))\n",
    "\n",
    "    #create ROC curve\n",
    "    plt.subplots(dpi = 300)\n",
    "    fpr_FNA, tpr_FNA, _ = metrics.roc_curve(yTest, predictions_FNA)\n",
    "    plt.plot(fpr_FNA,tpr_FNA)\n",
    "    plt.ylabel('True Positive Rate', fontsize=18)\n",
    "    plt.xlabel('False Positive Rate', fontsize=18)\n",
    "    plt.xticks(fontsize=16)\n",
    "    plt.yticks(fontsize=16)\n",
    "    #plt.rcParams['figure.figsize'] = [2, 2]\n",
    "    #plt.savefig(r\"G:/raMSIn/XGB_Importance2/XGB2_ROC_FNAtest2.tif\", bbox_inches = 'tight')\n",
    "    #plt.show()\n",
    "    \n",
    "    # Visualize the importantance of the features\n",
    "    feature_imp = pd.Series(model_xgb.feature_importances_, index=XTrain.columns).sort_values(ascending=False)\n",
    "    x=feature_imp\n",
    "    y=feature_imp.index\n",
    "    \n",
    "    plt.subplots(dpi = 300)\n",
    "    #plt.rcParams[\"figure.figsize\"] = [4, 6]\n",
    "    #plt.rcParams[\"font.family\"] = \"Arial\"\n",
    "    #plt.rcParams.update({'font.size': 6})\n",
    "    plt.xlabel('Feature Importance Score', fontproperties='Arial', fontsize=17)\n",
    "    plt.ylabel('Features', fontproperties='Arial', fontsize=17)\n",
    "    plt.xticks(fontsize=15)\n",
    "    plt.yticks(fontsize=15)\n",
    "    plt.title(\"Important Molecular Features\", fontproperties='Arial', fontsize=20)\n",
    "    sns.barplot(x=feature_imp, y=feature_imp.index)\n",
    "    #plt.savefig(r\"H:/3_2_Output_raMSI_DataIngestion_DESIQE_12F/XGB_FNA/XGB_TopFeatures.tif\", bbox_inches = 'tight')\n",
    "    #plt.show()\n",
    "\n",
    "    # Visualize the boxplot of the important features between the two groups\n",
    "    #fig = px.box(data_frame = df_ROI_for_ML_Opti,x = feature_imp[:20].index,color= 'type')\n",
    "    #fig.show()\n",
    "    \n",
    "    return x, y"
   ]
  },
  {
   "cell_type": "code",
   "execution_count": 190,
   "id": "8936e108",
   "metadata": {
    "scrolled": true
   },
   "outputs": [
    {
     "name": "stdout",
     "output_type": "stream",
     "text": [
      "[0]\tvalidation_0-auc:0.97143\tvalidation_1-auc:0.56335\n",
      "[1]\tvalidation_0-auc:0.83031\tvalidation_1-auc:0.56474\n",
      "[2]\tvalidation_0-auc:0.77260\tvalidation_1-auc:0.49493\n",
      "[3]\tvalidation_0-auc:0.90628\tvalidation_1-auc:0.51820\n",
      "[4]\tvalidation_0-auc:0.76489\tvalidation_1-auc:0.49970\n",
      "[5]\tvalidation_0-auc:0.91489\tvalidation_1-auc:0.51850\n",
      "[6]\tvalidation_0-auc:0.76642\tvalidation_1-auc:0.49319\n",
      "[7]\tvalidation_0-auc:0.90478\tvalidation_1-auc:0.53482\n",
      "[8]\tvalidation_0-auc:0.76992\tvalidation_1-auc:0.49298\n",
      "[9]\tvalidation_0-auc:0.90289\tvalidation_1-auc:0.53376\n",
      "[10]\tvalidation_0-auc:0.76992\tvalidation_1-auc:0.49298\n",
      "[11]\tvalidation_0-auc:0.89743\tvalidation_1-auc:0.53376\n",
      "Training Set F1: 0.6396475936790568\n",
      "Training Set MCC: 0.39309105505436515\n",
      "Training Set Accuracy: 0.6949538258575197\n",
      "              precision    recall  f1-score   support\n",
      "\n",
      "           0       0.67      0.83      0.74     47449\n",
      "           1       0.74      0.55      0.63     43511\n",
      "\n",
      "    accuracy                           0.69     90960\n",
      "   macro avg       0.71      0.69      0.69     90960\n",
      "weighted avg       0.70      0.69      0.69     90960\n",
      "\n",
      "[[39195  8254]\n",
      " [19493 24018]]\n",
      "Ext Val Set F1: 0.8301742051201421\n",
      "Ext Val Set MCC: 0.6606274948484053\n",
      "Ext Val Set Accuracy: 0.8302880658436214\n",
      "              precision    recall  f1-score   support\n",
      "\n",
      "           0       0.82      0.83      0.83      2943\n",
      "           1       0.84      0.83      0.83      3132\n",
      "\n",
      "    accuracy                           0.83      6075\n",
      "   macro avg       0.83      0.83      0.83      6075\n",
      "weighted avg       0.83      0.83      0.83      6075\n",
      "\n",
      "[[2446  497]\n",
      " [ 534 2598]]\n",
      "3F-CV: nan\n",
      "FNA Set F1: 0.6940910844266573\n",
      "FNA Set MCC: 0.24253898358244\n",
      "FNA Set Recall: 0.9875229274699395\n",
      "FNA Test Set Accuracy: 0.56293615630038\n",
      "              precision    recall  f1-score   support\n",
      "\n",
      "           0       0.92      0.14      0.25     44540\n",
      "           1       0.53      0.99      0.69     44161\n",
      "\n",
      "    accuracy                           0.56     88701\n",
      "   macro avg       0.73      0.56      0.47     88701\n",
      "weighted avg       0.73      0.56      0.47     88701\n",
      "\n",
      "[[ 6323 38217]\n",
      " [  551 43610]]\n"
     ]
    }
   ],
   "source": [
    "coeff_XGB, TOPfeatures_XGB = XGBoost_func()"
   ]
  },
  {
   "cell_type": "code",
   "execution_count": null,
   "id": "d90b0a19",
   "metadata": {},
   "outputs": [],
   "source": []
  }
 ],
 "metadata": {
  "kernelspec": {
   "display_name": "Python 3 (ipykernel)",
   "language": "python",
   "name": "python3"
  },
  "language_info": {
   "codemirror_mode": {
    "name": "ipython",
    "version": 3
   },
   "file_extension": ".py",
   "mimetype": "text/x-python",
   "name": "python",
   "nbconvert_exporter": "python",
   "pygments_lexer": "ipython3",
   "version": "3.9.12"
  }
 },
 "nbformat": 4,
 "nbformat_minor": 5
}
