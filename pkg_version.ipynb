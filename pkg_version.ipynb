{
 "cells": [
  {
   "cell_type": "code",
   "execution_count": 36,
   "id": "ed496464",
   "metadata": {},
   "outputs": [
    {
     "name": "stdout",
     "output_type": "stream",
     "text": [
      "findspark  2.0.1\n",
      "pyimzml  1.5.2\n",
      "pymsfilereader  1.0.1\n",
      "pd  1.4.2\n",
      "re  2.2.1\n",
      "pyspark  3.3.0\n"
     ]
    }
   ],
   "source": [
    "import findspark\n",
    "print(\"findspark \", findspark.__version__)\n",
    "import pyimzml\n",
    "from pyimzml.ImzMLParser import ImzMLParser\n",
    "print(\"pyimzml \", pyimzml.__version__)\n",
    "from pymsfilereader import MSFileReader\n",
    "import pymsfilereader\n",
    "print(\"pymsfilereader \", pymsfilereader.__version__)\n",
    "import pandas as pd\n",
    "print(\"pd \", pd.__version__)\n",
    "import pyspark.sql.functions as F\n",
    "#print(\"F \", F.__version__)\n",
    "import glob\n",
    "#print(\"glob \", glob.__version__)\n",
    "import pathlib\n",
    "#print(\"pathlib \", pathlib.__version__)\n",
    "from pathlib import Path\n",
    "#print(\"Path \", Path.__version__)\n",
    "import re\n",
    "print(\"re \", re.__version__)\n",
    "from pyspark.sql import SparkSession\n",
    "import pyspark\n",
    "print(\"pyspark \", pyspark.__version__)"
   ]
  },
  {
   "cell_type": "code",
   "execution_count": 41,
   "id": "3a46a0df",
   "metadata": {},
   "outputs": [
    {
     "name": "stdout",
     "output_type": "stream",
     "text": [
      "np  1.21.5\n",
      "sns  0.11.2\n",
      "mpl  3.5.1\n",
      "plotly  5.6.0\n",
      "sm  0.13.5\n",
      "sklearn  1.0.2\n",
      "scipy  1.7.3\n"
     ]
    }
   ],
   "source": [
    "import math\n",
    "#print(\"math \", math.__version__)\n",
    "import random\n",
    "#print(\"random \", random.__version__)\n",
    "import numpy as np\n",
    "print(\"np \", np.__version__)\n",
    "import seaborn as sns\n",
    "print(\"sns \", sns.__version__)\n",
    "import matplotlib as mpl\n",
    "print(\"mpl \", mpl.__version__)\n",
    "import matplotlib.pyplot as plt\n",
    "#print(\"plt \", plt.__version__)\n",
    "import plotly.express as px\n",
    "import plotly\n",
    "print(\"plotly \", plotly.__version__)\n",
    "import statsmodels.api as sm\n",
    "print(\"sm \", sm.__version__)\n",
    "import pylab as py\n",
    "#print(\"py \", py.__version__)\n",
    "from sklearn import datasets\n",
    "import sklearn\n",
    "print(\"sklearn \", sklearn.__version__)\n",
    "#print(\"datasets \", datasets.__version__)\n",
    "from sklearn.datasets import make_blobs\n",
    "#print(\"make_blobs \", make_blobs.__version__)\n",
    "from sklearn.datasets import fetch_openml\n",
    "#print(\"fetch_openml \", fetch_openml.__version__)\n",
    "from scipy import stats\n",
    "import scipy\n",
    "print(\"scipy \", scipy.__version__)\n",
    "#print(\"stats \", stats.__version__)\n",
    "from scipy.stats import pearsonr\n",
    "#print(\"pearsonr \", pearsonr.__version__)\n",
    "from sklearn import preprocessing\n",
    "#print(\"preprocessing \", preprocessing.__version__)\n",
    "from sklearn.preprocessing import MinMaxScaler\n",
    "#print(\"MinMaxScaler \", MinMaxScaler.__version__)\n",
    "from sklearn.preprocessing import minmax_scale\n",
    "#print(\"findspark \", findspark.__version__)\n",
    "from sklearn.preprocessing import MaxAbsScaler\n",
    "#print(\"findspark \", findspark.__version__)\n",
    "from sklearn.preprocessing import StandardScaler\n",
    "#print(\"findspark \", findspark.__version__)\n",
    "from sklearn.preprocessing import RobustScaler\n",
    "#print(\"findspark \", findspark.__version__)\n",
    "from sklearn.preprocessing import QuantileTransformer\n",
    "#print(\"findspark \", findspark.__version__)"
   ]
  },
  {
   "cell_type": "code",
   "execution_count": 53,
   "id": "57004628",
   "metadata": {},
   "outputs": [
    {
     "name": "stdout",
     "output_type": "stream",
     "text": [
      "xw  0.24.9\n",
      "matplotlib  3.5.1\n",
      "cv2  4.6.0\n",
      "sklearn  1.0.2\n",
      "tf  2.12.0-dev20221107\n",
      "keras  2.12.0\n",
      "config  0.5.1\n",
      "argparse  1.1\n",
      "umap  0.5.3\n",
      "yellowbrick  1.5\n"
     ]
    }
   ],
   "source": [
    "import xlwings as xw\n",
    "print(\"xw \", xw.__version__)\n",
    "from matplotlib import cm\n",
    "import matplotlib\n",
    "print(\"matplotlib \", matplotlib.__version__)\n",
    "import matplotlib.colors as mclr\n",
    "#print(\"mclr \", mclr.__version__)\n",
    "import os, cv2, tempfile\n",
    "#print(\"os \", os.__version__)\n",
    "print(\"cv2 \", cv2.__version__)\n",
    "#print(\"tempfile \", tempfile.__version__)\n",
    "import sklearn\n",
    "print(\"sklearn \", sklearn.__version__)\n",
    "from sklearn.ensemble import RandomForestClassifier\n",
    "from sklearn import metrics\n",
    "from sklearn.metrics import confusion_matrix\n",
    "from sklearn.metrics import classification_report\n",
    "from sklearn.cluster import KMeans\n",
    "from sklearn.metrics import silhouette_score\n",
    "from sklearn.utils import shuffle\n",
    "from sklearn.model_selection import train_test_split, cross_val_score, cross_validate, KFold\n",
    "from sklearn import linear_model\n",
    "from sklearn.linear_model import LogisticRegression, LinearRegression\n",
    "from sklearn.neighbors import KNeighborsClassifier\n",
    "from sklearn.decomposition import PCA\n",
    "import tensorflow as tf\n",
    "print(\"tf \", tf.__version__)\n",
    "from tensorflow import keras\n",
    "print(\"keras \", keras.__version__)\n",
    "from keras.models import Sequential\n",
    "#print(\"findspark \", findspark.__version__)\n",
    "from keras.layers import BatchNormalization, Conv2D, MaxPooling2D, Activation, Dropout, Flatten, Dense\n",
    "from keras.optimizers import Adam\n",
    "from keras import utils as np_utils\n",
    "from keras import models\n",
    "import keras_tuner as kt\n",
    "from scipy import signal\n",
    "import config as config\n",
    "print(\"config \", config.__version__)\n",
    "from keras.callbacks import EarlyStopping\n",
    "from keras.utils import to_categorical\n",
    "from keras import backend as K\n",
    "import argparse\n",
    "print(\"argparse \", argparse.__version__)\n",
    "import shutil\n",
    "#print(\"shutil \", shutil.__version__)\n",
    "import umap\n",
    "print(\"umap \", umap.__version__)\n",
    "import umap.plot\n",
    "import umap.umap_ as umap\n",
    "from umap.umap_ import nearest_neighbors\n",
    "from matplotlib.pyplot import figure\n",
    "from yellowbrick.cluster import SilhouetteVisualizer\n",
    "import yellowbrick\n",
    "print(\"yellowbrick \", yellowbrick.__version__)\n",
    "from datetime import datetime\n",
    "#print(\"datetime \", datetime.__version__)\n"
   ]
  },
  {
   "cell_type": "code",
   "execution_count": 60,
   "id": "351cb705",
   "metadata": {},
   "outputs": [
    {
     "name": "stdout",
     "output_type": "stream",
     "text": [
      "statsmodels  0.13.5\n",
      "sklearn  1.0.2\n",
      "skopt  0.9.0\n",
      "sklearn  1.0.2\n",
      "xgb  1.7.3\n",
      "jl  1.1.0\n"
     ]
    }
   ],
   "source": [
    "from copy import deepcopy\n",
    "import copy\n",
    "#print(\"copy \", copy.__version__)\n",
    "from statsmodels.graphics.tsaplots import plot_acf,plot_pacf\n",
    "import statsmodels\n",
    "print(\"statsmodels \", statsmodels.__version__)\n",
    "from sklearn.model_selection import GridSearchCV,RandomizedSearchCV\n",
    "print(\"sklearn \", sklearn.__version__)\n",
    "from skopt import BayesSearchCV\n",
    "import skopt\n",
    "print(\"skopt \", skopt.__version__)\n",
    "from sklearn.metrics import accuracy_score,f1_score,roc_auc_score,roc_curve\n",
    "print(\"sklearn \", sklearn.__version__)\n",
    "import xgboost as xgb\n",
    "print(\"xgb \", xgb.__version__)\n",
    "import time\n",
    "#print(\"time \", time.__version__)\n",
    "import warnings\n",
    "#print(\"warnings \", warnings.__version__)\n",
    "import joblib as jl\n",
    "print(\"jl \", jl.__version__)\n",
    "import warnings\n",
    "#print(\"warnings \", warnings.__version__)"
   ]
  },
  {
   "cell_type": "code",
   "execution_count": null,
   "id": "34446ac9",
   "metadata": {},
   "outputs": [],
   "source": []
  }
 ],
 "metadata": {
  "kernelspec": {
   "display_name": "Python 3 (ipykernel)",
   "language": "python",
   "name": "python3"
  },
  "language_info": {
   "codemirror_mode": {
    "name": "ipython",
    "version": 3
   },
   "file_extension": ".py",
   "mimetype": "text/x-python",
   "name": "python",
   "nbconvert_exporter": "python",
   "pygments_lexer": "ipython3",
   "version": "3.9.12"
  }
 },
 "nbformat": 4,
 "nbformat_minor": 5
}
