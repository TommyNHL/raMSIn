{
 "cells": [
  {
   "cell_type": "markdown",
   "id": "16d379f9",
   "metadata": {},
   "source": [
    "# GUI Development of the Regression Equation Generator"
   ]
  },
  {
   "cell_type": "code",
   "execution_count": 8,
   "id": "1ff41737",
   "metadata": {
    "scrolled": true
   },
   "outputs": [],
   "source": [
    "# Python version 3.9\n",
    "# Java 8\n",
    "# Spark 3.2.0\n",
    "# If you are using a windows system, hadoop 3.2.2 should be installed\n",
    "\n",
    "# run below code if it's your first time\n",
    "# !pip install pyspark\n",
    "# !pip install findspark\n",
    "# !pip install pymsfilereader"
   ]
  },
  {
   "cell_type": "code",
   "execution_count": 9,
   "id": "629c8df9",
   "metadata": {},
   "outputs": [],
   "source": [
    "import glob\n",
    "import pandas as pd\n",
    "import numpy as np\n",
    "from pymsfilereader import MSFileReader"
   ]
  },
  {
   "cell_type": "code",
   "execution_count": 15,
   "id": "4d4032bc",
   "metadata": {},
   "outputs": [],
   "source": [
    "demoFile_MSI = glob.glob(\".\\demo_raw\\DESI_MSI\\*\")[0]\n",
    "demoFile_DI = glob.glob(\".\\demo_raw\\direct_infusion\\*\")[0]\n",
    "demoFile_LCMS = glob.glob(\".\\demo_raw\\LC_MS\\*\")[0]"
   ]
  },
  {
   "cell_type": "markdown",
   "id": "00c9833d",
   "metadata": {},
   "source": [
    "demoFile_MSI = glob.glob(r\"C:\\Users\\resea\\Python_LAB\\Work\\GUI\\GUI\\demo_raw\\DESI_MSI\\*\")[0]\n",
    "demoFile_DI = glob.glob(r\"C:\\Users\\resea\\Python_LAB\\Work\\GUI\\GUI\\demo_raw\\direct_infusion\\*\")[0]\n",
    "demoFile_LCMS = glob.glob(r\"C:\\Users\\resea\\Python_LAB\\Work\\GUI\\GUI\\demo_raw\\LC_MS\\*\")[0]"
   ]
  },
  {
   "cell_type": "code",
   "execution_count": 16,
   "id": "0ea6870c",
   "metadata": {},
   "outputs": [],
   "source": [
    "def process_one_file(file):\n",
    "    frame = []\n",
    "    try:\n",
    "        rawfile=MSFileReader(file)\n",
    "        for i in range(rawfile.FirstSpectrumNumber, rawfile.LastSpectrumNumber + 1):\n",
    "            labels, flags = rawfile.GetLabelData(i)\n",
    "            cur_df = pd.DataFrame({'x': i , 'm/z': labels.mass, 'intensity': labels.intensity, 'resolution': labels.resolution, 'noise': labels.noise})\n",
    "            frame.append(cur_df)\n",
    "        return frame\n",
    "    except IOError:\n",
    "        print(\"file error {file}\".format(file=file))"
   ]
  },
  {
   "cell_type": "code",
   "execution_count": 17,
   "id": "44ec329a",
   "metadata": {},
   "outputs": [],
   "source": [
    "def file_to_csv(file):\n",
    "    to_csv=file[0]\n",
    "    for i in range(1,len(file)):\n",
    "        cat = file[i]\n",
    "        to_csv = pd.concat([to_csv, cat])\n",
    "    to_csv['S/N'] = to_csv['intensity'] / to_csv['noise']\n",
    "    to_csv = to_csv.sort_values(by = ['S/N'], ascending = False).reset_index(drop = True).iloc[:1001]\n",
    "    return to_csv"
   ]
  },
  {
   "cell_type": "code",
   "execution_count": 18,
   "id": "c5e6d766",
   "metadata": {},
   "outputs": [],
   "source": [
    "file_to_csv(process_one_file(file=demoFile_MSI)).to_csv('demoFile_MSI_to_csv.csv')\n",
    "file_to_csv(process_one_file(file=demoFile_DI)).to_csv('demoFile_DI_to_csv.csv')\n",
    "file_to_csv(process_one_file(file=demoFile_LCMS)).to_csv('demoFile_LCMS_to_csv.csv')"
   ]
  },
  {
   "cell_type": "markdown",
   "id": "35d07050",
   "metadata": {},
   "source": [
    "demoFile_MSI_to_csv = file_to_csv(process_one_file(file=demoFile_MSI))\n",
    "demoFile_DI_to_csv = file_to_csv(process_one_file(file=demoFile_DI))\n",
    "demoFile_LCMS_to_csv = file_to_csv(process_one_file(file=demoFile_LCMS))"
   ]
  },
  {
   "cell_type": "markdown",
   "id": "a62bb07c",
   "metadata": {},
   "source": [
    "demoFile_MSI_to_csv.to_csv('demoFile_MSI_to_csv.csv')\n",
    "demoFile_DI_to_csv.to_csv('demoFile_DI_to_csv.csv')\n",
    "demoFile_LCMS_to_csv.to_csv('demoFile_LCMS_to_csv.csv')"
   ]
  },
  {
   "cell_type": "code",
   "execution_count": null,
   "id": "944321e0",
   "metadata": {},
   "outputs": [],
   "source": []
  }
 ],
 "metadata": {
  "kernelspec": {
   "display_name": "Python 3 (ipykernel)",
   "language": "python",
   "name": "python3"
  },
  "language_info": {
   "codemirror_mode": {
    "name": "ipython",
    "version": 3
   },
   "file_extension": ".py",
   "mimetype": "text/x-python",
   "name": "python",
   "nbconvert_exporter": "python",
   "pygments_lexer": "ipython3",
   "version": "3.9.13"
  }
 },
 "nbformat": 4,
 "nbformat_minor": 5
}
